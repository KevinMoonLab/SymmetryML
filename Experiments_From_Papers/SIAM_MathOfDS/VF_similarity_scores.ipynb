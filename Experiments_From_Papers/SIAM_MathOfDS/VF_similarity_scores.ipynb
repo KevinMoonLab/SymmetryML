{
 "cells": [
  {
   "cell_type": "code",
   "execution_count": 1,
   "id": "5af042f0-b68f-4d97-888b-bc310fee0761",
   "metadata": {},
   "outputs": [],
   "source": [
    "import numpy as np\n",
    "import scipy.integrate as integrate"
   ]
  },
  {
   "cell_type": "code",
   "execution_count": 2,
   "id": "4b9d7966-7d33-480a-890a-0d8b32cce663",
   "metadata": {},
   "outputs": [],
   "source": [
    "def fiveOneInt(r,theta):\n",
    "    term = r*(-0.70e-2*np.cos(theta)*r*np.sin(theta)-0.2e-3*np.sin(theta)-0.8e-3*r*np.cos(theta)**2+.7075*r-0.5e-3*np.cos(theta))/np.sqrt((2.9*10**(-7)-0.989572e-2*np.sin(theta)*np.cos(theta)*r**2-0.27720e-3*r*np.sin(theta)-0.116356e-2*r**2*np.cos(theta)**2-0.70622e-3*r*np.cos(theta)+.50058989*r**2))\n",
    "    return term"
   ]
  },
  {
   "cell_type": "code",
   "execution_count": 3,
   "id": "bbc5b9c1-7c94-4d4f-b0ba-e0f399fc0f36",
   "metadata": {},
   "outputs": [],
   "source": [
    "def One(r,theta):\n",
    "    term = r\n",
    "    return term"
   ]
  },
  {
   "cell_type": "code",
   "execution_count": 4,
   "id": "762fecff-7e02-4554-b7b6-0d1222d0195d",
   "metadata": {},
   "outputs": [
    {
     "name": "stdout",
     "output_type": "stream",
     "text": [
      "0.9999860506767706\n"
     ]
    }
   ],
   "source": [
    "fiveOneNumer = integrate.nquad(fiveOneInt,[[0,1],[0,2*np.pi]]);\n",
    "fiveOneDenom = integrate.nquad(One, [[0,1],[0,2*np.pi]]);\n",
    "fiveOneAns = fiveOneNumer[0]/fiveOneDenom[0]\n",
    "print(fiveOneAns)"
   ]
  },
  {
   "cell_type": "code",
   "execution_count": 5,
   "id": "3f01e3b1-5a65-4be8-b62b-6f3a43413f65",
   "metadata": {},
   "outputs": [],
   "source": [
    "def fiveThreeInt(x,y,z):\n",
    "    #term = -(11.31370850*(-2.82840*z*x**2*y+1.41320*y**4-2.82840*y**3*z+2.82840*z**2*y**2-2.82840*y*z**3+4.2436*z**2*x**2+1.4152*z**4+2.8284*x**4+4.2416*y**2*x**2+0.110e-1*x**3*z+0.1100e-1*y**2*x*z+0.110e-1*x*z**3+0.1100e-1*z**2*x*y+0.1100e-1*x**3*y+0.1100e-1*x*y**3))*(x**6+3.*x**4*y**2+3.*x**4*z**2+3.*x**2*y**4+6.*x**2*y**2*z**2+3.*x**2*z**4+y**6+3.*y**4*z**2+3.*y**2*z**4+z**6)/np.sqrt((-1.99996064*z*x**2*y+3.00141866*z**2*x**2+.99862762*y**4-1.99996064*y**3*z+2.00008364*z**2*y**2-1.99996064*y*z**3+1.00145602*z**4+0.155452e-1*y**2*x*z+1.99996264*x**4+2.99859026*y**2*x**2+0.155452e-1*x**3*z+0.155452e-1*x*z**3+0.155672e-1*z**2*x*y+0.155672e-1*x**3*y+0.155672e-1*x*y**3)*(2.*x**4+3.*y**2*x**2-2.*z*x**2*y+3.*z**2*x**2+y**4-2.*y**3*z+2.*z**2*y**2-2.*y*z**3+z**4))\n",
    "    term = np.abs((2.82840*z*x**2*y-1.41320*y**4+2.82840*y**3*z-2.82840*z**2*y**2+2.82840*y*z**3-4.2436*z**2*x**2-1.4152*z**4-2.8284*x**4-4.2416*y**2*x**2-0.110e-1*x**3*z-0.1100e-1*y**2*x*z-0.110e-1*x*z**3-0.1100e-1*z**2*x*y-0.1100e-1*x**3*y-0.1100e-1*x*y**3)/np.sqrt((-1.999960640*z*x**2*y+3.00141866*z**2*x**2+.9986276200*y**4-1.999960640*y**3*z+2.000083640*z**2*y**2-1.999960640*y*z**3+1.00145602*z**4+0.155452000e-1*y**2*x*z+1.99996264*x**4+2.99859026*y**2*x**2+0.1554520e-1*x**3*z+0.1554520e-1*x*z**3+0.15567200e-1*z**2*x*y+0.1556720e-1*x**3*y+0.1556720e-1*x*y**3)*(4*x**4+6*x**2*y**2-4*x**2*y*z+6*x**2*z**2+2*y**4-4*y**3*z+4*y**2*z**2-4*y*z**3+2*z**4)))\n",
    "    return term"
   ]
  },
  {
   "cell_type": "code",
   "execution_count": 6,
   "id": "83d7175f-d8cc-49c9-accb-7c8b9daa4417",
   "metadata": {},
   "outputs": [
    {
     "name": "stdout",
     "output_type": "stream",
     "text": [
      "0.9999161529791232\n"
     ]
    }
   ],
   "source": [
    "fiveThreeNumer = integrate.nquad(fiveThreeInt,[[0,1],[0,1],[0,1]])\n",
    "fiveThreeDenom = (1.0,0.0)\n",
    "fiveThreeAns = fiveThreeNumer[0]/fiveThreeDenom[0]\n",
    "print(fiveThreeAns)"
   ]
  },
  {
   "cell_type": "code",
   "execution_count": null,
   "id": "073394d8-d93e-4b3c-8107-453d124041d4",
   "metadata": {},
   "outputs": [],
   "source": []
  }
 ],
 "metadata": {
  "kernelspec": {
   "display_name": "Python 3 (ipykernel)",
   "language": "python",
   "name": "python3"
  },
  "language_info": {
   "codemirror_mode": {
    "name": "ipython",
    "version": 3
   },
   "file_extension": ".py",
   "mimetype": "text/x-python",
   "name": "python",
   "nbconvert_exporter": "python",
   "pygments_lexer": "ipython3",
   "version": "3.12.4"
  }
 },
 "nbformat": 4,
 "nbformat_minor": 5
}
