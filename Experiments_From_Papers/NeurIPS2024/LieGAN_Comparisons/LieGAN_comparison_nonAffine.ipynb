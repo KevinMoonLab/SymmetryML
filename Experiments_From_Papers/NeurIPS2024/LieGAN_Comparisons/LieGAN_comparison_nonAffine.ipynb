{
 "cells": [
  {
   "cell_type": "code",
   "execution_count": 6,
   "id": "39c134a2",
   "metadata": {},
   "outputs": [],
   "source": [
    "import numpy as np\n",
    "import matplotlib.pyplot as plt\n",
    "import random\n",
    "import torch\n",
    "import mctorch.nn as mnn\n",
    "import mctorch.optim as moptim\n",
    "import time\n",
    "from sklearn.preprocessing import PolynomialFeatures\n",
    "\n",
    "import OurMethod"
   ]
  },
  {
   "cell_type": "code",
   "execution_count": 7,
   "id": "415a8150",
   "metadata": {},
   "outputs": [],
   "source": [
    "SIZE = 2000"
   ]
  },
  {
   "cell_type": "code",
   "execution_count": 81,
   "id": "9f4525c4",
   "metadata": {},
   "outputs": [
    {
     "name": "stderr",
     "output_type": "stream",
     "text": [
      "  2%|▏         | 2/100 [00:00<00:17,  5.61it/s]"
     ]
    },
    {
     "name": "stdout",
     "output_type": "stream",
     "text": [
      "Epoch 0: D_real_loss=0.7346247145906091, D_fake_loss=0.8087070286273956, G_loss=0.7454595100134611, G_reg=0.6779910487239249, G_spreg=0.0, G_chreg=0.0\n",
      "Parameter containing:\n",
      "tensor([[[-0.2764, -0.8751],\n",
      "         [ 0.8744,  0.1582]]], requires_grad=True)\n",
      "Epoch 1: D_real_loss=0.6866248417645693, D_fake_loss=0.7218707669526339, G_loss=0.7279672343283892, G_reg=0.7060180549160577, G_spreg=0.0, G_chreg=0.0\n",
      "Parameter containing:\n",
      "tensor([[[-0.2636, -0.8206],\n",
      "         [ 0.8322,  0.1582]]], requires_grad=True)\n"
     ]
    },
    {
     "name": "stderr",
     "output_type": "stream",
     "text": [
      "  4%|▍         | 4/100 [00:00<00:15,  6.21it/s]"
     ]
    },
    {
     "name": "stdout",
     "output_type": "stream",
     "text": [
      "Epoch 2: D_real_loss=0.7091524470597506, D_fake_loss=0.6944470163434744, G_loss=0.7668108381330967, G_reg=0.7174635989940725, G_spreg=0.0, G_chreg=0.0\n",
      "Parameter containing:\n",
      "tensor([[[-0.2357, -0.7714],\n",
      "         [ 0.7978,  0.1297]]], requires_grad=True)\n",
      "Epoch 3: D_real_loss=0.6927506066858768, D_fake_loss=0.6930840890854597, G_loss=0.7583360355347395, G_reg=0.7442046407959424, G_spreg=0.0, G_chreg=0.0\n",
      "Parameter containing:\n",
      "tensor([[[-0.2073, -0.7212],\n",
      "         [ 0.7624,  0.0990]]], requires_grad=True)\n"
     ]
    },
    {
     "name": "stderr",
     "output_type": "stream",
     "text": [
      "  6%|▌         | 6/100 [00:00<00:14,  6.45it/s]"
     ]
    },
    {
     "name": "stdout",
     "output_type": "stream",
     "text": [
      "Epoch 4: D_real_loss=0.6789638046175241, D_fake_loss=0.7199264895170927, G_loss=0.7542999889701605, G_reg=0.7843929372029379, G_spreg=0.0, G_chreg=0.0\n",
      "Parameter containing:\n",
      "tensor([[[-0.1775, -0.6705],\n",
      "         [ 0.7240,  0.0756]]], requires_grad=True)\n",
      "Epoch 5: D_real_loss=0.7475880421698093, D_fake_loss=0.7123321481049061, G_loss=0.8198105860501528, G_reg=0.7999246343388222, G_spreg=0.0, G_chreg=0.0\n",
      "Parameter containing:\n",
      "tensor([[[-0.1447, -0.6268],\n",
      "         [ 0.6985,  0.0466]]], requires_grad=True)\n"
     ]
    },
    {
     "name": "stderr",
     "output_type": "stream",
     "text": [
      "  8%|▊         | 8/100 [00:01<00:15,  6.12it/s]"
     ]
    },
    {
     "name": "stdout",
     "output_type": "stream",
     "text": [
      "Epoch 6: D_real_loss=0.7151068951934576, D_fake_loss=0.7064527850598097, G_loss=0.7957490980625153, G_reg=0.8139927289448678, G_spreg=0.0, G_chreg=0.0\n",
      "Parameter containing:\n",
      "tensor([[[-0.1233, -0.5809],\n",
      "         [ 0.6576,  0.0158]]], requires_grad=True)\n",
      "Epoch 7: D_real_loss=0.6792975813150406, D_fake_loss=0.7810483109205961, G_loss=0.7417265009135008, G_reg=0.8384111482882872, G_spreg=0.0, G_chreg=0.0\n",
      "Parameter containing:\n",
      "tensor([[[-0.0928, -0.5397],\n",
      "         [ 0.6291, -0.0057]]], requires_grad=True)\n"
     ]
    },
    {
     "name": "stderr",
     "output_type": "stream",
     "text": [
      " 10%|█         | 10/100 [00:01<00:15,  5.98it/s]"
     ]
    },
    {
     "name": "stdout",
     "output_type": "stream",
     "text": [
      "Epoch 8: D_real_loss=0.6970245745033026, D_fake_loss=0.6988310534507036, G_loss=0.7644723616540432, G_reg=0.8489361265674233, G_spreg=0.0, G_chreg=0.0\n",
      "Parameter containing:\n",
      "tensor([[[-0.0611, -0.4970],\n",
      "         [ 0.5977, -0.0294]]], requires_grad=True)\n",
      "Epoch 9: D_real_loss=0.7346475282683969, D_fake_loss=0.7183675281703472, G_loss=0.7905566953122616, G_reg=0.8666456007631496, G_spreg=0.0, G_chreg=0.0\n",
      "Parameter containing:\n",
      "tensor([[[-0.0452, -0.4579],\n",
      "         [ 0.5673, -0.0464]]], requires_grad=True)\n"
     ]
    },
    {
     "name": "stderr",
     "output_type": "stream",
     "text": [
      " 12%|█▏        | 12/100 [00:01<00:14,  6.15it/s]"
     ]
    },
    {
     "name": "stdout",
     "output_type": "stream",
     "text": [
      "Epoch 10: D_real_loss=0.7009933236986399, D_fake_loss=0.7234991565346718, G_loss=0.7513477597385645, G_reg=0.8840351074468344, G_spreg=0.0, G_chreg=0.0\n",
      "Parameter containing:\n",
      "tensor([[[-0.0311, -0.4210],\n",
      "         [ 0.5406, -0.0604]]], requires_grad=True)\n",
      "Epoch 11: D_real_loss=0.7017513979226351, D_fake_loss=0.7089854162186384, G_loss=0.7454304080456495, G_reg=0.9019427030580118, G_spreg=0.0, G_chreg=0.0\n",
      "Parameter containing:\n",
      "tensor([[[-0.0245, -0.3878],\n",
      "         [ 0.5140, -0.0750]]], requires_grad=True)\n"
     ]
    },
    {
     "name": "stderr",
     "output_type": "stream",
     "text": [
      " 14%|█▍        | 14/100 [00:02<00:13,  6.36it/s]"
     ]
    },
    {
     "name": "stdout",
     "output_type": "stream",
     "text": [
      "Epoch 12: D_real_loss=0.6822545193135738, D_fake_loss=0.6873454712331295, G_loss=0.7268573809415102, G_reg=0.9059456235263497, G_spreg=0.0, G_chreg=0.0\n",
      "Parameter containing:\n",
      "tensor([[[-0.0154, -0.3534],\n",
      "         [ 0.4851, -0.0857]]], requires_grad=True)\n",
      "Epoch 13: D_real_loss=0.6907468214631081, D_fake_loss=0.6913267560303211, G_loss=0.7279449552297592, G_reg=0.9186845360090956, G_spreg=0.0, G_chreg=0.0\n",
      "Parameter containing:\n",
      "tensor([[[ 0.0058, -0.3221],\n",
      "         [ 0.4506, -0.1035]]], requires_grad=True)\n"
     ]
    },
    {
     "name": "stderr",
     "output_type": "stream",
     "text": [
      " 16%|█▌        | 16/100 [00:02<00:13,  6.41it/s]"
     ]
    },
    {
     "name": "stdout",
     "output_type": "stream",
     "text": [
      "Epoch 14: D_real_loss=0.6974520515650511, D_fake_loss=0.7323147766292095, G_loss=0.7288461029529572, G_reg=0.9322695608716458, G_spreg=0.0, G_chreg=0.0\n",
      "Parameter containing:\n",
      "tensor([[[ 0.0152, -0.2915],\n",
      "         [ 0.4226, -0.1209]]], requires_grad=True)\n",
      "Epoch 15: D_real_loss=0.7215790655463934, D_fake_loss=0.6790991127490997, G_loss=0.7426054123789072, G_reg=0.943671862478368, G_spreg=0.0, G_chreg=0.0\n",
      "Parameter containing:\n",
      "tensor([[[ 0.0312, -0.2672],\n",
      "         [ 0.3953, -0.1299]]], requires_grad=True)\n"
     ]
    },
    {
     "name": "stderr",
     "output_type": "stream",
     "text": [
      " 18%|█▊        | 18/100 [00:02<00:12,  6.60it/s]"
     ]
    },
    {
     "name": "stdout",
     "output_type": "stream",
     "text": [
      "Epoch 16: D_real_loss=0.6874605715274811, D_fake_loss=0.7066489532589912, G_loss=0.7095230426639318, G_reg=0.9489124990068376, G_spreg=0.0, G_chreg=0.0\n",
      "Parameter containing:\n",
      "tensor([[[ 0.0439, -0.2425],\n",
      "         [ 0.3668, -0.1382]]], requires_grad=True)\n",
      "Epoch 17: D_real_loss=0.7075775973498821, D_fake_loss=0.7090420704334974, G_loss=0.7277838885784149, G_reg=0.9563368890667334, G_spreg=0.0, G_chreg=0.0\n",
      "Parameter containing:\n",
      "tensor([[[ 0.0461, -0.2199],\n",
      "         [ 0.3389, -0.1432]]], requires_grad=True)\n"
     ]
    },
    {
     "name": "stderr",
     "output_type": "stream",
     "text": [
      "\r",
      " 19%|█▉        | 19/100 [00:03<00:13,  6.17it/s]"
     ]
    },
    {
     "name": "stdout",
     "output_type": "stream",
     "text": [
      "Epoch 18: D_real_loss=0.7029997501522303, D_fake_loss=0.6898688413202763, G_loss=0.7223807908594608, G_reg=0.9641963668400422, G_spreg=0.0, G_chreg=0.0\n",
      "Parameter containing:\n",
      "tensor([[[ 0.0498, -0.1947],\n",
      "         [ 0.3103, -0.1547]]], requires_grad=True)\n"
     ]
    },
    {
     "name": "stderr",
     "output_type": "stream",
     "text": [
      "\r",
      " 20%|██        | 20/100 [00:03<00:14,  5.65it/s]"
     ]
    },
    {
     "name": "stdout",
     "output_type": "stream",
     "text": [
      "Epoch 19: D_real_loss=0.7235997244715691, D_fake_loss=0.7144882744178176, G_loss=0.7393322680145502, G_reg=0.9690596081782132, G_spreg=0.0, G_chreg=0.0\n",
      "Parameter containing:\n",
      "tensor([[[ 0.0494, -0.1731],\n",
      "         [ 0.2833, -0.1524]]], requires_grad=True)\n"
     ]
    },
    {
     "name": "stderr",
     "output_type": "stream",
     "text": [
      " 22%|██▏       | 22/100 [00:03<00:13,  5.75it/s]"
     ]
    },
    {
     "name": "stdout",
     "output_type": "stream",
     "text": [
      "Epoch 20: D_real_loss=0.7222519861534238, D_fake_loss=0.7107506804168224, G_loss=0.7336145453155041, G_reg=0.9760229731909931, G_spreg=0.0, G_chreg=0.0\n",
      "Parameter containing:\n",
      "tensor([[[ 0.0447, -0.1551],\n",
      "         [ 0.2614, -0.1479]]], requires_grad=True)\n",
      "Epoch 21: D_real_loss=0.7084810212254524, D_fake_loss=0.7046364080160856, G_loss=0.7186402287334204, G_reg=0.9800279804039747, G_spreg=0.0, G_chreg=0.0\n",
      "Parameter containing:\n",
      "tensor([[[ 0.0424, -0.1396],\n",
      "         [ 0.2401, -0.1364]]], requires_grad=True)\n"
     ]
    },
    {
     "name": "stderr",
     "output_type": "stream",
     "text": [
      " 24%|██▍       | 24/100 [00:03<00:12,  6.16it/s]"
     ]
    },
    {
     "name": "stdout",
     "output_type": "stream",
     "text": [
      "Epoch 22: D_real_loss=0.6977609992027283, D_fake_loss=0.7056672926992178, G_loss=0.7053853236138821, G_reg=0.9818730526603758, G_spreg=0.0, G_chreg=0.0\n",
      "Parameter containing:\n",
      "tensor([[[ 0.0377, -0.1256],\n",
      "         [ 0.2220, -0.1263]]], requires_grad=True)\n",
      "Epoch 23: D_real_loss=0.7081031557172537, D_fake_loss=0.6867026146501303, G_loss=0.7155620828270912, G_reg=0.9837130812229589, G_spreg=0.0, G_chreg=0.0\n",
      "Parameter containing:\n",
      "tensor([[[ 0.0290, -0.1117],\n",
      "         [ 0.2039, -0.1157]]], requires_grad=True)\n"
     ]
    },
    {
     "name": "stderr",
     "output_type": "stream",
     "text": [
      " 26%|██▌       | 26/100 [00:04<00:12,  5.79it/s]"
     ]
    },
    {
     "name": "stdout",
     "output_type": "stream",
     "text": [
      "Epoch 24: D_real_loss=0.7272777575999498, D_fake_loss=0.7190562151372433, G_loss=0.73276068829, G_reg=0.987287747557275, G_spreg=0.0, G_chreg=0.0\n",
      "Parameter containing:\n",
      "tensor([[[ 0.0258, -0.0991],\n",
      "         [ 0.1879, -0.1056]]], requires_grad=True)\n",
      "Epoch 25: D_real_loss=0.712189769372344, D_fake_loss=0.7176323886960745, G_loss=0.7167213521897793, G_reg=0.9899361088173464, G_spreg=0.0, G_chreg=0.0\n",
      "Parameter containing:\n",
      "tensor([[[ 0.0181, -0.0878],\n",
      "         [ 0.1733, -0.0979]]], requires_grad=True)\n"
     ]
    },
    {
     "name": "stderr",
     "output_type": "stream",
     "text": [
      " 28%|██▊       | 28/100 [00:04<00:11,  6.13it/s]"
     ]
    },
    {
     "name": "stdout",
     "output_type": "stream",
     "text": [
      "Epoch 26: D_real_loss=0.7725439136847854, D_fake_loss=0.7496166378259659, G_loss=0.7768344916403294, G_reg=0.9911229426506907, G_spreg=0.0, G_chreg=0.0\n",
      "Parameter containing:\n",
      "tensor([[[ 0.0140, -0.0755],\n",
      "         [ 0.1599, -0.0895]]], requires_grad=True)\n",
      "Epoch 27: D_real_loss=0.7134027248248458, D_fake_loss=0.7627780009061098, G_loss=0.7168427109718323, G_reg=0.9931768290698528, G_spreg=0.0, G_chreg=0.0\n",
      "Parameter containing:\n",
      "tensor([[[ 0.0119, -0.0646],\n",
      "         [ 0.1463, -0.0805]]], requires_grad=True)\n"
     ]
    },
    {
     "name": "stderr",
     "output_type": "stream",
     "text": [
      " 30%|███       | 30/100 [00:04<00:10,  6.45it/s]"
     ]
    },
    {
     "name": "stdout",
     "output_type": "stream",
     "text": [
      "Epoch 28: D_real_loss=0.7460969518870115, D_fake_loss=0.7237096894532442, G_loss=0.7482007090002298, G_reg=0.9946216974640265, G_spreg=0.0, G_chreg=0.0\n",
      "Parameter containing:\n",
      "tensor([[[ 0.0089, -0.0565],\n",
      "         [ 0.1355, -0.0721]]], requires_grad=True)\n",
      "Epoch 29: D_real_loss=0.7094557117670774, D_fake_loss=0.7079171016812325, G_loss=0.7110121734440327, G_reg=0.9953144326573238, G_spreg=0.0, G_chreg=0.0\n",
      "Parameter containing:\n",
      "tensor([[[ 0.0013, -0.0501],\n",
      "         [ 0.1267, -0.0620]]], requires_grad=True)\n"
     ]
    },
    {
     "name": "stderr",
     "output_type": "stream",
     "text": [
      " 32%|███▏      | 32/100 [00:05<00:10,  6.62it/s]"
     ]
    },
    {
     "name": "stdout",
     "output_type": "stream",
     "text": [
      "Epoch 30: D_real_loss=0.688243679702282, D_fake_loss=0.7096860837191343, G_loss=0.6907972823828459, G_reg=0.995670584961772, G_spreg=0.0, G_chreg=0.0\n",
      "Parameter containing:\n",
      "tensor([[[ 0.0065, -0.0400],\n",
      "         [ 0.1119, -0.0545]]], requires_grad=True)\n",
      "Epoch 31: D_real_loss=0.7156678400933743, D_fake_loss=0.6963840704411268, G_loss=0.7173393107950687, G_reg=0.9969403850845993, G_spreg=0.0, G_chreg=0.0\n",
      "Parameter containing:\n",
      "tensor([[[ 0.0057, -0.0332],\n",
      "         [ 0.0992, -0.0469]]], requires_grad=True)\n"
     ]
    },
    {
     "name": "stderr",
     "output_type": "stream",
     "text": [
      " 34%|███▍      | 34/100 [00:05<00:09,  6.76it/s]"
     ]
    },
    {
     "name": "stdout",
     "output_type": "stream",
     "text": [
      "Epoch 32: D_real_loss=0.728052431717515, D_fake_loss=0.8216128330677748, G_loss=0.7291354136541486, G_reg=0.9976521774660796, G_spreg=0.0, G_chreg=0.0\n",
      "Parameter containing:\n",
      "tensor([[[-0.0022, -0.0267],\n",
      "         [ 0.0905, -0.0364]]], requires_grad=True)\n",
      "Epoch 33: D_real_loss=0.7216657567769289, D_fake_loss=0.6914461385458708, G_loss=0.7222896255552769, G_reg=0.9980980335967615, G_spreg=0.0, G_chreg=0.0\n",
      "Parameter containing:\n",
      "tensor([[[-0.0047, -0.0217],\n",
      "         [ 0.0834, -0.0337]]], requires_grad=True)\n"
     ]
    },
    {
     "name": "stderr",
     "output_type": "stream",
     "text": [
      " 36%|███▌      | 36/100 [00:05<00:10,  6.20it/s]"
     ]
    },
    {
     "name": "stdout",
     "output_type": "stream",
     "text": [
      "Epoch 34: D_real_loss=0.6950685530900955, D_fake_loss=0.7070352714508772, G_loss=0.6954928115010262, G_reg=0.9985018725274131, G_spreg=0.0, G_chreg=0.0\n",
      "Parameter containing:\n",
      "tensor([[[-0.0042, -0.0180],\n",
      "         [ 0.0776, -0.0298]]], requires_grad=True)\n",
      "Epoch 35: D_real_loss=0.7282058652490377, D_fake_loss=0.741294153034687, G_loss=0.7287218403071165, G_reg=0.9988114994484931, G_spreg=0.0, G_chreg=0.0\n",
      "Parameter containing:\n",
      "tensor([[[-0.0062, -0.0142],\n",
      "         [ 0.0705, -0.0256]]], requires_grad=True)\n"
     ]
    },
    {
     "name": "stderr",
     "output_type": "stream",
     "text": [
      " 38%|███▊      | 38/100 [00:06<00:09,  6.45it/s]"
     ]
    },
    {
     "name": "stdout",
     "output_type": "stream",
     "text": [
      "Epoch 36: D_real_loss=0.7132713161408901, D_fake_loss=0.6973315384238958, G_loss=0.7136115152388811, G_reg=0.9989957208745182, G_spreg=0.0, G_chreg=0.0\n",
      "Parameter containing:\n",
      "tensor([[[-0.0058, -0.0109],\n",
      "         [ 0.0646, -0.0239]]], requires_grad=True)\n",
      "Epoch 37: D_real_loss=0.7071572169661522, D_fake_loss=0.7067829594016075, G_loss=0.7072873413562775, G_reg=0.9992063278332353, G_spreg=0.0, G_chreg=0.0\n",
      "Parameter containing:\n",
      "tensor([[[-0.0059, -0.0096],\n",
      "         [ 0.0613, -0.0199]]], requires_grad=True)\n"
     ]
    },
    {
     "name": "stderr",
     "output_type": "stream",
     "text": [
      " 40%|████      | 40/100 [00:06<00:09,  6.53it/s]"
     ]
    },
    {
     "name": "stdout",
     "output_type": "stream",
     "text": [
      "Epoch 38: D_real_loss=0.7039826791733503, D_fake_loss=0.7023032996803522, G_loss=0.7043283898383379, G_reg=0.9993160347221419, G_spreg=0.0, G_chreg=0.0\n",
      "Parameter containing:\n",
      "tensor([[[-0.0051, -0.0071],\n",
      "         [ 0.0546, -0.0173]]], requires_grad=True)\n",
      "Epoch 39: D_real_loss=0.6959632821381092, D_fake_loss=0.7192989401519299, G_loss=0.6962329279631376, G_reg=0.9994894149713218, G_spreg=0.0, G_chreg=0.0\n",
      "Parameter containing:\n",
      "tensor([[[-0.0044, -0.0047],\n",
      "         [ 0.0488, -0.0126]]], requires_grad=True)\n"
     ]
    },
    {
     "name": "stderr",
     "output_type": "stream",
     "text": [
      " 42%|████▏     | 42/100 [00:06<00:08,  6.59it/s]"
     ]
    },
    {
     "name": "stdout",
     "output_type": "stream",
     "text": [
      "Epoch 40: D_real_loss=0.7119144536554813, D_fake_loss=0.7071051467210054, G_loss=0.7120707537978888, G_reg=0.9995753702241927, G_spreg=0.0, G_chreg=0.0\n",
      "Parameter containing:\n",
      "tensor([[[-0.0070, -0.0028],\n",
      "         [ 0.0441, -0.0106]]], requires_grad=True)\n",
      "Epoch 41: D_real_loss=0.737810792401433, D_fake_loss=0.7270210329443216, G_loss=0.7378744669258595, G_reg=0.9996741748182103, G_spreg=0.0, G_chreg=0.0\n",
      "Parameter containing:\n",
      "tensor([[[-0.0021, -0.0016],\n",
      "         [ 0.0419, -0.0064]]], requires_grad=True)\n"
     ]
    },
    {
     "name": "stderr",
     "output_type": "stream",
     "text": [
      " 44%|████▍     | 44/100 [00:07<00:08,  6.64it/s]"
     ]
    },
    {
     "name": "stdout",
     "output_type": "stream",
     "text": [
      "Epoch 42: D_real_loss=0.7352587543427944, D_fake_loss=0.7238501962274313, G_loss=0.7352408245205879, G_reg=0.9996611974202096, G_spreg=0.0, G_chreg=0.0\n",
      "Parameter containing:\n",
      "tensor([[[-0.0031, -0.0021],\n",
      "         [ 0.0412, -0.0053]]], requires_grad=True)\n",
      "Epoch 43: D_real_loss=0.6984667684882879, D_fake_loss=0.7130297087132931, G_loss=0.6984905563294888, G_reg=0.9996985027100891, G_spreg=0.0, G_chreg=0.0\n",
      "Parameter containing:\n",
      "tensor([[[-0.0052, -0.0012],\n",
      "         [ 0.0393, -0.0032]]], requires_grad=True)\n"
     ]
    },
    {
     "name": "stderr",
     "output_type": "stream",
     "text": [
      " 46%|████▌     | 46/100 [00:07<00:08,  6.71it/s]"
     ]
    },
    {
     "name": "stdout",
     "output_type": "stream",
     "text": [
      "Epoch 44: D_real_loss=0.695380911231041, D_fake_loss=0.697578102350235, G_loss=0.6954036969691515, G_reg=0.9997258137445897, G_spreg=0.0, G_chreg=0.0\n",
      "Parameter containing:\n",
      "tensor([[[-4.1548e-03, -3.0842e-05],\n",
      "         [ 3.8008e-02,  2.8478e-03]]], requires_grad=True)\n",
      "Epoch 45: D_real_loss=0.7029095496982336, D_fake_loss=0.6940821707248688, G_loss=0.7030045408755541, G_reg=0.9997425571782514, G_spreg=0.0, G_chreg=0.0\n",
      "Parameter containing:\n",
      "tensor([[[ 0.0026,  0.0006],\n",
      "         [ 0.0350, -0.0008]]], requires_grad=True)\n"
     ]
    },
    {
     "name": "stderr",
     "output_type": "stream",
     "text": [
      " 48%|████▊     | 48/100 [00:07<00:07,  6.59it/s]"
     ]
    },
    {
     "name": "stdout",
     "output_type": "stream",
     "text": [
      "Epoch 46: D_real_loss=0.710078714415431, D_fake_loss=0.702764842659235, G_loss=0.7101458311080933, G_reg=0.9997983637731522, G_spreg=0.0, G_chreg=0.0\n",
      "Parameter containing:\n",
      "tensor([[[2.3338e-03, 1.8702e-03],\n",
      "         [3.1123e-02, 1.2002e-06]]], requires_grad=True)\n",
      "Epoch 47: D_real_loss=0.6892503760755062, D_fake_loss=0.7237330190837383, G_loss=0.6892800237983465, G_reg=0.9998250228818506, G_spreg=0.0, G_chreg=0.0\n",
      "Parameter containing:\n",
      "tensor([[[0.0006, 0.0031],\n",
      "         [0.0293, 0.0013]]], requires_grad=True)\n"
     ]
    },
    {
     "name": "stderr",
     "output_type": "stream",
     "text": [
      " 50%|█████     | 50/100 [00:07<00:07,  6.58it/s]"
     ]
    },
    {
     "name": "stdout",
     "output_type": "stream",
     "text": [
      "Epoch 48: D_real_loss=0.7170524746179581, D_fake_loss=0.6874762531369925, G_loss=0.7170901969075203, G_reg=0.9998755238484591, G_spreg=0.0, G_chreg=0.0\n",
      "Parameter containing:\n",
      "tensor([[[0.0010, 0.0044],\n",
      "         [0.0264, 0.0009]]], requires_grad=True)\n",
      "Epoch 49: D_real_loss=0.6970553025603294, D_fake_loss=0.7077381294220686, G_loss=0.6970941815525293, G_reg=0.9998838766478002, G_spreg=0.0, G_chreg=0.0\n",
      "Parameter containing:\n",
      "tensor([[[0.0035, 0.0055],\n",
      "         [0.0235, 0.0013]]], requires_grad=True)\n"
     ]
    },
    {
     "name": "stderr",
     "output_type": "stream",
     "text": [
      " 52%|█████▏    | 52/100 [00:08<00:07,  6.65it/s]"
     ]
    },
    {
     "name": "stdout",
     "output_type": "stream",
     "text": [
      "Epoch 50: D_real_loss=0.7027183249592781, D_fake_loss=0.6940602380782366, G_loss=0.7027006968855858, G_reg=0.9999015950597823, G_spreg=0.0, G_chreg=0.0\n",
      "Parameter containing:\n",
      "tensor([[[ 0.0004,  0.0051],\n",
      "         [ 0.0244, -0.0006]]], requires_grad=True)\n",
      "Epoch 51: D_real_loss=0.7017043773084879, D_fake_loss=0.6960187535732985, G_loss=0.7016987334936857, G_reg=0.9998923720559105, G_spreg=0.0, G_chreg=0.0\n",
      "Parameter containing:\n",
      "tensor([[[-0.0074,  0.0047],\n",
      "         [ 0.0240, -0.0002]]], requires_grad=True)\n"
     ]
    },
    {
     "name": "stderr",
     "output_type": "stream",
     "text": [
      " 54%|█████▍    | 54/100 [00:08<00:06,  6.66it/s]"
     ]
    },
    {
     "name": "stdout",
     "output_type": "stream",
     "text": [
      "Epoch 52: D_real_loss=0.693404546007514, D_fake_loss=0.6950962450355291, G_loss=0.6934375986456871, G_reg=0.999917124863714, G_spreg=0.0, G_chreg=0.0\n",
      "Parameter containing:\n",
      "tensor([[[-0.0075,  0.0058],\n",
      "         [ 0.0211, -0.0022]]], requires_grad=True)\n",
      "Epoch 53: D_real_loss=0.6950676012784243, D_fake_loss=0.6929037515074015, G_loss=0.6950779724866152, G_reg=0.9999154979595914, G_spreg=0.0, G_chreg=0.0\n",
      "Parameter containing:\n",
      "tensor([[[-0.0076,  0.0043],\n",
      "         [ 0.0212, -0.0014]]], requires_grad=True)\n"
     ]
    },
    {
     "name": "stderr",
     "output_type": "stream",
     "text": [
      " 56%|█████▌    | 56/100 [00:08<00:06,  6.72it/s]"
     ]
    },
    {
     "name": "stdout",
     "output_type": "stream",
     "text": [
      "Epoch 54: D_real_loss=0.7019898686558008, D_fake_loss=0.6949680577963591, G_loss=0.7020300664007664, G_reg=0.9999244270147756, G_spreg=0.0, G_chreg=0.0\n",
      "Parameter containing:\n",
      "tensor([[[-0.0040,  0.0062],\n",
      "         [ 0.0180, -0.0006]]], requires_grad=True)\n",
      "Epoch 55: D_real_loss=0.7180995158851147, D_fake_loss=0.7071019485592842, G_loss=0.7181252501904964, G_reg=0.9999584261095151, G_spreg=0.0, G_chreg=0.0\n",
      "Parameter containing:\n",
      "tensor([[[-0.0032,  0.0074],\n",
      "         [ 0.0142, -0.0011]]], requires_grad=True)\n"
     ]
    },
    {
     "name": "stderr",
     "output_type": "stream",
     "text": [
      " 58%|█████▊    | 58/100 [00:09<00:06,  6.76it/s]"
     ]
    },
    {
     "name": "stdout",
     "output_type": "stream",
     "text": [
      "Epoch 56: D_real_loss=0.6857332531362772, D_fake_loss=0.7073817625641823, G_loss=0.685738380998373, G_reg=0.999965681694448, G_spreg=0.0, G_chreg=0.0\n",
      "Parameter containing:\n",
      "tensor([[[ 0.0010,  0.0068],\n",
      "         [ 0.0145, -0.0038]]], requires_grad=True)\n",
      "Epoch 57: D_real_loss=0.6981566213071346, D_fake_loss=0.6921987496316433, G_loss=0.6981541011482477, G_reg=0.9999662230256945, G_spreg=0.0, G_chreg=0.0\n",
      "Parameter containing:\n",
      "tensor([[[ 0.0016,  0.0078],\n",
      "         [ 0.0138, -0.0035]]], requires_grad=True)\n"
     ]
    },
    {
     "name": "stderr",
     "output_type": "stream",
     "text": [
      " 60%|██████    | 60/100 [00:09<00:05,  6.95it/s]"
     ]
    },
    {
     "name": "stdout",
     "output_type": "stream",
     "text": [
      "Epoch 58: D_real_loss=0.7115822080522776, D_fake_loss=0.7042891141027212, G_loss=0.7115778736770153, G_reg=0.9999666071962565, G_spreg=0.0, G_chreg=0.0\n",
      "Parameter containing:\n",
      "tensor([[[ 0.0047,  0.0081],\n",
      "         [ 0.0127, -0.0041]]], requires_grad=True)\n",
      "Epoch 59: D_real_loss=0.7057372387498617, D_fake_loss=0.7322728112339973, G_loss=0.7057311702519655, G_reg=0.9999672998674214, G_spreg=0.0, G_chreg=0.0\n",
      "Parameter containing:\n",
      "tensor([[[ 0.0056,  0.0083],\n",
      "         [ 0.0122, -0.0037]]], requires_grad=True)\n"
     ]
    },
    {
     "name": "stderr",
     "output_type": "stream",
     "text": [
      " 62%|██████▏   | 62/100 [00:09<00:05,  6.89it/s]"
     ]
    },
    {
     "name": "stdout",
     "output_type": "stream",
     "text": [
      "Epoch 60: D_real_loss=0.7094988487660885, D_fake_loss=0.7029777504503727, G_loss=0.7095218524336815, G_reg=0.9999670088291168, G_spreg=0.0, G_chreg=0.0\n",
      "Parameter containing:\n",
      "tensor([[[ 0.0013,  0.0080],\n",
      "         [ 0.0119, -0.0028]]], requires_grad=True)\n",
      "Epoch 61: D_real_loss=0.715957511216402, D_fake_loss=0.7090471740812063, G_loss=0.715962016955018, G_reg=0.9999717003665864, G_spreg=0.0, G_chreg=0.0\n",
      "Parameter containing:\n",
      "tensor([[[ 0.0057,  0.0074],\n",
      "         [ 0.0118, -0.0024]]], requires_grad=True)\n"
     ]
    },
    {
     "name": "stderr",
     "output_type": "stream",
     "text": [
      " 64%|██████▍   | 64/100 [00:10<00:05,  6.97it/s]"
     ]
    },
    {
     "name": "stdout",
     "output_type": "stream",
     "text": [
      "Epoch 62: D_real_loss=0.6979434229433537, D_fake_loss=0.6970396749675274, G_loss=0.6979370769113302, G_reg=0.9999677655287087, G_spreg=0.0, G_chreg=0.0\n",
      "Parameter containing:\n",
      "tensor([[[ 0.0087,  0.0071],\n",
      "         [ 0.0108, -0.0043]]], requires_grad=True)\n",
      "Epoch 63: D_real_loss=0.6958161573857069, D_fake_loss=0.6927558146417141, G_loss=0.695809768512845, G_reg=0.9999679197790101, G_spreg=0.0, G_chreg=0.0\n",
      "Parameter containing:\n",
      "tensor([[[ 0.0087,  0.0070],\n",
      "         [ 0.0111, -0.0058]]], requires_grad=True)\n"
     ]
    },
    {
     "name": "stderr",
     "output_type": "stream",
     "text": [
      " 66%|██████▌   | 66/100 [00:10<00:04,  6.94it/s]"
     ]
    },
    {
     "name": "stdout",
     "output_type": "stream",
     "text": [
      "Epoch 64: D_real_loss=0.6935385558754206, D_fake_loss=0.6950197797268629, G_loss=0.6934985816478729, G_reg=0.9999624104239047, G_spreg=0.0, G_chreg=0.0\n",
      "Parameter containing:\n",
      "tensor([[[ 0.0142,  0.0067],\n",
      "         [ 0.0120, -0.0049]]], requires_grad=True)\n",
      "Epoch 65: D_real_loss=0.6971941199153662, D_fake_loss=0.7085300385951996, G_loss=0.6972099971026182, G_reg=0.9999489033361897, G_spreg=0.0, G_chreg=0.0\n",
      "Parameter containing:\n",
      "tensor([[[ 0.0127,  0.0055],\n",
      "         [ 0.0132, -0.0059]]], requires_grad=True)\n"
     ]
    },
    {
     "name": "stderr",
     "output_type": "stream",
     "text": [
      " 68%|██████▊   | 68/100 [00:10<00:04,  6.75it/s]"
     ]
    },
    {
     "name": "stdout",
     "output_type": "stream",
     "text": [
      "Epoch 66: D_real_loss=0.7140092737972736, D_fake_loss=0.7051246333867311, G_loss=0.7140218894928694, G_reg=0.9999545640312135, G_spreg=0.0, G_chreg=0.0\n",
      "Parameter containing:\n",
      "tensor([[[ 0.0101,  0.0044],\n",
      "         [ 0.0138, -0.0046]]], requires_grad=True)\n",
      "Epoch 67: D_real_loss=0.7134714126586914, D_fake_loss=0.7103240787982941, G_loss=0.7135103028267622, G_reg=0.9999612957471982, G_spreg=0.0, G_chreg=0.0\n",
      "Parameter containing:\n",
      "tensor([[[ 0.0047,  0.0030],\n",
      "         [ 0.0137, -0.0031]]], requires_grad=True)\n"
     ]
    },
    {
     "name": "stderr",
     "output_type": "stream",
     "text": [
      " 70%|███████   | 70/100 [00:10<00:04,  6.73it/s]"
     ]
    },
    {
     "name": "stdout",
     "output_type": "stream",
     "text": [
      "Epoch 68: D_real_loss=0.7303187493234873, D_fake_loss=0.7973793875426054, G_loss=0.7303104978054762, G_reg=0.9999695175793022, G_spreg=0.0, G_chreg=0.0\n",
      "Parameter containing:\n",
      "tensor([[[ 0.0058,  0.0028],\n",
      "         [ 0.0145, -0.0039]]], requires_grad=True)\n",
      "Epoch 69: D_real_loss=0.7059157770127058, D_fake_loss=0.7092118915170431, G_loss=0.705909974873066, G_reg=0.9999588772188872, G_spreg=0.0, G_chreg=0.0\n",
      "Parameter containing:\n",
      "tensor([[[ 0.0087,  0.0024],\n",
      "         [ 0.0135, -0.0040]]], requires_grad=True)\n"
     ]
    },
    {
     "name": "stderr",
     "output_type": "stream",
     "text": [
      " 72%|███████▏  | 72/100 [00:11<00:04,  6.74it/s]"
     ]
    },
    {
     "name": "stdout",
     "output_type": "stream",
     "text": [
      "Epoch 70: D_real_loss=0.7074416689574718, D_fake_loss=0.6985004190355539, G_loss=0.7074368223547935, G_reg=0.9999562724260613, G_spreg=0.0, G_chreg=0.0\n",
      "Parameter containing:\n",
      "tensor([[[ 0.0066,  0.0016],\n",
      "         [ 0.0155, -0.0024]]], requires_grad=True)\n",
      "Epoch 71: D_real_loss=0.7021493185311556, D_fake_loss=0.6864995025098324, G_loss=0.7021657880395651, G_reg=0.9999607922509313, G_spreg=0.0, G_chreg=0.0\n",
      "Parameter containing:\n",
      "tensor([[[ 0.0044,  0.0011],\n",
      "         [ 0.0148, -0.0021]]], requires_grad=True)\n"
     ]
    },
    {
     "name": "stderr",
     "output_type": "stream",
     "text": [
      " 74%|███████▍  | 74/100 [00:11<00:03,  6.76it/s]"
     ]
    },
    {
     "name": "stdout",
     "output_type": "stream",
     "text": [
      "Epoch 72: D_real_loss=0.6891405917704105, D_fake_loss=0.6979108918458223, G_loss=0.6891366224735975, G_reg=0.9999575064284727, G_spreg=0.0, G_chreg=0.0\n",
      "Parameter containing:\n",
      "tensor([[[ 0.0073,  0.0009],\n",
      "         [ 0.0131, -0.0051]]], requires_grad=True)\n",
      "Epoch 73: D_real_loss=0.6923386361449957, D_fake_loss=0.694534782320261, G_loss=0.6923389844596386, G_reg=0.9999583096941933, G_spreg=0.0, G_chreg=0.0\n",
      "Parameter containing:\n",
      "tensor([[[ 0.0057, -0.0001],\n",
      "         [ 0.0151, -0.0053]]], requires_grad=True)\n"
     ]
    },
    {
     "name": "stderr",
     "output_type": "stream",
     "text": [
      " 76%|███████▌  | 76/100 [00:11<00:03,  6.70it/s]"
     ]
    },
    {
     "name": "stdout",
     "output_type": "stream",
     "text": [
      "Epoch 74: D_real_loss=0.6934374645352364, D_fake_loss=0.6938975043594837, G_loss=0.6934084221720695, G_reg=0.9999463829444721, G_spreg=0.0, G_chreg=0.0\n",
      "Parameter containing:\n",
      "tensor([[[ 0.0096,  0.0002],\n",
      "         [ 0.0132, -0.0102]]], requires_grad=True)\n",
      "Epoch 75: D_real_loss=0.6956456229090691, D_fake_loss=0.691420067101717, G_loss=0.6956427209079266, G_reg=0.9999490896007046, G_spreg=0.0, G_chreg=0.0\n",
      "Parameter containing:\n",
      "tensor([[[ 0.0102,  0.0017],\n",
      "         [ 0.0119, -0.0105]]], requires_grad=True)\n"
     ]
    },
    {
     "name": "stderr",
     "output_type": "stream",
     "text": [
      " 78%|███████▊  | 78/100 [00:12<00:03,  6.44it/s]"
     ]
    },
    {
     "name": "stdout",
     "output_type": "stream",
     "text": [
      "Epoch 76: D_real_loss=0.6912432461977005, D_fake_loss=0.7049455903470516, G_loss=0.6912602540105581, G_reg=0.9999514324590564, G_spreg=0.0, G_chreg=0.0\n",
      "Parameter containing:\n",
      "tensor([[[ 0.0071,  0.0006],\n",
      "         [ 0.0136, -0.0065]]], requires_grad=True)\n",
      "Epoch 77: D_real_loss=0.7201746422797441, D_fake_loss=0.6935999728739262, G_loss=0.7201824057847261, G_reg=0.9999581932788715, G_spreg=0.0, G_chreg=0.0\n",
      "Parameter containing:\n",
      "tensor([[[ 0.0068,  0.0014],\n",
      "         [ 0.0134, -0.0071]]], requires_grad=True)\n"
     ]
    },
    {
     "name": "stderr",
     "output_type": "stream",
     "text": [
      " 80%|████████  | 80/100 [00:12<00:03,  6.42it/s]"
     ]
    },
    {
     "name": "stdout",
     "output_type": "stream",
     "text": [
      "Epoch 78: D_real_loss=0.6943191364407539, D_fake_loss=0.7041497770696878, G_loss=0.6943044755607843, G_reg=0.9999633184634149, G_spreg=0.0, G_chreg=0.0\n",
      "Parameter containing:\n",
      "tensor([[[ 0.0075,  0.0005],\n",
      "         [ 0.0144, -0.0066]]], requires_grad=True)\n",
      "Epoch 79: D_real_loss=0.6892635282129049, D_fake_loss=0.7025503311306238, G_loss=0.6892790049314499, G_reg=0.9999524481827393, G_spreg=0.0, G_chreg=0.0\n",
      "Parameter containing:\n",
      "tensor([[[ 0.0067,  0.0006],\n",
      "         [ 0.0135, -0.0058]]], requires_grad=True)\n"
     ]
    },
    {
     "name": "stderr",
     "output_type": "stream",
     "text": [
      " 82%|████████▏ | 82/100 [00:12<00:02,  6.49it/s]"
     ]
    },
    {
     "name": "stdout",
     "output_type": "stream",
     "text": [
      "Epoch 80: D_real_loss=0.6990524847060442, D_fake_loss=0.6951120439916849, G_loss=0.6990707870572805, G_reg=0.9999648609664291, G_spreg=0.0, G_chreg=0.0\n",
      "Parameter containing:\n",
      "tensor([[[ 0.0021,  0.0003],\n",
      "         [ 0.0122, -0.0033]]], requires_grad=True)\n",
      "Epoch 81: D_real_loss=0.6930488497018814, D_fake_loss=0.6959718223661184, G_loss=0.6930491477251053, G_reg=0.9999722620705143, G_spreg=0.0, G_chreg=0.0\n",
      "Parameter containing:\n",
      "tensor([[[-0.0006,  0.0009],\n",
      "         [ 0.0120, -0.0050]]], requires_grad=True)\n"
     ]
    },
    {
     "name": "stderr",
     "output_type": "stream",
     "text": [
      " 84%|████████▍ | 84/100 [00:13<00:02,  6.75it/s]"
     ]
    },
    {
     "name": "stdout",
     "output_type": "stream",
     "text": [
      "Epoch 82: D_real_loss=0.7127020880579948, D_fake_loss=0.7076117061078548, G_loss=0.7127218805253506, G_reg=0.9999785717809573, G_spreg=0.0, G_chreg=0.0\n",
      "Parameter containing:\n",
      "tensor([[[-0.0011,  0.0003],\n",
      "         [ 0.0093, -0.0041]]], requires_grad=True)\n",
      "Epoch 83: D_real_loss=0.717830466106534, D_fake_loss=0.7026865109801292, G_loss=0.7178311292082071, G_reg=0.999983903602697, G_spreg=0.0, G_chreg=0.0\n",
      "Parameter containing:\n",
      "tensor([[[-0.0027,  0.0008],\n",
      "         [ 0.0096, -0.0037]]], requires_grad=True)\n"
     ]
    },
    {
     "name": "stderr",
     "output_type": "stream",
     "text": [
      " 86%|████████▌ | 86/100 [00:13<00:02,  6.82it/s]"
     ]
    },
    {
     "name": "stdout",
     "output_type": "stream",
     "text": [
      "Epoch 84: D_real_loss=0.6964996308088303, D_fake_loss=0.7043640334159136, G_loss=0.6964825056493282, G_reg=0.9999774483731017, G_spreg=0.0, G_chreg=0.0\n",
      "Parameter containing:\n",
      "tensor([[[-0.0041, -0.0014],\n",
      "         [ 0.0133, -0.0018]]], requires_grad=True)\n",
      "Epoch 85: D_real_loss=0.6969318799674511, D_fake_loss=0.708415575325489, G_loss=0.6969504896551371, G_reg=0.9999692352721468, G_spreg=0.0, G_chreg=0.0\n",
      "Parameter containing:\n",
      "tensor([[[-0.0022,  0.0003],\n",
      "         [ 0.0109, -0.0035]]], requires_grad=True)\n"
     ]
    },
    {
     "name": "stderr",
     "output_type": "stream",
     "text": [
      " 88%|████████▊ | 88/100 [00:13<00:01,  6.78it/s]"
     ]
    },
    {
     "name": "stdout",
     "output_type": "stream",
     "text": [
      "Epoch 86: D_real_loss=0.7011487502604723, D_fake_loss=0.6941438615322113, G_loss=0.7011454869061708, G_reg=0.9999813337344676, G_spreg=0.0, G_chreg=0.0\n",
      "Parameter containing:\n",
      "tensor([[[-0.0062, -0.0002],\n",
      "         [ 0.0101, -0.0013]]], requires_grad=True)\n",
      "Epoch 87: D_real_loss=0.7032241299748421, D_fake_loss=0.7075929641723633, G_loss=0.7032374944537878, G_reg=0.9999879548558965, G_spreg=0.0, G_chreg=0.0\n",
      "Parameter containing:\n",
      "tensor([[[-0.0056,  0.0019],\n",
      "         [ 0.0064, -0.0040]]], requires_grad=True)\n"
     ]
    },
    {
     "name": "stderr",
     "output_type": "stream",
     "text": [
      " 90%|█████████ | 90/100 [00:13<00:01,  6.79it/s]"
     ]
    },
    {
     "name": "stdout",
     "output_type": "stream",
     "text": [
      "Epoch 88: D_real_loss=0.6947902850806713, D_fake_loss=0.703016497194767, G_loss=0.6948012858629227, G_reg=0.999992893775925, G_spreg=0.0, G_chreg=0.0\n",
      "Parameter containing:\n",
      "tensor([[[-0.0016,  0.0025],\n",
      "         [ 0.0054, -0.0050]]], requires_grad=True)\n",
      "Epoch 89: D_real_loss=0.7112607769668102, D_fake_loss=0.6879077106714249, G_loss=0.7112626656889915, G_reg=0.9999953384976834, G_spreg=0.0, G_chreg=0.0\n",
      "Parameter containing:\n",
      "tensor([[[-0.0052,  0.0010],\n",
      "         [ 0.0046, -0.0053]]], requires_grad=True)\n"
     ]
    },
    {
     "name": "stderr",
     "output_type": "stream",
     "text": [
      " 92%|█████████▏| 92/100 [00:14<00:01,  6.76it/s]"
     ]
    },
    {
     "name": "stdout",
     "output_type": "stream",
     "text": [
      "Epoch 90: D_real_loss=0.6996390577405691, D_fake_loss=0.7154763340950012, G_loss=0.6996472273021936, G_reg=0.9999969188356772, G_spreg=0.0, G_chreg=0.0\n",
      "Parameter containing:\n",
      "tensor([[[-0.0035,  0.0039],\n",
      "         [ 0.0015, -0.0032]]], requires_grad=True)\n",
      "Epoch 91: D_real_loss=0.7017777413129807, D_fake_loss=0.7045396696776152, G_loss=0.7017852161079645, G_reg=0.9999978065025061, G_spreg=0.0, G_chreg=0.0\n",
      "Parameter containing:\n",
      "tensor([[[-0.0019,  0.0033],\n",
      "         [ 0.0016, -0.0030]]], requires_grad=True)\n"
     ]
    },
    {
     "name": "stderr",
     "output_type": "stream",
     "text": [
      " 94%|█████████▍| 94/100 [00:14<00:00,  6.87it/s]"
     ]
    },
    {
     "name": "stdout",
     "output_type": "stream",
     "text": [
      "Epoch 92: D_real_loss=0.6964961215853691, D_fake_loss=0.692040117457509, G_loss=0.6964966524392366, G_reg=0.9999968024203554, G_spreg=0.0, G_chreg=0.0\n",
      "Parameter containing:\n",
      "tensor([[[-3.5960e-03,  3.9486e-03],\n",
      "         [ 5.0190e-05, -1.9385e-03]]], requires_grad=True)\n",
      "Epoch 93: D_real_loss=0.6967983450740576, D_fake_loss=0.6957329101860523, G_loss=0.6967785991728306, G_reg=0.9999941423302516, G_spreg=0.0, G_chreg=0.0\n",
      "Parameter containing:\n",
      "tensor([[[-1.0862e-02,  2.0172e-03],\n",
      "         [ 4.3323e-05,  3.4782e-03]]], requires_grad=True)\n"
     ]
    },
    {
     "name": "stderr",
     "output_type": "stream",
     "text": [
      " 96%|█████████▌| 96/100 [00:14<00:00,  6.84it/s]"
     ]
    },
    {
     "name": "stdout",
     "output_type": "stream",
     "text": [
      "Epoch 94: D_real_loss=0.6970256082713604, D_fake_loss=0.7017948981374502, G_loss=0.6970294564962387, G_reg=0.9999861795222387, G_spreg=0.0, G_chreg=0.0\n",
      "Parameter containing:\n",
      "tensor([[[-0.0111,  0.0011],\n",
      "         [ 0.0012,  0.0034]]], requires_grad=True)\n",
      "Epoch 95: D_real_loss=0.7139088101685047, D_fake_loss=0.6993033699691296, G_loss=0.7139294277876616, G_reg=0.9999899135436863, G_spreg=0.0, G_chreg=0.0\n",
      "Parameter containing:\n",
      "tensor([[[-0.0056,  0.0024],\n",
      "         [ 0.0009,  0.0008]]], requires_grad=True)\n"
     ]
    },
    {
     "name": "stderr",
     "output_type": "stream",
     "text": [
      " 98%|█████████▊| 98/100 [00:15<00:00,  6.86it/s]"
     ]
    },
    {
     "name": "stdout",
     "output_type": "stream",
     "text": [
      "Epoch 96: D_real_loss=0.6928425580263138, D_fake_loss=0.7013750094920397, G_loss=0.6928393896669149, G_reg=0.9999967587646097, G_spreg=0.0, G_chreg=0.0\n",
      "Parameter containing:\n",
      "tensor([[[-3.8385e-03,  4.3991e-03],\n",
      "         [ 7.5489e-05,  1.9665e-03]]], requires_grad=True)\n",
      "Epoch 97: D_real_loss=0.7074990421533585, D_fake_loss=0.7030603419989347, G_loss=0.7075009327381849, G_reg=0.9999955829698592, G_spreg=0.0, G_chreg=0.0\n",
      "Parameter containing:\n",
      "tensor([[[-0.0041,  0.0046],\n",
      "         [ 0.0019, -0.0005]]], requires_grad=True)\n"
     ]
    },
    {
     "name": "stderr",
     "output_type": "stream",
     "text": [
      "100%|██████████| 100/100 [00:15<00:00,  6.50it/s]"
     ]
    },
    {
     "name": "stdout",
     "output_type": "stream",
     "text": [
      "Epoch 98: D_real_loss=0.6967232320457697, D_fake_loss=0.6976201087236404, G_loss=0.6967344451695681, G_reg=0.9999954549130052, G_spreg=0.0, G_chreg=0.0\n",
      "Parameter containing:\n",
      "tensor([[[-0.0034,  0.0028],\n",
      "         [ 0.0033, -0.0012]]], requires_grad=True)\n",
      "Epoch 99: D_real_loss=0.698324678465724, D_fake_loss=0.6989461686462164, G_loss=0.6983227673918009, G_reg=0.9999958012485877, G_spreg=0.0, G_chreg=0.0\n",
      "Parameter containing:\n",
      "tensor([[[ 0.0024,  0.0055],\n",
      "         [ 0.0015, -0.0002]]], requires_grad=True)\n"
     ]
    },
    {
     "name": "stderr",
     "output_type": "stream",
     "text": [
      "\n"
     ]
    }
   ],
   "source": [
    "t1 = time.time()\n",
    "%run -i 'main_lagan.py' --task surface --y_type scalar --dataset_size 2000 --seed 32\n",
    "t2 = time.time()"
   ]
  },
  {
   "cell_type": "code",
   "execution_count": 82,
   "id": "be82085a",
   "metadata": {},
   "outputs": [
    {
     "data": {
      "text/plain": [
       "array([[ 0.0024,  0.0055],\n",
       "       [ 0.0015, -0.0002]])"
      ]
     },
     "execution_count": 82,
     "metadata": {},
     "output_type": "execute_result"
    }
   ],
   "source": [
    "tra = np.array([[ 0.0024,  0.0055],\n",
    "         [ 0.0015, -0.0002]])\n",
    "tra"
   ]
  },
  {
   "cell_type": "code",
   "execution_count": 83,
   "id": "eeaba209",
   "metadata": {},
   "outputs": [
    {
     "data": {
      "text/plain": [
       "array([ 0.    ,  0.0024,  0.0055,  0.    ,  0.    ,  0.    ,  0.    ,\n",
       "        0.0015, -0.0002,  0.    ,  0.    ,  0.    ])"
      ]
     },
     "execution_count": 83,
     "metadata": {},
     "output_type": "execute_result"
    }
   ],
   "source": [
    "theirTime = t2-t1\n",
    "# form: np.array([0,{11}, {12}, 0, {21}, {22}])\n",
    "# order left to right: 20000, 200, 2000.\n",
    "theirAns = np.array([0,tra[0][0],tra[0][1],0,0,0,0,tra[1][0],tra[1][1],0,0,0])\n",
    "theirAns"
   ]
  },
  {
   "cell_type": "code",
   "execution_count": 84,
   "id": "049f9050",
   "metadata": {},
   "outputs": [],
   "source": [
    "mean=[0,0]\n",
    "cov1 = np.array([[4,0],[0,4]])\n",
    "X1 = np.random.multivariate_normal(mean, cov1, size=SIZE)\n",
    "X1t = X1.transpose()\n",
    "y1 = [X1[i][0]**3 - X1[i][1]**2 for i in range(X1.shape[0])]\n",
    "#plt.scatter(X1t[0],X1t[1],c=y1)"
   ]
  },
  {
   "cell_type": "code",
   "execution_count": 85,
   "id": "778364ce",
   "metadata": {},
   "outputs": [],
   "source": [
    "t5 = time.time()\n",
    "\n",
    "poly0 = PolynomialFeatures(3)\n",
    "B = poly0.fit_transform(X1) # we will try polynomial regression.\n",
    "resultf = OurMethod.regress(B,y1,lr=1e-4) # we can use regression instead of level set estimation.\n",
    "myF = OurMethod.invf(resultf[1], poly0, X1) #defines a class for evaluating the function, computing the jacobian.\n",
    "J = myF.Jacf(X1) # defines the Jacobian matrix at each point in the dataset.\n",
    "#Js = myF.JacfSym(X1)\n",
    "poly1 = PolynomialFeatures(2)\n",
    "B1 = poly1.fit_transform(X1)\n",
    "extB = OurMethod.getExtendedFeatureMatrix2(B1,J,2) # This makes JB*W into (JB)W: strictly matrix multiplication.\n",
    "ans = OurMethod.tryDimV(extB, 1, criterion=torch.nn.L1Loss(), optimizer=moptim.rAdagrad, lr=1e-1) # look for the \"best fit\" generator.\n",
    "\n",
    "t6 = time.time()\n",
    "ourTime = t6-t5"
   ]
  },
  {
   "cell_type": "code",
   "execution_count": 86,
   "id": "66d6b9a5",
   "metadata": {},
   "outputs": [
    {
     "data": {
      "text/plain": [
       "array([-8.1210256e-02, -3.8128658e-04, -5.5769229e-01,  3.9009112e-03,\n",
       "        1.3818744e-03,  1.1521419e-02,  1.5136851e-02,  1.0612242e-02,\n",
       "       -2.7095259e-04, -8.2573020e-01, -7.8256801e-03, -1.0662969e-03],\n",
       "      dtype=float32)"
      ]
     },
     "execution_count": 86,
     "metadata": {},
     "output_type": "execute_result"
    }
   ],
   "source": [
    "ourAns = ans[1].detach().numpy().reshape(12,)\n",
    "ourAns"
   ]
  },
  {
   "cell_type": "code",
   "execution_count": 87,
   "id": "4afbcfdd",
   "metadata": {},
   "outputs": [],
   "source": [
    "correctAns = np.array([0,0,2,0,0,0,0,0,0,3,0,0])"
   ]
  },
  {
   "cell_type": "code",
   "execution_count": 88,
   "id": "8db9a2ab",
   "metadata": {},
   "outputs": [],
   "source": [
    "def cosA(v1,v2):\n",
    "    term1 = np.dot(v1,v2)\n",
    "    term2 = np.linalg.norm(v1)*np.linalg.norm(v2)\n",
    "    term3 = np.abs(term1/term2)\n",
    "    return term3"
   ]
  },
  {
   "cell_type": "code",
   "execution_count": 89,
   "id": "4c3d955f",
   "metadata": {},
   "outputs": [
    {
     "name": "stdout",
     "output_type": "stream",
     "text": [
      "Their score is: 0.4929712840368257\n",
      "Their time is: 15.391215562820435\n",
      "Our score is: 0.9964009633231113\n",
      "Our time is: 1.6498150825500488\n"
     ]
    }
   ],
   "source": [
    "print(\"Their score is: \" + str(cosA(theirAns,correctAns)))\n",
    "print(\"Their time is: \" + str(theirTime))\n",
    "\n",
    "print(\"Our score is: \" + str(cosA(ourAns,correctAns)))\n",
    "print(\"Our time is: \" + str(ourTime))"
   ]
  },
  {
   "cell_type": "code",
   "execution_count": 90,
   "id": "9a5396bc",
   "metadata": {},
   "outputs": [
    {
     "name": "stdout",
     "output_type": "stream",
     "text": [
      "nan\n",
      "nan\n",
      "0.19454\n",
      "0.11330917173821367\n",
      "nan\n",
      "nan\n",
      "0.99186\n",
      "0.010527791791254244\n"
     ]
    },
    {
     "name": "stderr",
     "output_type": "stream",
     "text": [
      "/home/ben/anaconda3/lib/python3.8/site-packages/numpy/core/fromnumeric.py:3474: RuntimeWarning: Mean of empty slice.\n",
      "  return _methods._mean(a, axis=axis, dtype=dtype,\n",
      "/home/ben/anaconda3/lib/python3.8/site-packages/numpy/core/_methods.py:189: RuntimeWarning: invalid value encountered in double_scalars\n",
      "  ret = ret.dtype.type(ret / rcount)\n",
      "/home/ben/anaconda3/lib/python3.8/site-packages/numpy/core/_methods.py:264: RuntimeWarning: Degrees of freedom <= 0 for slice\n",
      "  ret = _var(a, axis=axis, dtype=dtype, out=out, ddof=ddof,\n",
      "/home/ben/anaconda3/lib/python3.8/site-packages/numpy/core/_methods.py:222: RuntimeWarning: invalid value encountered in true_divide\n",
      "  arrmean = um.true_divide(arrmean, div, out=arrmean, casting='unsafe',\n",
      "/home/ben/anaconda3/lib/python3.8/site-packages/numpy/core/_methods.py:256: RuntimeWarning: invalid value encountered in double_scalars\n",
      "  ret = ret.dtype.type(ret / rcount)\n"
     ]
    }
   ],
   "source": [
    "#stats for mean = (1,1) for N=2000\n",
    "\n",
    "#LieGAN stats.\n",
    "times = []\n",
    "sims = [0.1962,0.1871,0.0853, 0.1452, 0.1801, 0.2210, 0.2356, 0.0521, 0.1498, 0.4930]\n",
    "\n",
    "#Our stats\n",
    "times2 = []\n",
    "sims2 = [0.9998, 0.9620, 0.9915, 0.9926, 0.9941, 0.9986, 0.9890, 0.9946, 1.0000, 0.9964]\n",
    "\n",
    "print(np.mean(times))\n",
    "print(np.std(times))\n",
    "print(np.mean(sims))\n",
    "print(np.std(sims))\n",
    "\n",
    "print(np.mean(times2))\n",
    "print(np.std(times2))\n",
    "print(np.mean(sims2))\n",
    "print(np.std(sims2))"
   ]
  },
  {
   "cell_type": "code",
   "execution_count": null,
   "id": "f31f8e89",
   "metadata": {},
   "outputs": [],
   "source": []
  }
 ],
 "metadata": {
  "kernelspec": {
   "display_name": "Python 3 (ipykernel)",
   "language": "python",
   "name": "python3"
  },
  "language_info": {
   "codemirror_mode": {
    "name": "ipython",
    "version": 3
   },
   "file_extension": ".py",
   "mimetype": "text/x-python",
   "name": "python",
   "nbconvert_exporter": "python",
   "pygments_lexer": "ipython3",
   "version": "3.8.8"
  }
 },
 "nbformat": 4,
 "nbformat_minor": 5
}
