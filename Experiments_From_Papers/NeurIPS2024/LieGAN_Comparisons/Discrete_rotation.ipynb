{
 "cells": [
  {
   "cell_type": "code",
   "execution_count": 2,
   "id": "1f0eeb29",
   "metadata": {},
   "outputs": [],
   "source": [
    "import time\n",
    "import scipy\n",
    "import numpy as np\n",
    "import matplotlib.pyplot as plt"
   ]
  },
  {
   "cell_type": "code",
   "execution_count": 28,
   "id": "150c1e93",
   "metadata": {},
   "outputs": [
    {
     "name": "stderr",
     "output_type": "stream",
     "text": [
      "  2%|▏         | 2/100 [00:00<00:10,  9.27it/s]"
     ]
    },
    {
     "name": "stdout",
     "output_type": "stream",
     "text": [
      "Epoch 0: D_real_loss=0.6647061556577682, D_fake_loss=0.2640983918681741, G_loss=15.003398790955544, G_reg=0.4173315581283532, G_spreg=0.0, G_chreg=0.0\n",
      "Parameter containing:\n",
      "tensor([[[ 0.1162,  0.2388,  0.3777],\n",
      "         [ 0.5058, -0.7819, -0.4809],\n",
      "         [ 0.4343,  0.6365,  0.3698]]], requires_grad=True)\n",
      "Epoch 1: D_real_loss=0.3877955488860607, D_fake_loss=0.356680141761899, G_loss=17.64665186405182, G_reg=0.39345439727185294, G_spreg=0.0, G_chreg=0.0\n",
      "Parameter containing:\n",
      "tensor([[[ 0.1043,  0.2240,  0.3734],\n",
      "         [ 0.4919, -0.7680, -0.4965],\n",
      "         [ 0.4191,  0.6507,  0.3532]]], requires_grad=True)\n"
     ]
    },
    {
     "name": "stderr",
     "output_type": "stream",
     "text": [
      "  4%|▍         | 4/100 [00:00<00:10,  9.35it/s]"
     ]
    },
    {
     "name": "stdout",
     "output_type": "stream",
     "text": [
      "Epoch 2: D_real_loss=0.31257315911352634, D_fake_loss=0.3479098975658417, G_loss=19.898929595947266, G_reg=0.3089313890086487, G_spreg=0.0, G_chreg=0.0\n",
      "Parameter containing:\n",
      "tensor([[[ 0.0986,  0.2123,  0.3629],\n",
      "         [ 0.4758, -0.7534, -0.5110],\n",
      "         [ 0.4022,  0.6621,  0.3405]]], requires_grad=True)\n",
      "Epoch 3: D_real_loss=0.25015785079449415, D_fake_loss=0.38194530736654997, G_loss=17.382649660110474, G_reg=0.22672781051369384, G_spreg=0.0, G_chreg=0.0\n",
      "Parameter containing:\n",
      "tensor([[[ 0.0924,  0.1959,  0.3561],\n",
      "         [ 0.4587, -0.7347, -0.5306],\n",
      "         [ 0.3820,  0.6791,  0.3253]]], requires_grad=True)\n"
     ]
    },
    {
     "name": "stderr",
     "output_type": "stream",
     "text": [
      "  7%|▋         | 7/100 [00:00<00:08, 10.42it/s]"
     ]
    },
    {
     "name": "stdout",
     "output_type": "stream",
     "text": [
      "Epoch 4: D_real_loss=0.2623945623636246, D_fake_loss=0.3574800584465265, G_loss=17.986756324768066, G_reg=0.24145106654032134, G_spreg=0.0, G_chreg=0.0\n",
      "Parameter containing:\n",
      "tensor([[[ 0.0792,  0.1904,  0.3363],\n",
      "         [ 0.4396, -0.7220, -0.5426],\n",
      "         [ 0.3629,  0.6849,  0.3162]]], requires_grad=True)\n",
      "Epoch 5: D_real_loss=0.23924930673092604, D_fake_loss=0.41044401563704014, G_loss=14.437255322933197, G_reg=0.22913952852832153, G_spreg=0.0, G_chreg=0.0\n",
      "Parameter containing:\n",
      "tensor([[[ 0.0713,  0.1825,  0.3209],\n",
      "         [ 0.4205, -0.7073, -0.5571],\n",
      "         [ 0.3437,  0.6935,  0.3063]]], requires_grad=True)\n",
      "Epoch 6: D_real_loss=0.27160188741981983, D_fake_loss=0.38699324429035187, G_loss=15.150164067745209, G_reg=0.21695153991458938, G_spreg=0.0, G_chreg=0.0\n",
      "Parameter containing:\n",
      "tensor([[[ 0.0629,  0.1759,  0.3077],\n",
      "         [ 0.4031, -0.6934, -0.5698],\n",
      "         [ 0.3270,  0.7012,  0.2995]]], requires_grad=True)\n"
     ]
    },
    {
     "name": "stderr",
     "output_type": "stream",
     "text": [
      "\r",
      "  9%|▉         | 9/100 [00:00<00:08, 10.99it/s]"
     ]
    },
    {
     "name": "stdout",
     "output_type": "stream",
     "text": [
      "Epoch 7: D_real_loss=0.24140578042715788, D_fake_loss=0.3893004320561886, G_loss=13.069762289524078, G_reg=0.19551659970602486, G_spreg=0.0, G_chreg=0.0\n",
      "Parameter containing:\n",
      "tensor([[[ 0.0479,  0.1687,  0.2894],\n",
      "         [ 0.3830, -0.6776, -0.5866],\n",
      "         [ 0.3074,  0.7114,  0.2885]]], requires_grad=True)\n",
      "Epoch 8: D_real_loss=0.2558463541790843, D_fake_loss=0.42606052942574024, G_loss=11.644679605960846, G_reg=0.17483900010120124, G_spreg=0.0, G_chreg=0.0\n",
      "Parameter containing:\n",
      "tensor([[[ 0.0318,  0.1650,  0.2696],\n",
      "         [ 0.3612, -0.6629, -0.6009],\n",
      "         [ 0.2890,  0.7172,  0.2829]]], requires_grad=True)\n",
      "Epoch 9: D_real_loss=0.2617763727903366, D_fake_loss=0.39046198036521673, G_loss=10.30309545993805, G_reg=0.17603248852537945, G_spreg=0.0, G_chreg=0.0\n",
      "Parameter containing:\n",
      "tensor([[[ 0.0120,  0.1612,  0.2498],\n",
      "         [ 0.3401, -0.6479, -0.6172],\n",
      "         [ 0.2707,  0.7255,  0.2741]]], requires_grad=True)\n"
     ]
    },
    {
     "name": "stderr",
     "output_type": "stream",
     "text": [
      " 13%|█▎        | 13/100 [00:01<00:07, 11.49it/s]"
     ]
    },
    {
     "name": "stdout",
     "output_type": "stream",
     "text": [
      "Epoch 10: D_real_loss=0.2495692316442728, D_fake_loss=0.40389046631753445, G_loss=9.168464750051498, G_reg=0.14416233825613745, G_spreg=0.0, G_chreg=0.0\n",
      "Parameter containing:\n",
      "tensor([[[-0.0020,  0.1584,  0.2322],\n",
      "         [ 0.3204, -0.6322, -0.6316],\n",
      "         [ 0.2553,  0.7325,  0.2713]]], requires_grad=True)\n",
      "Epoch 11: D_real_loss=0.2761140950024128, D_fake_loss=0.41671990416944027, G_loss=8.035666197538376, G_reg=0.15844358695176197, G_spreg=0.0, G_chreg=0.0\n",
      "Parameter containing:\n",
      "tensor([[[-0.0170,  0.1574,  0.2157],\n",
      "         [ 0.3018, -0.6182, -0.6436],\n",
      "         [ 0.2420,  0.7379,  0.2712]]], requires_grad=True)\n",
      "Epoch 12: D_real_loss=0.2785702208057046, D_fake_loss=0.38397759199142456, G_loss=6.858048111200333, G_reg=0.1476162375183776, G_spreg=0.0, G_chreg=0.0\n",
      "Parameter containing:\n",
      "tensor([[[-0.0263,  0.1567,  0.2002],\n",
      "         [ 0.2840, -0.6030, -0.6560],\n",
      "         [ 0.2304,  0.7431,  0.2752]]], requires_grad=True)\n"
     ]
    },
    {
     "name": "stderr",
     "output_type": "stream",
     "text": [
      "\r",
      " 15%|█▌        | 15/100 [00:01<00:07, 11.66it/s]"
     ]
    },
    {
     "name": "stdout",
     "output_type": "stream",
     "text": [
      "Epoch 13: D_real_loss=0.2740227747708559, D_fake_loss=0.40340510196983814, G_loss=6.111010193824768, G_reg=0.15466718577954452, G_spreg=0.0, G_chreg=0.0\n",
      "Parameter containing:\n",
      "tensor([[[-0.0332,  0.1542,  0.1869],\n",
      "         [ 0.2676, -0.5873, -0.6701],\n",
      "         [ 0.2195,  0.7509,  0.2783]]], requires_grad=True)\n",
      "Epoch 14: D_real_loss=0.29120777174830437, D_fake_loss=0.38346337899565697, G_loss=5.859709411859512, G_reg=0.157562327785854, G_spreg=0.0, G_chreg=0.0\n",
      "Parameter containing:\n",
      "tensor([[[-0.0343,  0.1497,  0.1768],\n",
      "         [ 0.2522, -0.5719, -0.6846],\n",
      "         [ 0.2085,  0.7609,  0.2806]]], requires_grad=True)\n",
      "Epoch 15: D_real_loss=0.2764660073444247, D_fake_loss=0.39452270418405533, G_loss=5.7357507199049, G_reg=0.17782899594749324, G_spreg=0.0, G_chreg=0.0\n",
      "Parameter containing:\n",
      "tensor([[[-0.0383,  0.1483,  0.1640],\n",
      "         [ 0.2369, -0.5551, -0.6975],\n",
      "         [ 0.2002,  0.7681,  0.2905]]], requires_grad=True)\n"
     ]
    },
    {
     "name": "stderr",
     "output_type": "stream",
     "text": [
      "\r",
      " 17%|█▋        | 17/100 [00:01<00:07, 11.60it/s]"
     ]
    },
    {
     "name": "stdout",
     "output_type": "stream",
     "text": [
      "Epoch 16: D_real_loss=0.291264072060585, D_fake_loss=0.3899060543626547, G_loss=5.014288529753685, G_reg=0.2048490074230358, G_spreg=0.0, G_chreg=0.0\n",
      "Parameter containing:\n",
      "tensor([[[-0.0402,  0.1456,  0.1530],\n",
      "         [ 0.2219, -0.5381, -0.7124],\n",
      "         [ 0.1921,  0.7789,  0.2980]]], requires_grad=True)\n",
      "Epoch 17: D_real_loss=0.280666652135551, D_fake_loss=0.3572695851325989, G_loss=4.68900191783905, G_reg=0.2156020957045257, G_spreg=0.0, G_chreg=0.0\n",
      "Parameter containing:\n",
      "tensor([[[-0.0432,  0.1423,  0.1445],\n",
      "         [ 0.2094, -0.5236, -0.7263],\n",
      "         [ 0.1852,  0.7899,  0.3027]]], requires_grad=True)\n"
     ]
    },
    {
     "name": "stderr",
     "output_type": "stream",
     "text": [
      " 21%|██        | 21/100 [00:01<00:07, 10.69it/s]"
     ]
    },
    {
     "name": "stdout",
     "output_type": "stream",
     "text": [
      "Epoch 18: D_real_loss=0.2755506867542863, D_fake_loss=0.35525296442210674, G_loss=4.592443227767944, G_reg=0.22484738856292097, G_spreg=0.0, G_chreg=0.0\n",
      "Parameter containing:\n",
      "tensor([[[-0.0435,  0.1385,  0.1366],\n",
      "         [ 0.1973, -0.5094, -0.7411],\n",
      "         [ 0.1782,  0.8030,  0.3066]]], requires_grad=True)\n",
      "Epoch 19: D_real_loss=0.2546889455989003, D_fake_loss=0.38578605838119984, G_loss=4.225082412362099, G_reg=0.2769212100247387, G_spreg=0.0, G_chreg=0.0\n",
      "Parameter containing:\n",
      "tensor([[[-0.0510,  0.1380,  0.1279],\n",
      "         [ 0.1860, -0.4966, -0.7524],\n",
      "         [ 0.1732,  0.8117,  0.3148]]], requires_grad=True)\n",
      "Epoch 20: D_real_loss=0.27477005776017904, D_fake_loss=0.3593641687184572, G_loss=4.609990239143372, G_reg=0.2742409662459977, G_spreg=0.0, G_chreg=0.0\n",
      "Parameter containing:\n",
      "tensor([[[-0.0501,  0.1350,  0.1230],\n",
      "         [ 0.1760, -0.4861, -0.7626],\n",
      "         [ 0.1671,  0.8198,  0.3192]]], requires_grad=True)\n"
     ]
    },
    {
     "name": "stderr",
     "output_type": "stream",
     "text": [
      "\r",
      " 23%|██▎       | 23/100 [00:02<00:06, 11.09it/s]"
     ]
    },
    {
     "name": "stdout",
     "output_type": "stream",
     "text": [
      "Epoch 21: D_real_loss=0.2789874318987131, D_fake_loss=0.35614731535315514, G_loss=4.766076967120171, G_reg=0.3019165509613231, G_spreg=0.0, G_chreg=0.0\n",
      "Parameter containing:\n",
      "tensor([[[-0.0496,  0.1327,  0.1181],\n",
      "         [ 0.1662, -0.4758, -0.7725],\n",
      "         [ 0.1619,  0.8271,  0.3241]]], requires_grad=True)\n",
      "Epoch 22: D_real_loss=0.2680965904146433, D_fake_loss=0.39435116946697235, G_loss=4.616330221295357, G_reg=0.3610305720940232, G_spreg=0.0, G_chreg=0.0\n",
      "Parameter containing:\n",
      "tensor([[[-0.0488,  0.1307,  0.1132],\n",
      "         [ 0.1563, -0.4656, -0.7828],\n",
      "         [ 0.1571,  0.8348,  0.3275]]], requires_grad=True)\n",
      "Epoch 23: D_real_loss=0.2844557696953416, D_fake_loss=0.38194182328879833, G_loss=4.787940084934235, G_reg=0.3600501499022357, G_spreg=0.0, G_chreg=0.0\n",
      "Parameter containing:\n",
      "tensor([[[-0.0468,  0.1293,  0.1089],\n",
      "         [ 0.1479, -0.4560, -0.7916],\n",
      "         [ 0.1526,  0.8410,  0.3325]]], requires_grad=True)\n"
     ]
    },
    {
     "name": "stderr",
     "output_type": "stream",
     "text": [
      " 27%|██▋       | 27/100 [00:02<00:06, 11.70it/s]"
     ]
    },
    {
     "name": "stdout",
     "output_type": "stream",
     "text": [
      "Epoch 24: D_real_loss=0.2878455948084593, D_fake_loss=0.37692415714263916, G_loss=5.146882623434067, G_reg=0.3368625279108528, G_spreg=0.0, G_chreg=0.0\n",
      "Parameter containing:\n",
      "tensor([[[-0.0449,  0.1272,  0.1063],\n",
      "         [ 0.1398, -0.4485, -0.7977],\n",
      "         [ 0.1482,  0.8437,  0.3370]]], requires_grad=True)\n",
      "Epoch 25: D_real_loss=0.27756859082728624, D_fake_loss=0.3883420480415225, G_loss=5.222613602876663, G_reg=0.3543564671417698, G_spreg=0.0, G_chreg=0.0\n",
      "Parameter containing:\n",
      "tensor([[[-0.0435,  0.1264,  0.1034],\n",
      "         [ 0.1329, -0.4407, -0.8021],\n",
      "         [ 0.1454,  0.8436,  0.3448]]], requires_grad=True)\n",
      "Epoch 26: D_real_loss=0.2658952474594116, D_fake_loss=0.3834944609552622, G_loss=5.3979617059230804, G_reg=0.365803821478039, G_spreg=0.0, G_chreg=0.0\n",
      "Parameter containing:\n",
      "tensor([[[-0.0417,  0.1254,  0.1002],\n",
      "         [ 0.1253, -0.4327, -0.8075],\n",
      "         [ 0.1421,  0.8437,  0.3519]]], requires_grad=True)\n"
     ]
    },
    {
     "name": "stderr",
     "output_type": "stream",
     "text": [
      "\r",
      " 29%|██▉       | 29/100 [00:02<00:06, 11.57it/s]"
     ]
    },
    {
     "name": "stdout",
     "output_type": "stream",
     "text": [
      "Epoch 27: D_real_loss=0.2900095749646425, D_fake_loss=0.4184155333787203, G_loss=5.300849437713623, G_reg=0.37239613448036835, G_spreg=0.0, G_chreg=0.0\n",
      "Parameter containing:\n",
      "tensor([[[-0.0395,  0.1239,  0.0979],\n",
      "         [ 0.1187, -0.4267, -0.8120],\n",
      "         [ 0.1390,  0.8436,  0.3555]]], requires_grad=True)\n",
      "Epoch 28: D_real_loss=0.2927481159567833, D_fake_loss=0.4106891378760338, G_loss=5.016927465796471, G_reg=0.40897389262681827, G_spreg=0.0, G_chreg=0.0\n",
      "Parameter containing:\n",
      "tensor([[[-0.0381,  0.1224,  0.0953],\n",
      "         [ 0.1115, -0.4197, -0.8186],\n",
      "         [ 0.1357,  0.8460,  0.3588]]], requires_grad=True)\n",
      "Epoch 29: D_real_loss=0.2742149792611599, D_fake_loss=0.3829532917588949, G_loss=5.615096926689148, G_reg=0.34512414422351867, G_spreg=0.0, G_chreg=0.0\n",
      "Parameter containing:\n",
      "tensor([[[-0.0332,  0.1198,  0.0938],\n",
      "         [ 0.1047, -0.4135, -0.8248],\n",
      "         [ 0.1318,  0.8479,  0.3602]]], requires_grad=True)\n"
     ]
    },
    {
     "name": "stderr",
     "output_type": "stream",
     "text": [
      " 33%|███▎      | 33/100 [00:02<00:05, 11.56it/s]"
     ]
    },
    {
     "name": "stdout",
     "output_type": "stream",
     "text": [
      "Epoch 30: D_real_loss=0.2827600920572877, D_fake_loss=0.37538010720163584, G_loss=5.742492258548737, G_reg=0.34145782701671124, G_spreg=0.0, G_chreg=0.0\n",
      "Parameter containing:\n",
      "tensor([[[-0.0303,  0.1179,  0.0917],\n",
      "         [ 0.0980, -0.4067, -0.8309],\n",
      "         [ 0.1287,  0.8493,  0.3637]]], requires_grad=True)\n",
      "Epoch 31: D_real_loss=0.27062535379081964, D_fake_loss=0.4094979101791978, G_loss=5.626144349575043, G_reg=0.39278809272218496, G_spreg=0.0, G_chreg=0.0\n",
      "Parameter containing:\n",
      "tensor([[[-0.0279,  0.1158,  0.0908],\n",
      "         [ 0.0923, -0.4020, -0.8343],\n",
      "         [ 0.1261,  0.8466,  0.3656]]], requires_grad=True)\n",
      "Epoch 32: D_real_loss=0.25647597946226597, D_fake_loss=0.3747007828205824, G_loss=5.847860217094421, G_reg=0.38766473153373227, G_spreg=0.0, G_chreg=0.0\n",
      "Parameter containing:\n",
      "tensor([[[-0.0258,  0.1139,  0.0893],\n",
      "         [ 0.0858, -0.3964, -0.8384],\n",
      "         [ 0.1231,  0.8448,  0.3691]]], requires_grad=True)\n"
     ]
    },
    {
     "name": "stderr",
     "output_type": "stream",
     "text": [
      "\r",
      " 35%|███▌      | 35/100 [00:03<00:05, 11.81it/s]"
     ]
    },
    {
     "name": "stdout",
     "output_type": "stream",
     "text": [
      "Epoch 33: D_real_loss=0.2729265093803406, D_fake_loss=0.3759578401222825, G_loss=6.0531274527311325, G_reg=0.38675740870530717, G_spreg=0.0, G_chreg=0.0\n",
      "Parameter containing:\n",
      "tensor([[[-0.0260,  0.1114,  0.0882],\n",
      "         [ 0.0788, -0.3917, -0.8442],\n",
      "         [ 0.1196,  0.8447,  0.3673]]], requires_grad=True)\n",
      "Epoch 34: D_real_loss=0.2807356743142009, D_fake_loss=0.4001166354864836, G_loss=5.99169248342514, G_reg=0.40884649351937696, G_spreg=0.0, G_chreg=0.0\n",
      "Parameter containing:\n",
      "tensor([[[-0.0218,  0.1088,  0.0871],\n",
      "         [ 0.0728, -0.3878, -0.8506],\n",
      "         [ 0.1155,  0.8456,  0.3623]]], requires_grad=True)\n",
      "Epoch 35: D_real_loss=0.27789437491446733, D_fake_loss=0.3764847479760647, G_loss=6.472126007080078, G_reg=0.408677157247439, G_spreg=0.0, G_chreg=0.0\n",
      "Parameter containing:\n",
      "tensor([[[-0.0215,  0.1069,  0.0864],\n",
      "         [ 0.0679, -0.3840, -0.8537],\n",
      "         [ 0.1130,  0.8416,  0.3629]]], requires_grad=True)\n"
     ]
    },
    {
     "name": "stderr",
     "output_type": "stream",
     "text": [
      " 39%|███▉      | 39/100 [00:03<00:04, 12.29it/s]"
     ]
    },
    {
     "name": "stdout",
     "output_type": "stream",
     "text": [
      "Epoch 36: D_real_loss=0.28146301954984665, D_fake_loss=0.39626633934676647, G_loss=6.542178094387054, G_reg=0.40525319491280243, G_spreg=0.0, G_chreg=0.0\n",
      "Parameter containing:\n",
      "tensor([[[-0.0216,  0.1049,  0.0852],\n",
      "         [ 0.0632, -0.3794, -0.8589],\n",
      "         [ 0.1115,  0.8406,  0.3632]]], requires_grad=True)\n",
      "Epoch 37: D_real_loss=0.26298362482339144, D_fake_loss=0.40038149431347847, G_loss=6.643647491931915, G_reg=0.4034007084555924, G_spreg=0.0, G_chreg=0.0\n",
      "Parameter containing:\n",
      "tensor([[[-0.0216,  0.1028,  0.0844],\n",
      "         [ 0.0583, -0.3755, -0.8637],\n",
      "         [ 0.1094,  0.8391,  0.3615]]], requires_grad=True)\n",
      "Epoch 38: D_real_loss=0.2722449656575918, D_fake_loss=0.37925242818892, G_loss=6.886317878961563, G_reg=0.4061952160554938, G_spreg=0.0, G_chreg=0.0\n",
      "Parameter containing:\n",
      "tensor([[[-0.0213,  0.1006,  0.0840],\n",
      "         [ 0.0535, -0.3717, -0.8675],\n",
      "         [ 0.1064,  0.8355,  0.3607]]], requires_grad=True)\n"
     ]
    },
    {
     "name": "stderr",
     "output_type": "stream",
     "text": [
      "\r",
      " 41%|████      | 41/100 [00:03<00:04, 12.45it/s]"
     ]
    },
    {
     "name": "stdout",
     "output_type": "stream",
     "text": [
      "Epoch 39: D_real_loss=0.28926999401301146, D_fake_loss=0.40985250286757946, G_loss=6.7032215893268585, G_reg=0.4077383899129927, G_spreg=0.0, G_chreg=0.0\n",
      "Parameter containing:\n",
      "tensor([[[-0.0213,  0.0991,  0.0834],\n",
      "         [ 0.0497, -0.3683, -0.8690],\n",
      "         [ 0.1047,  0.8282,  0.3616]]], requires_grad=True)\n",
      "Epoch 40: D_real_loss=0.28012903966009617, D_fake_loss=0.387766819447279, G_loss=6.919686883687973, G_reg=0.39432049525203183, G_spreg=0.0, G_chreg=0.0\n",
      "Parameter containing:\n",
      "tensor([[[-0.0216,  0.0976,  0.0830],\n",
      "         [ 0.0453, -0.3655, -0.8714],\n",
      "         [ 0.1023,  0.8223,  0.3601]]], requires_grad=True)\n",
      "Epoch 41: D_real_loss=0.26637506764382124, D_fake_loss=0.3758867532014847, G_loss=7.147053390741348, G_reg=0.3901052026776597, G_spreg=0.0, G_chreg=0.0\n",
      "Parameter containing:\n",
      "tensor([[[-0.0211,  0.0959,  0.0823],\n",
      "         [ 0.0391, -0.3613, -0.8759],\n",
      "         [ 0.0990,  0.8189,  0.3585]]], requires_grad=True)\n"
     ]
    },
    {
     "name": "stderr",
     "output_type": "stream",
     "text": [
      " 45%|████▌     | 45/100 [00:03<00:04, 11.47it/s]"
     ]
    },
    {
     "name": "stdout",
     "output_type": "stream",
     "text": [
      "Epoch 42: D_real_loss=0.27163154631853104, D_fake_loss=0.39792592637240887, G_loss=7.034421324729919, G_reg=0.4009378593764268, G_spreg=0.0, G_chreg=0.0\n",
      "Parameter containing:\n",
      "tensor([[[-0.0197,  0.0939,  0.0817],\n",
      "         [ 0.0336, -0.3586, -0.8804],\n",
      "         [ 0.0957,  0.8158,  0.3542]]], requires_grad=True)\n",
      "Epoch 43: D_real_loss=0.25186284724622965, D_fake_loss=0.40093664452433586, G_loss=7.367628663778305, G_reg=0.41432782309129834, G_spreg=0.0, G_chreg=0.0\n",
      "Parameter containing:\n",
      "tensor([[[-0.0190,  0.0919,  0.0813],\n",
      "         [ 0.0310, -0.3558, -0.8838],\n",
      "         [ 0.0943,  0.8101,  0.3524]]], requires_grad=True)\n",
      "Epoch 44: D_real_loss=0.25840464886277914, D_fake_loss=0.3600968010723591, G_loss=7.8664191365242, G_reg=0.3799154845182784, G_spreg=0.0, G_chreg=0.0\n",
      "Parameter containing:\n",
      "tensor([[[-0.0221,  0.0905,  0.0808],\n",
      "         [ 0.0247, -0.3526, -0.8874],\n",
      "         [ 0.0919,  0.8058,  0.3501]]], requires_grad=True)\n"
     ]
    },
    {
     "name": "stderr",
     "output_type": "stream",
     "text": [
      "\r",
      " 47%|████▋     | 47/100 [00:04<00:04, 10.84it/s]"
     ]
    },
    {
     "name": "stdout",
     "output_type": "stream",
     "text": [
      "Epoch 45: D_real_loss=0.2631728434935212, D_fake_loss=0.40440138801932335, G_loss=7.786875456571579, G_reg=0.40238007059087977, G_spreg=0.0, G_chreg=0.0\n",
      "Parameter containing:\n",
      "tensor([[[-0.0223,  0.0893,  0.0800],\n",
      "         [ 0.0170, -0.3483, -0.8916],\n",
      "         [ 0.0886,  0.8014,  0.3494]]], requires_grad=True)\n",
      "Epoch 46: D_real_loss=0.2745753340423107, D_fake_loss=0.42253473959863186, G_loss=7.570706278085709, G_reg=0.38987843290669844, G_spreg=0.0, G_chreg=0.0\n",
      "Parameter containing:\n",
      "tensor([[[-0.0230,  0.0881,  0.0790],\n",
      "         [ 0.0111, -0.3434, -0.8985],\n",
      "         [ 0.0860,  0.8011,  0.3450]]], requires_grad=True)\n"
     ]
    },
    {
     "name": "stderr",
     "output_type": "stream",
     "text": [
      "\r",
      " 49%|████▉     | 49/100 [00:04<00:04, 10.27it/s]"
     ]
    },
    {
     "name": "stdout",
     "output_type": "stream",
     "text": [
      "Epoch 47: D_real_loss=0.27301925886422396, D_fake_loss=0.39741939678788185, G_loss=8.219580233097076, G_reg=0.412024452816695, G_spreg=0.0, G_chreg=0.0\n",
      "Parameter containing:\n",
      "tensor([[[-0.0251,  0.0867,  0.0787],\n",
      "         [ 0.0070, -0.3414, -0.9018],\n",
      "         [ 0.0843,  0.7952,  0.3406]]], requires_grad=True)\n",
      "Epoch 48: D_real_loss=0.2693749135360122, D_fake_loss=0.3912148289382458, G_loss=8.169397741556168, G_reg=0.3852261710562743, G_spreg=0.0, G_chreg=0.0\n",
      "Parameter containing:\n",
      "tensor([[[-0.0262,  0.0854,  0.0781],\n",
      "         [ 0.0020, -0.3390, -0.9072],\n",
      "         [ 0.0822,  0.7933,  0.3344]]], requires_grad=True)\n"
     ]
    },
    {
     "name": "stderr",
     "output_type": "stream",
     "text": [
      "\r",
      " 51%|█████     | 51/100 [00:04<00:04,  9.98it/s]"
     ]
    },
    {
     "name": "stdout",
     "output_type": "stream",
     "text": [
      "Epoch 49: D_real_loss=0.2748137880116701, D_fake_loss=0.4315135832875967, G_loss=7.987125962972641, G_reg=0.40556010644650087, G_spreg=0.0, G_chreg=0.0\n",
      "Parameter containing:\n",
      "tensor([[[-2.7144e-02,  8.4596e-02,  7.7977e-02],\n",
      "         [-7.1275e-04, -3.3625e-01, -9.0807e-01],\n",
      "         [ 8.0700e-02,  7.8367e-01,  3.3538e-01]]], requires_grad=True)\n",
      "Epoch 50: D_real_loss=0.28571201488375664, D_fake_loss=0.4181797429919243, G_loss=8.048811942338943, G_reg=0.4202007665298879, G_spreg=0.0, G_chreg=0.0\n",
      "Parameter containing:\n",
      "tensor([[[-0.0282,  0.0842,  0.0773],\n",
      "         [-0.0048, -0.3320, -0.9130],\n",
      "         [ 0.0780,  0.7805,  0.3334]]], requires_grad=True)\n"
     ]
    },
    {
     "name": "stderr",
     "output_type": "stream",
     "text": [
      "\r",
      " 53%|█████▎    | 53/100 [00:04<00:04, 10.31it/s]"
     ]
    },
    {
     "name": "stdout",
     "output_type": "stream",
     "text": [
      "Epoch 51: D_real_loss=0.29022555984556675, D_fake_loss=0.380546847358346, G_loss=8.233889490365982, G_reg=0.3747380891581997, G_spreg=0.0, G_chreg=0.0\n",
      "Parameter containing:\n",
      "tensor([[[-0.0299,  0.0835,  0.0768],\n",
      "         [-0.0063, -0.3292, -0.9157],\n",
      "         [ 0.0772,  0.7734,  0.3321]]], requires_grad=True)\n",
      "Epoch 52: D_real_loss=0.2581584630534053, D_fake_loss=0.3884187154471874, G_loss=8.477887094020844, G_reg=0.3926792982383631, G_spreg=0.0, G_chreg=0.0\n",
      "Parameter containing:\n",
      "tensor([[[-0.0303,  0.0823,  0.0769],\n",
      "         [-0.0078, -0.3282, -0.9144],\n",
      "         [ 0.0761,  0.7599,  0.3323]]], requires_grad=True)\n",
      "Epoch 53: D_real_loss=0.2588186012580991, D_fake_loss=0.4069478251039982, G_loss=8.15422147512436, G_reg=0.4228938967571594, G_spreg=0.0, G_chreg=0.0\n",
      "Parameter containing:\n",
      "tensor([[[-0.0312,  0.0818,  0.0765],\n",
      "         [-0.0114, -0.3260, -0.9169],\n",
      "         [ 0.0737,  0.7519,  0.3276]]], requires_grad=True)\n"
     ]
    },
    {
     "name": "stderr",
     "output_type": "stream",
     "text": [
      " 57%|█████▋    | 57/100 [00:05<00:04, 10.42it/s]"
     ]
    },
    {
     "name": "stdout",
     "output_type": "stream",
     "text": [
      "Epoch 54: D_real_loss=0.2599593559280038, D_fake_loss=0.39107602182775736, G_loss=8.084011375904083, G_reg=0.4124698607483879, G_spreg=0.0, G_chreg=0.0\n",
      "Parameter containing:\n",
      "tensor([[[-0.0341,  0.0820,  0.0756],\n",
      "         [-0.0186, -0.3213, -0.9229],\n",
      "         [ 0.0704,  0.7495,  0.3243]]], requires_grad=True)\n",
      "Epoch 55: D_real_loss=0.2813928062096238, D_fake_loss=0.3882041247561574, G_loss=8.690615057945251, G_reg=0.40443191828671843, G_spreg=0.0, G_chreg=0.0\n",
      "Parameter containing:\n",
      "tensor([[[-0.0361,  0.0817,  0.0749],\n",
      "         [-0.0214, -0.3180, -0.9279],\n",
      "         [ 0.0696,  0.7458,  0.3205]]], requires_grad=True)\n",
      "Epoch 56: D_real_loss=0.26816176250576973, D_fake_loss=0.4001557407900691, G_loss=8.721442341804504, G_reg=0.4133303154958412, G_spreg=0.0, G_chreg=0.0\n",
      "Parameter containing:\n",
      "tensor([[[-0.0373,  0.0813,  0.0745],\n",
      "         [-0.0238, -0.3154, -0.9307],\n",
      "         [ 0.0680,  0.7379,  0.3171]]], requires_grad=True)\n"
     ]
    },
    {
     "name": "stderr",
     "output_type": "stream",
     "text": [
      "\r",
      " 59%|█████▉    | 59/100 [00:05<00:04, 10.19it/s]"
     ]
    },
    {
     "name": "stdout",
     "output_type": "stream",
     "text": [
      "Epoch 57: D_real_loss=0.26984560769051313, D_fake_loss=0.4112425521016121, G_loss=8.494806498289108, G_reg=0.40495618304703385, G_spreg=0.0, G_chreg=0.0\n",
      "Parameter containing:\n",
      "tensor([[[-0.0382,  0.0812,  0.0741],\n",
      "         [-0.0262, -0.3130, -0.9343],\n",
      "         [ 0.0653,  0.7317,  0.3133]]], requires_grad=True)\n",
      "Epoch 58: D_real_loss=0.26280487421900034, D_fake_loss=0.41931246407330036, G_loss=8.00950425863266, G_reg=0.42777206836035475, G_spreg=0.0, G_chreg=0.0\n",
      "Parameter containing:\n",
      "tensor([[[-0.0396,  0.0815,  0.0736],\n",
      "         [-0.0296, -0.3094, -0.9382],\n",
      "         [ 0.0636,  0.7258,  0.3113]]], requires_grad=True)\n",
      "Epoch 59: D_real_loss=0.2597716310992837, D_fake_loss=0.3873585630208254, G_loss=8.480525225400925, G_reg=0.4027830102131702, G_spreg=0.0, G_chreg=0.0\n",
      "Parameter containing:\n",
      "tensor([[[-0.0397,  0.0816,  0.0734],\n",
      "         [-0.0301, -0.3071, -0.9393],\n",
      "         [ 0.0638,  0.7162,  0.3103]]], requires_grad=True)\n"
     ]
    },
    {
     "name": "stderr",
     "output_type": "stream",
     "text": [
      " 63%|██████▎   | 63/100 [00:05<00:03, 10.45it/s]"
     ]
    },
    {
     "name": "stdout",
     "output_type": "stream",
     "text": [
      "Epoch 60: D_real_loss=0.27043877076357603, D_fake_loss=0.36997396126389503, G_loss=8.967135071754456, G_reg=0.4124474522541277, G_spreg=0.0, G_chreg=0.0\n",
      "Parameter containing:\n",
      "tensor([[[-0.0399,  0.0816,  0.0733],\n",
      "         [-0.0296, -0.3063, -0.9390],\n",
      "         [ 0.0641,  0.7044,  0.3088]]], requires_grad=True)\n",
      "Epoch 61: D_real_loss=0.2624287251383066, D_fake_loss=0.3971205232664943, G_loss=8.655764758586884, G_reg=0.4039718478452414, G_spreg=0.0, G_chreg=0.0\n",
      "Parameter containing:\n",
      "tensor([[[-0.0399,  0.0818,  0.0728],\n",
      "         [-0.0320, -0.3041, -0.9428],\n",
      "         [ 0.0629,  0.6981,  0.3038]]], requires_grad=True)\n",
      "Epoch 62: D_real_loss=0.2493838183581829, D_fake_loss=0.3837005328387022, G_loss=9.176265716552734, G_reg=0.4030005991808139, G_spreg=0.0, G_chreg=0.0\n",
      "Parameter containing:\n",
      "tensor([[[-0.0405,  0.0816,  0.0724],\n",
      "         [-0.0344, -0.3031, -0.9454],\n",
      "         [ 0.0605,  0.6896,  0.2974]]], requires_grad=True)\n"
     ]
    },
    {
     "name": "stderr",
     "output_type": "stream",
     "text": [
      "\r",
      " 65%|██████▌   | 65/100 [00:05<00:03, 10.81it/s]"
     ]
    },
    {
     "name": "stdout",
     "output_type": "stream",
     "text": [
      "Epoch 63: D_real_loss=0.267104578204453, D_fake_loss=0.395320663228631, G_loss=8.631013423204422, G_reg=0.4101027821889147, G_spreg=0.0, G_chreg=0.0\n",
      "Parameter containing:\n",
      "tensor([[[-0.0410,  0.0823,  0.0718],\n",
      "         [-0.0402, -0.2987, -0.9505],\n",
      "         [ 0.0570,  0.6845,  0.2945]]], requires_grad=True)\n",
      "Epoch 64: D_real_loss=0.2623277120292187, D_fake_loss=0.4011634364724159, G_loss=9.372407048940659, G_reg=0.39267018873943016, G_spreg=0.0, G_chreg=0.0\n",
      "Parameter containing:\n",
      "tensor([[[-0.0414,  0.0835,  0.0711],\n",
      "         [-0.0433, -0.2933, -0.9555],\n",
      "         [ 0.0542,  0.6802,  0.2934]]], requires_grad=True)\n",
      "Epoch 65: D_real_loss=0.27152741700410843, D_fake_loss=0.39881179481744766, G_loss=9.298583954572678, G_reg=0.4207140940707177, G_spreg=0.0, G_chreg=0.0\n",
      "Parameter containing:\n",
      "tensor([[[-0.0424,  0.0845,  0.0702],\n",
      "         [-0.0473, -0.2890, -0.9617],\n",
      "         [ 0.0519,  0.6782,  0.2891]]], requires_grad=True)\n"
     ]
    },
    {
     "name": "stderr",
     "output_type": "stream",
     "text": [
      " 69%|██████▉   | 69/100 [00:06<00:02, 11.25it/s]"
     ]
    },
    {
     "name": "stdout",
     "output_type": "stream",
     "text": [
      "Epoch 66: D_real_loss=0.24904471822082996, D_fake_loss=0.3691364312544465, G_loss=9.647893100976944, G_reg=0.36736993861268274, G_spreg=0.0, G_chreg=0.0\n",
      "Parameter containing:\n",
      "tensor([[[-0.0418,  0.0855,  0.0699],\n",
      "         [-0.0513, -0.2853, -0.9628],\n",
      "         [ 0.0511,  0.6683,  0.2885]]], requires_grad=True)\n",
      "Epoch 67: D_real_loss=0.2452468117699027, D_fake_loss=0.37782143242657185, G_loss=9.837354004383087, G_reg=0.3900318974046968, G_spreg=0.0, G_chreg=0.0\n",
      "Parameter containing:\n",
      "tensor([[[-0.0411,  0.0869,  0.0693],\n",
      "         [-0.0529, -0.2825, -0.9677],\n",
      "         [ 0.0513,  0.6625,  0.2831]]], requires_grad=True)\n",
      "Epoch 68: D_real_loss=0.26612197514623404, D_fake_loss=0.38536057248711586, G_loss=9.498889148235321, G_reg=0.4469612686079927, G_spreg=0.0, G_chreg=0.0\n",
      "Parameter containing:\n",
      "tensor([[[-0.0420,  0.0881,  0.0689],\n",
      "         [-0.0560, -0.2790, -0.9709],\n",
      "         [ 0.0491,  0.6537,  0.2803]]], requires_grad=True)\n"
     ]
    },
    {
     "name": "stderr",
     "output_type": "stream",
     "text": [
      "\r",
      " 71%|███████   | 71/100 [00:06<00:02, 11.46it/s]"
     ]
    },
    {
     "name": "stdout",
     "output_type": "stream",
     "text": [
      "Epoch 69: D_real_loss=0.25924971885979176, D_fake_loss=0.40798040851950645, G_loss=9.293113499879837, G_reg=0.4290021170163527, G_spreg=0.0, G_chreg=0.0\n",
      "Parameter containing:\n",
      "tensor([[[-0.0434,  0.0899,  0.0686],\n",
      "         [-0.0582, -0.2748, -0.9741],\n",
      "         [ 0.0480,  0.6449,  0.2819]]], requires_grad=True)\n",
      "Epoch 70: D_real_loss=0.2662829365581274, D_fake_loss=0.3848917232826352, G_loss=9.13777008652687, G_reg=0.41463912202743813, G_spreg=0.0, G_chreg=0.0\n",
      "Parameter containing:\n",
      "tensor([[[-0.0413,  0.0914,  0.0679],\n",
      "         [-0.0564, -0.2726, -0.9786],\n",
      "         [ 0.0501,  0.6380,  0.2767]]], requires_grad=True)\n",
      "Epoch 71: D_real_loss=0.2682786239311099, D_fake_loss=0.40196336433291435, G_loss=9.156408548355103, G_reg=0.43844601459568366, G_spreg=0.0, G_chreg=0.0\n",
      "Parameter containing:\n",
      "tensor([[[-0.0422,  0.0928,  0.0676],\n",
      "         [-0.0607, -0.2705, -0.9816],\n",
      "         [ 0.0479,  0.6303,  0.2733]]], requires_grad=True)\n"
     ]
    },
    {
     "name": "stderr",
     "output_type": "stream",
     "text": [
      " 75%|███████▌  | 75/100 [00:06<00:02, 10.98it/s]"
     ]
    },
    {
     "name": "stdout",
     "output_type": "stream",
     "text": [
      "Epoch 72: D_real_loss=0.2637211000546813, D_fake_loss=0.39220242109149694, G_loss=9.75068336725235, G_reg=0.3971900019678287, G_spreg=0.0, G_chreg=0.0\n",
      "Parameter containing:\n",
      "tensor([[[-0.0404,  0.0945,  0.0668],\n",
      "         [-0.0637, -0.2683, -0.9862],\n",
      "         [ 0.0469,  0.6243,  0.2675]]], requires_grad=True)\n",
      "Epoch 73: D_real_loss=0.26003300957381725, D_fake_loss=0.39125486835837364, G_loss=10.227697402238846, G_reg=0.4003095891675912, G_spreg=0.0, G_chreg=0.0\n",
      "Parameter containing:\n",
      "tensor([[[-0.0386,  0.0970,  0.0661],\n",
      "         [-0.0660, -0.2621, -0.9947],\n",
      "         [ 0.0472,  0.6244,  0.2623]]], requires_grad=True)\n",
      "Epoch 74: D_real_loss=0.2547478573396802, D_fake_loss=0.3886988703161478, G_loss=9.833442509174347, G_reg=0.3980425070039928, G_spreg=0.0, G_chreg=0.0\n",
      "Parameter containing:\n",
      "tensor([[[-0.0390,  0.0994,  0.0653],\n",
      "         [-0.0711, -0.2577, -1.0016],\n",
      "         [ 0.0458,  0.6216,  0.2581]]], requires_grad=True)\n"
     ]
    },
    {
     "name": "stderr",
     "output_type": "stream",
     "text": [
      "\r",
      " 77%|███████▋  | 77/100 [00:07<00:02, 10.31it/s]"
     ]
    },
    {
     "name": "stdout",
     "output_type": "stream",
     "text": [
      "Epoch 75: D_real_loss=0.27185106091201305, D_fake_loss=0.4057559724897146, G_loss=9.78405711054802, G_reg=0.41097247740253806, G_spreg=0.0, G_chreg=0.0\n",
      "Parameter containing:\n",
      "tensor([[[-0.0401,  0.1012,  0.0650],\n",
      "         [-0.0735, -0.2570, -1.0025],\n",
      "         [ 0.0438,  0.6101,  0.2523]]], requires_grad=True)\n",
      "Epoch 76: D_real_loss=0.25569638330489397, D_fake_loss=0.3935594018548727, G_loss=10.062279164791107, G_reg=0.3895575617207214, G_spreg=0.0, G_chreg=0.0\n",
      "Parameter containing:\n",
      "tensor([[[-0.0382,  0.1049,  0.0638],\n",
      "         [-0.0774, -0.2552, -1.0101],\n",
      "         [ 0.0390,  0.6102,  0.2449]]], requires_grad=True)\n",
      "Epoch 77: D_real_loss=0.24981334898620844, D_fake_loss=0.38092731311917305, G_loss=9.891347825527191, G_reg=0.4010236603789963, G_spreg=0.0, G_chreg=0.0\n",
      "Parameter containing:\n",
      "tensor([[[-0.0393,  0.1072,  0.0636],\n",
      "         [-0.0797, -0.2521, -1.0104],\n",
      "         [ 0.0381,  0.5966,  0.2451]]], requires_grad=True)\n"
     ]
    },
    {
     "name": "stderr",
     "output_type": "stream",
     "text": [
      " 81%|████████  | 81/100 [00:07<00:01, 11.14it/s]"
     ]
    },
    {
     "name": "stdout",
     "output_type": "stream",
     "text": [
      "Epoch 78: D_real_loss=0.24136475007981062, D_fake_loss=0.377525694668293, G_loss=10.96110188961029, G_reg=0.3665227326564491, G_spreg=0.0, G_chreg=0.0\n",
      "Parameter containing:\n",
      "tensor([[[-0.0391,  0.1098,  0.0636],\n",
      "         [-0.0828, -0.2486, -1.0116],\n",
      "         [ 0.0378,  0.5852,  0.2455]]], requires_grad=True)\n",
      "Epoch 79: D_real_loss=0.2498454749584198, D_fake_loss=0.41277116257697344, G_loss=10.452019989490509, G_reg=0.40423082100460306, G_spreg=0.0, G_chreg=0.0\n",
      "Parameter containing:\n",
      "tensor([[[-0.0366,  0.1145,  0.0629],\n",
      "         [-0.0860, -0.2429, -1.0208],\n",
      "         [ 0.0362,  0.5884,  0.2401]]], requires_grad=True)\n",
      "Epoch 80: D_real_loss=0.25943589117377996, D_fake_loss=0.3977048359811306, G_loss=10.15334701538086, G_reg=0.3878947420162149, G_spreg=0.0, G_chreg=0.0\n",
      "Parameter containing:\n",
      "tensor([[[-0.0364,  0.1180,  0.0623],\n",
      "         [-0.0911, -0.2388, -1.0247],\n",
      "         [ 0.0351,  0.5814,  0.2381]]], requires_grad=True)\n"
     ]
    },
    {
     "name": "stderr",
     "output_type": "stream",
     "text": [
      "\r",
      " 83%|████████▎ | 83/100 [00:07<00:01, 11.32it/s]"
     ]
    },
    {
     "name": "stdout",
     "output_type": "stream",
     "text": [
      "Epoch 81: D_real_loss=0.25836444552987814, D_fake_loss=0.3745462326332927, G_loss=10.445846825838089, G_reg=0.3740109197678976, G_spreg=0.0, G_chreg=0.0\n",
      "Parameter containing:\n",
      "tensor([[[-0.0373,  0.1215,  0.0623],\n",
      "         [-0.0932, -0.2354, -1.0284],\n",
      "         [ 0.0354,  0.5745,  0.2361]]], requires_grad=True)\n",
      "Epoch 82: D_real_loss=0.24599214922636747, D_fake_loss=0.35714225564152, G_loss=11.0519779920578, G_reg=0.3826443775324151, G_spreg=0.0, G_chreg=0.0\n",
      "Parameter containing:\n",
      "tensor([[[-0.0359,  0.1262,  0.0616],\n",
      "         [-0.0955, -0.2311, -1.0359],\n",
      "         [ 0.0367,  0.5732,  0.2294]]], requires_grad=True)\n",
      "Epoch 83: D_real_loss=0.2697238875553012, D_fake_loss=0.41115362010896206, G_loss=10.515303999185562, G_reg=0.39917302201502025, G_spreg=0.0, G_chreg=0.0\n",
      "Parameter containing:\n",
      "tensor([[[-0.0331,  0.1305,  0.0619],\n",
      "         [-0.0981, -0.2254, -1.0391],\n",
      "         [ 0.0396,  0.5650,  0.2300]]], requires_grad=True)\n"
     ]
    },
    {
     "name": "stderr",
     "output_type": "stream",
     "text": [
      " 87%|████████▋ | 87/100 [00:07<00:01, 11.02it/s]"
     ]
    },
    {
     "name": "stdout",
     "output_type": "stream",
     "text": [
      "Epoch 84: D_real_loss=0.26555002946406603, D_fake_loss=0.41077838838100433, G_loss=10.655904740095139, G_reg=0.3937775967642665, G_spreg=0.0, G_chreg=0.0\n",
      "Parameter containing:\n",
      "tensor([[[-0.0297,  0.1347,  0.0618],\n",
      "         [-0.1004, -0.2221, -1.0425],\n",
      "         [ 0.0389,  0.5572,  0.2269]]], requires_grad=True)\n",
      "Epoch 85: D_real_loss=0.26544526498764753, D_fake_loss=0.40470729768276215, G_loss=10.624425649642944, G_reg=0.4079614416696131, G_spreg=0.0, G_chreg=0.0\n",
      "Parameter containing:\n",
      "tensor([[[-0.0265,  0.1395,  0.0611],\n",
      "         [-0.1046, -0.2185, -1.0482],\n",
      "         [ 0.0372,  0.5532,  0.2258]]], requires_grad=True)\n",
      "Epoch 86: D_real_loss=0.25420088693499565, D_fake_loss=0.3687691567465663, G_loss=10.793800503015518, G_reg=0.36437493981793523, G_spreg=0.0, G_chreg=0.0\n",
      "Parameter containing:\n",
      "tensor([[[-0.0276,  0.1443,  0.0606],\n",
      "         [-0.1090, -0.2169, -1.0516],\n",
      "         [ 0.0376,  0.5471,  0.2189]]], requires_grad=True)\n"
     ]
    },
    {
     "name": "stderr",
     "output_type": "stream",
     "text": [
      "\r",
      " 89%|████████▉ | 89/100 [00:08<00:01, 10.48it/s]"
     ]
    },
    {
     "name": "stdout",
     "output_type": "stream",
     "text": [
      "Epoch 87: D_real_loss=0.2707133758813143, D_fake_loss=0.41051695868372917, G_loss=10.57720798254013, G_reg=0.3848284773994237, G_spreg=0.0, G_chreg=0.0\n",
      "Parameter containing:\n",
      "tensor([[[-0.0246,  0.1495,  0.0601],\n",
      "         [-0.1150, -0.2131, -1.0553],\n",
      "         [ 0.0373,  0.5412,  0.2149]]], requires_grad=True)\n",
      "Epoch 88: D_real_loss=0.2571187550202012, D_fake_loss=0.381344273686409, G_loss=10.836588054895401, G_reg=0.3717130850418471, G_spreg=0.0, G_chreg=0.0\n",
      "Parameter containing:\n",
      "tensor([[[-0.0291,  0.1551,  0.0595],\n",
      "         [-0.1234, -0.2126, -1.0591],\n",
      "         [ 0.0312,  0.5351,  0.2068]]], requires_grad=True)\n"
     ]
    },
    {
     "name": "stderr",
     "output_type": "stream",
     "text": [
      "\r",
      " 91%|█████████ | 91/100 [00:08<00:00, 10.59it/s]"
     ]
    },
    {
     "name": "stdout",
     "output_type": "stream",
     "text": [
      "Epoch 89: D_real_loss=0.2733278749510646, D_fake_loss=0.3976934952661395, G_loss=10.281816363334656, G_reg=0.41406342352274805, G_spreg=0.0, G_chreg=0.0\n",
      "Parameter containing:\n",
      "tensor([[[-0.0228,  0.1629,  0.0591],\n",
      "         [-0.1326, -0.2062, -1.0675],\n",
      "         [ 0.0287,  0.5363,  0.2059]]], requires_grad=True)\n",
      "Epoch 90: D_real_loss=0.2637104531750083, D_fake_loss=0.4078970439732075, G_loss=10.074875235557556, G_reg=0.4068475478561595, G_spreg=0.0, G_chreg=0.0\n",
      "Parameter containing:\n",
      "tensor([[[-0.0174,  0.1707,  0.0583],\n",
      "         [-0.1390, -0.2039, -1.0740],\n",
      "         [ 0.0294,  0.5347,  0.1993]]], requires_grad=True)\n",
      "Epoch 91: D_real_loss=0.2536256918683648, D_fake_loss=0.42136345990002155, G_loss=11.187955439090729, G_reg=0.3933820320526138, G_spreg=0.0, G_chreg=0.0\n",
      "Parameter containing:\n",
      "tensor([[[-0.0118,  0.1791,  0.0573],\n",
      "         [-0.1504, -0.1999, -1.0799],\n",
      "         [ 0.0248,  0.5321,  0.1965]]], requires_grad=True)\n"
     ]
    },
    {
     "name": "stderr",
     "output_type": "stream",
     "text": [
      " 95%|█████████▌| 95/100 [00:08<00:00, 11.14it/s]"
     ]
    },
    {
     "name": "stdout",
     "output_type": "stream",
     "text": [
      "Epoch 92: D_real_loss=0.26580223347991705, D_fake_loss=0.4050940442830324, G_loss=11.203497469425201, G_reg=0.36980841105105355, G_spreg=0.0, G_chreg=0.0\n",
      "Parameter containing:\n",
      "tensor([[[-0.0059,  0.1879,  0.0557],\n",
      "         [-0.1579, -0.1975, -1.0866],\n",
      "         [ 0.0211,  0.5302,  0.1903]]], requires_grad=True)\n",
      "Epoch 93: D_real_loss=0.263156340457499, D_fake_loss=0.40454810857772827, G_loss=10.194327980279922, G_reg=0.3979136483394541, G_spreg=0.0, G_chreg=0.0\n",
      "Parameter containing:\n",
      "tensor([[[-0.0023,  0.1973,  0.0558],\n",
      "         [-0.1655, -0.1910, -1.0934],\n",
      "         [ 0.0229,  0.5288,  0.1908]]], requires_grad=True)\n",
      "Epoch 94: D_real_loss=0.27061924152076244, D_fake_loss=0.41385113075375557, G_loss=11.380516469478607, G_reg=0.3820691301370971, G_spreg=0.0, G_chreg=0.0\n",
      "Parameter containing:\n",
      "tensor([[[-0.0060,  0.2049,  0.0557],\n",
      "         [-0.1709, -0.1880, -1.0946],\n",
      "         [ 0.0243,  0.5168,  0.1896]]], requires_grad=True)\n"
     ]
    },
    {
     "name": "stderr",
     "output_type": "stream",
     "text": [
      "\r",
      " 97%|█████████▋| 97/100 [00:08<00:00, 11.36it/s]"
     ]
    },
    {
     "name": "stdout",
     "output_type": "stream",
     "text": [
      "Epoch 95: D_real_loss=0.26858361810445786, D_fake_loss=0.39744492899626493, G_loss=10.455822765827179, G_reg=0.40660737140569836, G_spreg=0.0, G_chreg=0.0\n",
      "Parameter containing:\n",
      "tensor([[[-0.0030,  0.2136,  0.0543],\n",
      "         [-0.1769, -0.1870, -1.0983],\n",
      "         [ 0.0251,  0.5083,  0.1832]]], requires_grad=True)\n",
      "Epoch 96: D_real_loss=0.27243543416261673, D_fake_loss=0.3811732651665807, G_loss=10.810690075159073, G_reg=0.3967714073951356, G_spreg=0.0, G_chreg=0.0\n",
      "Parameter containing:\n",
      "tensor([[[-0.0082,  0.2242,  0.0533],\n",
      "         [-0.1858, -0.1849, -1.1022],\n",
      "         [ 0.0207,  0.5005,  0.1780]]], requires_grad=True)\n",
      "Epoch 97: D_real_loss=0.2816159976646304, D_fake_loss=0.4284094665199518, G_loss=10.054494023323059, G_reg=0.4108512934180908, G_spreg=0.0, G_chreg=0.0\n",
      "Parameter containing:\n",
      "tensor([[[-0.0143,  0.2331,  0.0544],\n",
      "         [-0.1954, -0.1797, -1.1041],\n",
      "         [ 0.0203,  0.4904,  0.1789]]], requires_grad=True)\n"
     ]
    },
    {
     "name": "stderr",
     "output_type": "stream",
     "text": [
      "100%|██████████| 100/100 [00:09<00:00, 11.01it/s]"
     ]
    },
    {
     "name": "stdout",
     "output_type": "stream",
     "text": [
      "Epoch 98: D_real_loss=0.24757284112274647, D_fake_loss=0.4036218598484993, G_loss=10.788059413433075, G_reg=0.35941310634370893, G_spreg=0.0, G_chreg=0.0\n",
      "Parameter containing:\n",
      "tensor([[[-0.0157,  0.2449,  0.0543],\n",
      "         [-0.2065, -0.1756, -1.1057],\n",
      "         [ 0.0182,  0.4794,  0.1797]]], requires_grad=True)\n",
      "Epoch 99: D_real_loss=0.2731016669422388, D_fake_loss=0.4129101689904928, G_loss=10.724535465240479, G_reg=0.3836356147076003, G_spreg=0.0, G_chreg=0.0\n",
      "Parameter containing:\n",
      "tensor([[[-0.0135,  0.2565,  0.0538],\n",
      "         [-0.2187, -0.1724, -1.1084],\n",
      "         [ 0.0161,  0.4713,  0.1748]]], requires_grad=True)\n"
     ]
    },
    {
     "name": "stderr",
     "output_type": "stream",
     "text": [
      "\n"
     ]
    }
   ],
   "source": [
    "t1 = time.time()\n",
    "%run -i 'main_lagan.py' --task discrete_rotation_synthetic --dataset_size 1000 --y_type scalar --coef_dist uniform_int_grid --uniform_max 10\n",
    "t2 = time.time()"
   ]
  },
  {
   "cell_type": "code",
   "execution_count": 18,
   "id": "1e8e07da",
   "metadata": {},
   "outputs": [
    {
     "name": "stderr",
     "output_type": "stream",
     "text": [
      "  1%|          | 1/100 [00:01<02:31,  1.53s/it]"
     ]
    },
    {
     "name": "stdout",
     "output_type": "stream",
     "text": [
      "Epoch 0: D_real_loss=0.6147755256856973, D_fake_loss=0.6404116681208626, G_loss=0.9627521399872753, G_reg=0.9036972485006617, G_spreg=0.0, G_chreg=0.0\n",
      "Parameter containing:\n",
      "tensor([[[-0.0869, -0.0244,  0.1371],\n",
      "         [ 0.2666, -0.4993, -0.4303],\n",
      "         [ 0.0841,  0.1345,  0.0377]]], requires_grad=True)\n"
     ]
    },
    {
     "name": "stderr",
     "output_type": "stream",
     "text": [
      "\r",
      "  2%|▏         | 2/100 [00:02<02:21,  1.45s/it]"
     ]
    },
    {
     "name": "stdout",
     "output_type": "stream",
     "text": [
      "Epoch 1: D_real_loss=0.6778442701592613, D_fake_loss=0.6837499055999536, G_loss=0.751553683616102, G_reg=0.9700666119258243, G_spreg=0.0, G_chreg=0.0\n",
      "Parameter containing:\n",
      "tensor([[[-0.0358, -0.1385,  0.0567],\n",
      "         [ 0.1786, -0.3329, -0.2164],\n",
      "         [-0.0019, -0.0042, -0.0153]]], requires_grad=True)\n"
     ]
    },
    {
     "name": "stderr",
     "output_type": "stream",
     "text": [
      "\r",
      "  3%|▎         | 3/100 [00:04<02:17,  1.42s/it]"
     ]
    },
    {
     "name": "stdout",
     "output_type": "stream",
     "text": [
      "Epoch 2: D_real_loss=0.6896858405762206, D_fake_loss=0.6911590030779854, G_loss=0.708365973192282, G_reg=0.9847180721477959, G_spreg=0.0, G_chreg=0.0\n",
      "Parameter containing:\n",
      "tensor([[[-0.0203, -0.1650,  0.0341],\n",
      "         [ 0.1497, -0.2274, -0.1039],\n",
      "         [-0.0031, -0.0008, -0.0009]]], requires_grad=True)\n"
     ]
    },
    {
     "name": "stderr",
     "output_type": "stream",
     "text": [
      "\r",
      "  4%|▍         | 4/100 [00:05<02:19,  1.46s/it]"
     ]
    },
    {
     "name": "stdout",
     "output_type": "stream",
     "text": [
      "Epoch 3: D_real_loss=0.6922489781730091, D_fake_loss=0.6925063462683949, G_loss=0.6978583627234632, G_reg=0.9890244895824418, G_spreg=0.0, G_chreg=0.0\n",
      "Parameter containing:\n",
      "tensor([[[-0.0179, -0.1633,  0.0190],\n",
      "         [ 0.1460, -0.1720, -0.0621],\n",
      "         [-0.0037, -0.0015,  0.0025]]], requires_grad=True)\n"
     ]
    },
    {
     "name": "stderr",
     "output_type": "stream",
     "text": [
      "\r",
      "  5%|▌         | 5/100 [00:07<02:16,  1.44s/it]"
     ]
    },
    {
     "name": "stdout",
     "output_type": "stream",
     "text": [
      "Epoch 4: D_real_loss=0.6926579231652208, D_fake_loss=0.6928688996135236, G_loss=0.6957794622110482, G_reg=0.9911383344485356, G_spreg=0.0, G_chreg=0.0\n",
      "Parameter containing:\n",
      "tensor([[[-0.0181, -0.1544,  0.0096],\n",
      "         [ 0.1345, -0.1308, -0.0319],\n",
      "         [-0.0026, -0.0005,  0.0050]]], requires_grad=True)\n"
     ]
    },
    {
     "name": "stderr",
     "output_type": "stream",
     "text": [
      "\r",
      "  6%|▌         | 6/100 [00:08<02:12,  1.41s/it]"
     ]
    },
    {
     "name": "stdout",
     "output_type": "stream",
     "text": [
      "Epoch 5: D_real_loss=0.6929897900206593, D_fake_loss=0.6928706728993133, G_loss=0.6946255779875734, G_reg=0.9929918359738951, G_spreg=0.0, G_chreg=0.0\n",
      "Parameter containing:\n",
      "tensor([[[-0.0168, -0.1414,  0.0017],\n",
      "         [ 0.1182, -0.1052, -0.0100],\n",
      "         [-0.0015, -0.0020,  0.0057]]], requires_grad=True)\n"
     ]
    },
    {
     "name": "stderr",
     "output_type": "stream",
     "text": [
      "\r",
      "  7%|▋         | 7/100 [00:09<02:10,  1.40s/it]"
     ]
    },
    {
     "name": "stdout",
     "output_type": "stream",
     "text": [
      "Epoch 6: D_real_loss=0.6929789543532716, D_fake_loss=0.6931454826848575, G_loss=0.6940058007027013, G_reg=0.9945578578585824, G_spreg=0.0, G_chreg=0.0\n",
      "Parameter containing:\n",
      "tensor([[[-0.0220, -0.1238, -0.0097],\n",
      "         [ 0.1009, -0.0875,  0.0065],\n",
      "         [-0.0020, -0.0019,  0.0064]]], requires_grad=True)\n"
     ]
    },
    {
     "name": "stderr",
     "output_type": "stream",
     "text": [
      "\r",
      "  8%|▊         | 8/100 [00:11<02:10,  1.42s/it]"
     ]
    },
    {
     "name": "stdout",
     "output_type": "stream",
     "text": [
      "Epoch 7: D_real_loss=0.6931558253285223, D_fake_loss=0.6930537779872029, G_loss=0.6938923974387562, G_reg=0.9961664480285142, G_spreg=0.0, G_chreg=0.0\n",
      "Parameter containing:\n",
      "tensor([[[-0.0315, -0.0970, -0.0179],\n",
      "         [ 0.0824, -0.0731,  0.0138],\n",
      "         [-0.0015, -0.0022,  0.0060]]], requires_grad=True)\n"
     ]
    },
    {
     "name": "stderr",
     "output_type": "stream",
     "text": [
      "\r",
      "  9%|▉         | 9/100 [00:12<02:11,  1.45s/it]"
     ]
    },
    {
     "name": "stdout",
     "output_type": "stream",
     "text": [
      "Epoch 8: D_real_loss=0.6931801901076929, D_fake_loss=0.6932390139887508, G_loss=0.6935725914784514, G_reg=0.9975426470319303, G_spreg=0.0, G_chreg=0.0\n",
      "Parameter containing:\n",
      "tensor([[[-0.0449, -0.0736, -0.0126],\n",
      "         [ 0.0668, -0.0612,  0.0233],\n",
      "         [-0.0006, -0.0022,  0.0050]]], requires_grad=True)\n"
     ]
    },
    {
     "name": "stderr",
     "output_type": "stream",
     "text": [
      "\r",
      " 10%|█         | 10/100 [00:14<02:16,  1.52s/it]"
     ]
    },
    {
     "name": "stdout",
     "output_type": "stream",
     "text": [
      "Epoch 9: D_real_loss=0.6931961889084155, D_fake_loss=0.6932215496374015, G_loss=0.6934913545370863, G_reg=0.9985433828930694, G_spreg=0.0, G_chreg=0.0\n",
      "Parameter containing:\n",
      "tensor([[[-0.0503, -0.0510, -0.0105],\n",
      "         [ 0.0459, -0.0492,  0.0244],\n",
      "         [-0.0003, -0.0018, -0.0013]]], requires_grad=True)\n"
     ]
    },
    {
     "name": "stderr",
     "output_type": "stream",
     "text": [
      "\r",
      " 11%|█         | 11/100 [00:16<02:17,  1.55s/it]"
     ]
    },
    {
     "name": "stdout",
     "output_type": "stream",
     "text": [
      "Epoch 10: D_real_loss=0.6932510644102249, D_fake_loss=0.6932490189997152, G_loss=0.6933895134316466, G_reg=0.9992220242635701, G_spreg=0.0, G_chreg=0.0\n",
      "Parameter containing:\n",
      "tensor([[[-0.0324, -0.0327, -0.0097],\n",
      "         [ 0.0307, -0.0425,  0.0237],\n",
      "         [ 0.0014, -0.0001,  0.0031]]], requires_grad=True)\n"
     ]
    },
    {
     "name": "stderr",
     "output_type": "stream",
     "text": [
      "\r",
      " 12%|█▏        | 12/100 [00:18<02:25,  1.65s/it]"
     ]
    },
    {
     "name": "stdout",
     "output_type": "stream",
     "text": [
      "Epoch 11: D_real_loss=0.6932504719819504, D_fake_loss=0.6932043758824992, G_loss=0.6933061196781195, G_reg=0.9996268648309068, G_spreg=0.0, G_chreg=0.0\n",
      "Parameter containing:\n",
      "tensor([[[-0.0301, -0.0200, -0.0070],\n",
      "         [ 0.0202, -0.0383,  0.0170],\n",
      "         [-0.0006,  0.0001,  0.0013]]], requires_grad=True)\n"
     ]
    },
    {
     "name": "stderr",
     "output_type": "stream",
     "text": [
      "\r",
      " 13%|█▎        | 13/100 [00:19<02:24,  1.66s/it]"
     ]
    },
    {
     "name": "stdout",
     "output_type": "stream",
     "text": [
      "Epoch 12: D_real_loss=0.6932005608043732, D_fake_loss=0.6932309288948107, G_loss=0.6932435627943411, G_reg=0.9998118591170532, G_spreg=0.0, G_chreg=0.0\n",
      "Parameter containing:\n",
      "tensor([[[-0.0268, -0.0076, -0.0075],\n",
      "         [ 0.0115, -0.0324,  0.0120],\n",
      "         [ 0.0010,  0.0003, -0.0029]]], requires_grad=True)\n"
     ]
    },
    {
     "name": "stderr",
     "output_type": "stream",
     "text": [
      "\r",
      " 14%|█▍        | 14/100 [00:21<02:19,  1.63s/it]"
     ]
    },
    {
     "name": "stdout",
     "output_type": "stream",
     "text": [
      "Epoch 13: D_real_loss=0.6932446501506403, D_fake_loss=0.6931947142171403, G_loss=0.6932618311418893, G_reg=0.999906405021017, G_spreg=0.0, G_chreg=0.0\n",
      "Parameter containing:\n",
      "tensor([[[-0.0266, -0.0044,  0.0027],\n",
      "         [ 0.0074, -0.0274,  0.0112],\n",
      "         [-0.0002, -0.0009, -0.0016]]], requires_grad=True)\n"
     ]
    },
    {
     "name": "stderr",
     "output_type": "stream",
     "text": [
      "\r",
      " 15%|█▌        | 15/100 [00:22<02:13,  1.58s/it]"
     ]
    },
    {
     "name": "stdout",
     "output_type": "stream",
     "text": [
      "Epoch 14: D_real_loss=0.6931723639987909, D_fake_loss=0.6932243834288356, G_loss=0.6931855410051803, G_reg=0.9999411374021071, G_spreg=0.0, G_chreg=0.0\n",
      "Parameter containing:\n",
      "tensor([[[-1.7783e-02, -2.0089e-03,  5.0920e-03],\n",
      "         [-1.3345e-03, -2.4392e-02,  5.8354e-03],\n",
      "         [ 3.4460e-04, -4.4289e-05,  3.9819e-04]]], requires_grad=True)\n"
     ]
    },
    {
     "name": "stderr",
     "output_type": "stream",
     "text": [
      "\r",
      " 16%|█▌        | 16/100 [00:24<02:09,  1.55s/it]"
     ]
    },
    {
     "name": "stdout",
     "output_type": "stream",
     "text": [
      "Epoch 15: D_real_loss=0.6932049020410727, D_fake_loss=0.6932011498049044, G_loss=0.6932156224982046, G_reg=0.999971038212601, G_spreg=0.0, G_chreg=0.0\n",
      "Parameter containing:\n",
      "tensor([[[-0.0099,  0.0018, -0.0024],\n",
      "         [-0.0085, -0.0200,  0.0048],\n",
      "         [-0.0014, -0.0021,  0.0016]]], requires_grad=True)\n"
     ]
    },
    {
     "name": "stderr",
     "output_type": "stream",
     "text": [
      "\r",
      " 17%|█▋        | 17/100 [00:25<02:07,  1.53s/it]"
     ]
    },
    {
     "name": "stdout",
     "output_type": "stream",
     "text": [
      "Epoch 16: D_real_loss=0.6931918274861174, D_fake_loss=0.6931884795332107, G_loss=0.693197311303867, G_reg=0.9999575795599828, G_spreg=0.0, G_chreg=0.0\n",
      "Parameter containing:\n",
      "tensor([[[ 9.3357e-03,  2.5426e-03, -4.1515e-03],\n",
      "         [-9.4458e-03, -1.8484e-02, -4.1395e-03],\n",
      "         [-1.4730e-04,  6.6567e-05,  2.0337e-03]]], requires_grad=True)\n"
     ]
    },
    {
     "name": "stderr",
     "output_type": "stream",
     "text": [
      "\r",
      " 18%|█▊        | 18/100 [00:27<02:03,  1.51s/it]"
     ]
    },
    {
     "name": "stdout",
     "output_type": "stream",
     "text": [
      "Epoch 17: D_real_loss=0.6931874161711136, D_fake_loss=0.6931987067761893, G_loss=0.6931985698568935, G_reg=0.9999725548104166, G_spreg=0.0, G_chreg=0.0\n",
      "Parameter containing:\n",
      "tensor([[[-0.0029,  0.0013,  0.0020],\n",
      "         [-0.0099, -0.0127, -0.0005],\n",
      "         [-0.0021, -0.0007, -0.0012]]], requires_grad=True)\n"
     ]
    },
    {
     "name": "stderr",
     "output_type": "stream",
     "text": [
      "\r",
      " 19%|█▉        | 19/100 [00:28<01:58,  1.46s/it]"
     ]
    },
    {
     "name": "stdout",
     "output_type": "stream",
     "text": [
      "Epoch 18: D_real_loss=0.6931679774397097, D_fake_loss=0.6931996419787788, G_loss=0.6931745819390391, G_reg=0.9999857662013545, G_spreg=0.0, G_chreg=0.0\n",
      "Parameter containing:\n",
      "tensor([[[-0.0071, -0.0041, -0.0067],\n",
      "         [-0.0011, -0.0094,  0.0006],\n",
      "         [ 0.0006,  0.0022, -0.0029]]], requires_grad=True)\n"
     ]
    },
    {
     "name": "stderr",
     "output_type": "stream",
     "text": [
      "\r",
      " 20%|██        | 20/100 [00:29<01:54,  1.43s/it]"
     ]
    },
    {
     "name": "stdout",
     "output_type": "stream",
     "text": [
      "Epoch 19: D_real_loss=0.6932187114660733, D_fake_loss=0.6931691323987211, G_loss=0.6932223385896165, G_reg=0.9999903912742298, G_spreg=0.0, G_chreg=0.0\n",
      "Parameter containing:\n",
      "tensor([[[-6.9886e-03,  2.9272e-03,  1.0318e-02],\n",
      "         [ 4.4363e-03, -9.0375e-03,  6.9340e-05],\n",
      "         [-8.6136e-04, -1.6431e-03, -5.9160e-03]]], requires_grad=True)\n"
     ]
    },
    {
     "name": "stderr",
     "output_type": "stream",
     "text": [
      "\r",
      " 21%|██        | 21/100 [00:31<01:53,  1.44s/it]"
     ]
    },
    {
     "name": "stdout",
     "output_type": "stream",
     "text": [
      "Epoch 20: D_real_loss=0.6931858430274378, D_fake_loss=0.6931981453880335, G_loss=0.6931897439895728, G_reg=0.999961606860637, G_spreg=0.0, G_chreg=0.0\n",
      "Parameter containing:\n",
      "tensor([[[ 0.0090, -0.0018,  0.0169],\n",
      "         [ 0.0005, -0.0058, -0.0067],\n",
      "         [ 0.0031, -0.0011,  0.0018]]], requires_grad=True)\n"
     ]
    },
    {
     "name": "stderr",
     "output_type": "stream",
     "text": [
      "\r",
      " 22%|██▏       | 22/100 [00:32<01:53,  1.45s/it]"
     ]
    },
    {
     "name": "stdout",
     "output_type": "stream",
     "text": [
      "Epoch 21: D_real_loss=0.6931815728211936, D_fake_loss=0.693197844508357, G_loss=0.6931903851679719, G_reg=0.9999422029184457, G_spreg=0.0, G_chreg=0.0\n",
      "Parameter containing:\n",
      "tensor([[[-0.0038,  0.0016, -0.0021],\n",
      "         [-0.0067, -0.0026, -0.0135],\n",
      "         [ 0.0023, -0.0005,  0.0024]]], requires_grad=True)\n"
     ]
    },
    {
     "name": "stderr",
     "output_type": "stream",
     "text": [
      "\r",
      " 23%|██▎       | 23/100 [00:34<01:53,  1.47s/it]"
     ]
    },
    {
     "name": "stdout",
     "output_type": "stream",
     "text": [
      "Epoch 22: D_real_loss=0.6932139945106385, D_fake_loss=0.6932053609777944, G_loss=0.6932167359434378, G_reg=0.9999494797315079, G_spreg=0.0, G_chreg=0.0\n",
      "Parameter containing:\n",
      "tensor([[[-0.0118, -0.0105,  0.0231],\n",
      "         [-0.0115, -0.0002, -0.0081],\n",
      "         [-0.0024, -0.0010,  0.0005]]], requires_grad=True)\n"
     ]
    },
    {
     "name": "stderr",
     "output_type": "stream",
     "text": [
      "\r",
      " 24%|██▍       | 24/100 [00:35<01:51,  1.46s/it]"
     ]
    },
    {
     "name": "stdout",
     "output_type": "stream",
     "text": [
      "Epoch 23: D_real_loss=0.693212028890372, D_fake_loss=0.6931975074469472, G_loss=0.6932199446918865, G_reg=0.9999170941047775, G_spreg=0.0, G_chreg=0.0\n",
      "Parameter containing:\n",
      "tensor([[[ 0.0005, -0.0119,  0.0264],\n",
      "         [-0.0018, -0.0003, -0.0030],\n",
      "         [-0.0003, -0.0025, -0.0071]]], requires_grad=True)\n"
     ]
    },
    {
     "name": "stderr",
     "output_type": "stream",
     "text": [
      "\r",
      " 25%|██▌       | 25/100 [00:37<01:50,  1.47s/it]"
     ]
    },
    {
     "name": "stdout",
     "output_type": "stream",
     "text": [
      "Epoch 24: D_real_loss=0.6932061274592488, D_fake_loss=0.6932018088837402, G_loss=0.6932117381034949, G_reg=0.9999293738755936, G_spreg=0.0, G_chreg=0.0\n",
      "Parameter containing:\n",
      "tensor([[[-1.5735e-03, -2.6496e-02, -1.2769e-03],\n",
      "         [-3.7358e-03,  4.7151e-03,  7.2629e-04],\n",
      "         [ 1.1552e-03,  1.0380e-03,  4.9547e-05]]], requires_grad=True)\n"
     ]
    },
    {
     "name": "stderr",
     "output_type": "stream",
     "text": [
      "\r",
      " 26%|██▌       | 26/100 [00:38<01:50,  1.49s/it]"
     ]
    },
    {
     "name": "stdout",
     "output_type": "stream",
     "text": [
      "Epoch 25: D_real_loss=0.6932000776830192, D_fake_loss=0.693207849138461, G_loss=0.6932072210997439, G_reg=0.9999178010768022, G_spreg=0.0, G_chreg=0.0\n",
      "Parameter containing:\n",
      "tensor([[[ 0.0005, -0.0108, -0.0004],\n",
      "         [-0.0074,  0.0094, -0.0038],\n",
      "         [-0.0004,  0.0018, -0.0048]]], requires_grad=True)\n"
     ]
    },
    {
     "name": "stderr",
     "output_type": "stream",
     "text": [
      "\r",
      " 27%|██▋       | 27/100 [00:40<01:49,  1.50s/it]"
     ]
    },
    {
     "name": "stdout",
     "output_type": "stream",
     "text": [
      "Epoch 26: D_real_loss=0.6932506338475992, D_fake_loss=0.693180467564458, G_loss=0.6932504194232222, G_reg=0.9998923768631567, G_spreg=0.0, G_chreg=0.0\n",
      "Parameter containing:\n",
      "tensor([[[-0.0125, -0.0281, -0.0043],\n",
      "         [-0.0154,  0.0100,  0.0042],\n",
      "         [-0.0019,  0.0006, -0.0015]]], requires_grad=True)\n"
     ]
    },
    {
     "name": "stderr",
     "output_type": "stream",
     "text": [
      "\r",
      " 28%|██▊       | 28/100 [00:41<01:48,  1.51s/it]"
     ]
    },
    {
     "name": "stdout",
     "output_type": "stream",
     "text": [
      "Epoch 27: D_real_loss=0.6931900024033202, D_fake_loss=0.6931729994642849, G_loss=0.6931993007279051, G_reg=0.9999157328265734, G_spreg=0.0, G_chreg=0.0\n",
      "Parameter containing:\n",
      "tensor([[[-0.0085, -0.0127,  0.0004],\n",
      "         [ 0.0039,  0.0060,  0.0148],\n",
      "         [ 0.0008, -0.0015,  0.0007]]], requires_grad=True)\n"
     ]
    },
    {
     "name": "stderr",
     "output_type": "stream",
     "text": [
      "\r",
      " 29%|██▉       | 29/100 [00:43<01:53,  1.60s/it]"
     ]
    },
    {
     "name": "stdout",
     "output_type": "stream",
     "text": [
      "Epoch 28: D_real_loss=0.6931822010503409, D_fake_loss=0.6932394969196746, G_loss=0.6931882984341143, G_reg=0.9999281122756842, G_spreg=0.0, G_chreg=0.0\n",
      "Parameter containing:\n",
      "tensor([[[ 0.0172,  0.0019, -0.0016],\n",
      "         [ 0.0196,  0.0043,  0.0156],\n",
      "         [ 0.0006,  0.0047,  0.0019]]], requires_grad=True)\n"
     ]
    },
    {
     "name": "stderr",
     "output_type": "stream",
     "text": [
      "\r",
      " 30%|███       | 30/100 [00:45<01:55,  1.65s/it]"
     ]
    },
    {
     "name": "stdout",
     "output_type": "stream",
     "text": [
      "Epoch 29: D_real_loss=0.6931791265551656, D_fake_loss=0.6931994250788095, G_loss=0.6931912636223693, G_reg=0.9999061149125472, G_spreg=0.0, G_chreg=0.0\n",
      "Parameter containing:\n",
      "tensor([[[-0.0001,  0.0103, -0.0044],\n",
      "         [ 0.0094,  0.0018,  0.0068],\n",
      "         [-0.0002,  0.0030,  0.0026]]], requires_grad=True)\n"
     ]
    },
    {
     "name": "stderr",
     "output_type": "stream",
     "text": [
      "\r",
      " 31%|███       | 31/100 [00:47<01:54,  1.66s/it]"
     ]
    },
    {
     "name": "stdout",
     "output_type": "stream",
     "text": [
      "Epoch 30: D_real_loss=0.6931658309107771, D_fake_loss=0.6931976641709812, G_loss=0.6931735503787811, G_reg=0.9999501667678737, G_spreg=0.0, G_chreg=0.0\n",
      "Parameter containing:\n",
      "tensor([[[-0.0183,  0.0032,  0.0008],\n",
      "         [-0.0008, -0.0098,  0.0036],\n",
      "         [-0.0010, -0.0015, -0.0047]]], requires_grad=True)\n"
     ]
    },
    {
     "name": "stderr",
     "output_type": "stream",
     "text": [
      "\r",
      " 32%|███▏      | 32/100 [00:48<01:52,  1.66s/it]"
     ]
    },
    {
     "name": "stdout",
     "output_type": "stream",
     "text": [
      "Epoch 31: D_real_loss=0.6931865834199582, D_fake_loss=0.6931953247362813, G_loss=0.6931949137879637, G_reg=0.9999688423146456, G_spreg=0.0, G_chreg=0.0\n",
      "Parameter containing:\n",
      "tensor([[[ 0.0002, -0.0018,  0.0016],\n",
      "         [ 0.0064, -0.0013,  0.0126],\n",
      "         [-0.0024, -0.0006,  0.0037]]], requires_grad=True)\n"
     ]
    },
    {
     "name": "stderr",
     "output_type": "stream",
     "text": [
      "\r",
      " 33%|███▎      | 33/100 [00:50<01:50,  1.65s/it]"
     ]
    },
    {
     "name": "stdout",
     "output_type": "stream",
     "text": [
      "Epoch 32: D_real_loss=0.6931764561528215, D_fake_loss=0.6931881413292199, G_loss=0.6931825485854103, G_reg=0.9999674224196532, G_spreg=0.0, G_chreg=0.0\n",
      "Parameter containing:\n",
      "tensor([[[-0.0165, -0.0058,  0.0077],\n",
      "         [ 0.0138, -0.0076,  0.0081],\n",
      "         [-0.0002,  0.0009, -0.0051]]], requires_grad=True)\n"
     ]
    },
    {
     "name": "stderr",
     "output_type": "stream",
     "text": [
      "\r",
      " 34%|███▍      | 34/100 [00:52<01:48,  1.64s/it]"
     ]
    },
    {
     "name": "stdout",
     "output_type": "stream",
     "text": [
      "Epoch 33: D_real_loss=0.6932197161756766, D_fake_loss=0.6931956023834764, G_loss=0.6932285498506345, G_reg=0.9998475463269427, G_spreg=0.0, G_chreg=0.0\n",
      "Parameter containing:\n",
      "tensor([[[-0.0216,  0.0129,  0.0055],\n",
      "         [-0.0159,  0.0042,  0.0023],\n",
      "         [ 0.0015,  0.0006,  0.0002]]], requires_grad=True)\n"
     ]
    },
    {
     "name": "stderr",
     "output_type": "stream",
     "text": [
      "\r",
      " 35%|███▌      | 35/100 [00:53<01:46,  1.64s/it]"
     ]
    },
    {
     "name": "stdout",
     "output_type": "stream",
     "text": [
      "Epoch 34: D_real_loss=0.6931808377607181, D_fake_loss=0.6932163310888857, G_loss=0.6931851262482591, G_reg=0.9998991564749339, G_spreg=0.0, G_chreg=0.0\n",
      "Parameter containing:\n",
      "tensor([[[-1.5962e-02, -5.9701e-04, -1.5442e-02],\n",
      "         [-2.9785e-02,  7.8289e-05, -1.2344e-02],\n",
      "         [ 2.6001e-03, -3.7588e-03,  7.4108e-03]]], requires_grad=True)\n"
     ]
    },
    {
     "name": "stderr",
     "output_type": "stream",
     "text": [
      "\r",
      " 36%|███▌      | 36/100 [00:55<01:44,  1.64s/it]"
     ]
    },
    {
     "name": "stdout",
     "output_type": "stream",
     "text": [
      "Epoch 35: D_real_loss=0.6932060312920104, D_fake_loss=0.6931693062614709, G_loss=0.6932192511451892, G_reg=0.999796031096492, G_spreg=0.0, G_chreg=0.0\n",
      "Parameter containing:\n",
      "tensor([[[-0.0133,  0.0095, -0.0084],\n",
      "         [-0.0007, -0.0083, -0.0158],\n",
      "         [-0.0029,  0.0019,  0.0033]]], requires_grad=True)\n"
     ]
    },
    {
     "name": "stderr",
     "output_type": "stream",
     "text": [
      "\r",
      " 37%|███▋      | 37/100 [00:57<01:43,  1.65s/it]"
     ]
    },
    {
     "name": "stdout",
     "output_type": "stream",
     "text": [
      "Epoch 36: D_real_loss=0.6932536472146884, D_fake_loss=0.6931477691799688, G_loss=0.6932648041377814, G_reg=0.9998673466019357, G_spreg=0.0, G_chreg=0.0\n",
      "Parameter containing:\n",
      "tensor([[[ 0.0061, -0.0047, -0.0028],\n",
      "         [ 0.0041, -0.0105, -0.0164],\n",
      "         [ 0.0002,  0.0020, -0.0065]]], requires_grad=True)\n"
     ]
    },
    {
     "name": "stderr",
     "output_type": "stream",
     "text": [
      "\r",
      " 38%|███▊      | 38/100 [00:58<01:45,  1.70s/it]"
     ]
    },
    {
     "name": "stdout",
     "output_type": "stream",
     "text": [
      "Epoch 37: D_real_loss=0.6931354395878582, D_fake_loss=0.6932065001311013, G_loss=0.6931414070982522, G_reg=0.9999550971241233, G_spreg=0.0, G_chreg=0.0\n",
      "Parameter containing:\n",
      "tensor([[[ 0.0093, -0.0110,  0.0076],\n",
      "         [ 0.0024, -0.0005, -0.0014],\n",
      "         [-0.0088,  0.0095,  0.0055]]], requires_grad=True)\n"
     ]
    },
    {
     "name": "stderr",
     "output_type": "stream",
     "text": [
      "\r",
      " 39%|███▉      | 39/100 [01:00<01:41,  1.67s/it]"
     ]
    },
    {
     "name": "stdout",
     "output_type": "stream",
     "text": [
      "Epoch 38: D_real_loss=0.6931925886355269, D_fake_loss=0.6931860545953623, G_loss=0.693196881502962, G_reg=0.9998918326494222, G_spreg=0.0, G_chreg=0.0\n",
      "Parameter containing:\n",
      "tensor([[[ 0.0169, -0.0104, -0.0043],\n",
      "         [-0.0231,  0.0175,  0.0030],\n",
      "         [-0.0027,  0.0015, -0.0037]]], requires_grad=True)\n"
     ]
    },
    {
     "name": "stderr",
     "output_type": "stream",
     "text": [
      "\r",
      " 40%|████      | 40/100 [01:01<01:38,  1.64s/it]"
     ]
    },
    {
     "name": "stdout",
     "output_type": "stream",
     "text": [
      "Epoch 39: D_real_loss=0.6931850236063948, D_fake_loss=0.6931798075334713, G_loss=0.6931959908610335, G_reg=0.9999164347402966, G_spreg=0.0, G_chreg=0.0\n",
      "Parameter containing:\n",
      "tensor([[[-0.0002, -0.0094, -0.0039],\n",
      "         [ 0.0017,  0.0127,  0.0062],\n",
      "         [-0.0009, -0.0016, -0.0072]]], requires_grad=True)\n"
     ]
    },
    {
     "name": "stderr",
     "output_type": "stream",
     "text": [
      "\r",
      " 41%|████      | 41/100 [01:03<01:33,  1.58s/it]"
     ]
    },
    {
     "name": "stdout",
     "output_type": "stream",
     "text": [
      "Epoch 40: D_real_loss=0.6931561043087285, D_fake_loss=0.6931896049755449, G_loss=0.6931652820910128, G_reg=0.9999663402406743, G_spreg=0.0, G_chreg=0.0\n",
      "Parameter containing:\n",
      "tensor([[[ 0.0094,  0.0110, -0.0100],\n",
      "         [-0.0114,  0.0078,  0.0003],\n",
      "         [-0.0019, -0.0011, -0.0075]]], requires_grad=True)\n"
     ]
    },
    {
     "name": "stderr",
     "output_type": "stream",
     "text": [
      "\r",
      " 42%|████▏     | 42/100 [01:04<01:29,  1.55s/it]"
     ]
    },
    {
     "name": "stdout",
     "output_type": "stream",
     "text": [
      "Epoch 41: D_real_loss=0.693185984707488, D_fake_loss=0.6931769297526668, G_loss=0.6931956574177971, G_reg=0.9999328153059125, G_spreg=0.0, G_chreg=0.0\n",
      "Parameter containing:\n",
      "tensor([[[ 0.0145, -0.0007,  0.0036],\n",
      "         [ 0.0048,  0.0096,  0.0084],\n",
      "         [-0.0025,  0.0023, -0.0017]]], requires_grad=True)\n"
     ]
    },
    {
     "name": "stderr",
     "output_type": "stream",
     "text": [
      "\r",
      " 43%|████▎     | 43/100 [01:06<01:26,  1.53s/it]"
     ]
    },
    {
     "name": "stdout",
     "output_type": "stream",
     "text": [
      "Epoch 42: D_real_loss=0.6932035629360821, D_fake_loss=0.6931491909316554, G_loss=0.693210477074876, G_reg=0.9999425456927608, G_spreg=0.0, G_chreg=0.0\n",
      "Parameter containing:\n",
      "tensor([[[ 0.0052,  0.0070,  0.0136],\n",
      "         [ 0.0110,  0.0040,  0.0232],\n",
      "         [-0.0030,  0.0064,  0.0040]]], requires_grad=True)\n"
     ]
    },
    {
     "name": "stderr",
     "output_type": "stream",
     "text": [
      "\r",
      " 44%|████▍     | 44/100 [01:07<01:24,  1.52s/it]"
     ]
    },
    {
     "name": "stdout",
     "output_type": "stream",
     "text": [
      "Epoch 43: D_real_loss=0.6931921635953763, D_fake_loss=0.6931968776943584, G_loss=0.6931990053707038, G_reg=0.9997888024860677, G_spreg=0.0, G_chreg=0.0\n",
      "Parameter containing:\n",
      "tensor([[[-0.0085, -0.0311, -0.0272],\n",
      "         [ 0.0116, -0.0045,  0.0208],\n",
      "         [ 0.0039,  0.0062,  0.0057]]], requires_grad=True)\n"
     ]
    },
    {
     "name": "stderr",
     "output_type": "stream",
     "text": [
      "\r",
      " 45%|████▌     | 45/100 [01:09<01:23,  1.51s/it]"
     ]
    },
    {
     "name": "stdout",
     "output_type": "stream",
     "text": [
      "Epoch 44: D_real_loss=0.6931830073317019, D_fake_loss=0.6932100217563276, G_loss=0.6932004025568977, G_reg=0.9997113744695537, G_spreg=0.0, G_chreg=0.0\n",
      "Parameter containing:\n",
      "tensor([[[-0.0141, -0.0126, -0.0094],\n",
      "         [ 0.0014, -0.0023,  0.0217],\n",
      "         [-0.0023,  0.0040,  0.0028]]], requires_grad=True)\n"
     ]
    },
    {
     "name": "stderr",
     "output_type": "stream",
     "text": [
      "\r",
      " 46%|████▌     | 46/100 [01:10<01:20,  1.49s/it]"
     ]
    },
    {
     "name": "stdout",
     "output_type": "stream",
     "text": [
      "Epoch 45: D_real_loss=0.693182886598971, D_fake_loss=0.6931729634729819, G_loss=0.6931926720439435, G_reg=0.9999175270358784, G_spreg=0.0, G_chreg=0.0\n",
      "Parameter containing:\n",
      "tensor([[[ 0.0098, -0.0202,  0.0026],\n",
      "         [ 0.0032,  0.0071,  0.0011],\n",
      "         [ 0.0033, -0.0025, -0.0011]]], requires_grad=True)\n"
     ]
    },
    {
     "name": "stderr",
     "output_type": "stream",
     "text": [
      "\r",
      " 47%|████▋     | 47/100 [01:12<01:19,  1.49s/it]"
     ]
    },
    {
     "name": "stdout",
     "output_type": "stream",
     "text": [
      "Epoch 46: D_real_loss=0.6931810017210988, D_fake_loss=0.6931759000967105, G_loss=0.6931882944350807, G_reg=0.9998986018470492, G_spreg=0.0, G_chreg=0.0\n",
      "Parameter containing:\n",
      "tensor([[[ 0.0123, -0.0058, -0.0014],\n",
      "         [ 0.0099, -0.0071,  0.0075],\n",
      "         [-0.0037, -0.0058,  0.0025]]], requires_grad=True)\n"
     ]
    },
    {
     "name": "stderr",
     "output_type": "stream",
     "text": [
      "\r",
      " 48%|████▊     | 48/100 [01:13<01:17,  1.49s/it]"
     ]
    },
    {
     "name": "stdout",
     "output_type": "stream",
     "text": [
      "Epoch 47: D_real_loss=0.6931548726063567, D_fake_loss=0.6931885518966773, G_loss=0.6931614384483605, G_reg=0.9999557056080419, G_spreg=0.0, G_chreg=0.0\n",
      "Parameter containing:\n",
      "tensor([[[ 1.0797e-02, -7.1185e-03,  6.9327e-03],\n",
      "         [-8.8580e-03,  1.7018e-02, -3.0521e-03],\n",
      "         [ 3.4955e-04,  2.3421e-03,  2.1025e-05]]], requires_grad=True)\n"
     ]
    },
    {
     "name": "stderr",
     "output_type": "stream",
     "text": [
      "\r",
      " 49%|████▉     | 49/100 [01:15<01:18,  1.54s/it]"
     ]
    },
    {
     "name": "stdout",
     "output_type": "stream",
     "text": [
      "Epoch 48: D_real_loss=0.6932001736598273, D_fake_loss=0.693195246088619, G_loss=0.6932040414871118, G_reg=0.9998060527819985, G_spreg=0.0, G_chreg=0.0\n",
      "Parameter containing:\n",
      "tensor([[[ 0.0218, -0.0181,  0.0321],\n",
      "         [-0.0285,  0.0082, -0.0008],\n",
      "         [ 0.0034, -0.0003,  0.0035]]], requires_grad=True)\n"
     ]
    },
    {
     "name": "stderr",
     "output_type": "stream",
     "text": [
      "\r",
      " 50%|█████     | 50/100 [01:17<01:16,  1.54s/it]"
     ]
    },
    {
     "name": "stdout",
     "output_type": "stream",
     "text": [
      "Epoch 49: D_real_loss=0.6931750818182485, D_fake_loss=0.6931963412525555, G_loss=0.6931868709695225, G_reg=0.9998158272058247, G_spreg=0.0, G_chreg=0.0\n",
      "Parameter containing:\n",
      "tensor([[[ 0.0041, -0.0122,  0.0113],\n",
      "         [-0.0051,  0.0090, -0.0109],\n",
      "         [ 0.0006,  0.0082,  0.0029]]], requires_grad=True)\n"
     ]
    },
    {
     "name": "stderr",
     "output_type": "stream",
     "text": [
      "\r",
      " 51%|█████     | 51/100 [01:18<01:15,  1.55s/it]"
     ]
    },
    {
     "name": "stdout",
     "output_type": "stream",
     "text": [
      "Epoch 50: D_real_loss=0.693175294528754, D_fake_loss=0.6931780814743651, G_loss=0.6931841893317982, G_reg=0.9998439451138051, G_spreg=0.0, G_chreg=0.0\n",
      "Parameter containing:\n",
      "tensor([[[-0.0210, -0.0088,  0.0069],\n",
      "         [ 0.0070,  0.0081,  0.0136],\n",
      "         [ 0.0037,  0.0039,  0.0003]]], requires_grad=True)\n"
     ]
    },
    {
     "name": "stderr",
     "output_type": "stream",
     "text": [
      "\r",
      " 52%|█████▏    | 52/100 [01:20<01:14,  1.55s/it]"
     ]
    },
    {
     "name": "stdout",
     "output_type": "stream",
     "text": [
      "Epoch 51: D_real_loss=0.6931829309692017, D_fake_loss=0.6931934804200365, G_loss=0.693188331759395, G_reg=0.999853963228746, G_spreg=0.0, G_chreg=0.0\n",
      "Parameter containing:\n",
      "tensor([[[-0.0144, -0.0086, -0.0053],\n",
      "         [ 0.0173, -0.0180,  0.0088],\n",
      "         [ 0.0017, -0.0009,  0.0056]]], requires_grad=True)\n"
     ]
    },
    {
     "name": "stderr",
     "output_type": "stream",
     "text": [
      "\r",
      " 53%|█████▎    | 53/100 [01:21<01:11,  1.53s/it]"
     ]
    },
    {
     "name": "stdout",
     "output_type": "stream",
     "text": [
      "Epoch 52: D_real_loss=0.6931668598050127, D_fake_loss=0.6931940395230303, G_loss=0.6931735004860753, G_reg=0.999864188436502, G_spreg=0.0, G_chreg=0.0\n",
      "Parameter containing:\n",
      "tensor([[[-0.0065,  0.0127, -0.0135],\n",
      "         [ 0.0124, -0.0070,  0.0168],\n",
      "         [-0.0045,  0.0014, -0.0035]]], requires_grad=True)\n"
     ]
    },
    {
     "name": "stderr",
     "output_type": "stream",
     "text": [
      "\r",
      " 54%|█████▍    | 54/100 [01:23<01:11,  1.54s/it]"
     ]
    },
    {
     "name": "stdout",
     "output_type": "stream",
     "text": [
      "Epoch 53: D_real_loss=0.6932001856569284, D_fake_loss=0.6931509320347454, G_loss=0.6932085320210686, G_reg=0.9998885260079615, G_spreg=0.0, G_chreg=0.0\n",
      "Parameter containing:\n",
      "tensor([[[-0.0102,  0.0074, -0.0100],\n",
      "         [-0.0010, -0.0078,  0.0043],\n",
      "         [-0.0012,  0.0013,  0.0013]]], requires_grad=True)\n"
     ]
    },
    {
     "name": "stderr",
     "output_type": "stream",
     "text": [
      "\r",
      " 55%|█████▌    | 55/100 [01:24<01:09,  1.55s/it]"
     ]
    },
    {
     "name": "stdout",
     "output_type": "stream",
     "text": [
      "Epoch 54: D_real_loss=0.693149164461861, D_fake_loss=0.6931918587166661, G_loss=0.6931535287406116, G_reg=0.999949038766634, G_spreg=0.0, G_chreg=0.0\n",
      "Parameter containing:\n",
      "tensor([[[-0.0155,  0.0053,  0.0123],\n",
      "         [ 0.0025, -0.0093, -0.0044],\n",
      "         [ 0.0050, -0.0027, -0.0038]]], requires_grad=True)\n"
     ]
    },
    {
     "name": "stderr",
     "output_type": "stream",
     "text": [
      "\r",
      " 56%|█████▌    | 56/100 [01:26<01:07,  1.53s/it]"
     ]
    },
    {
     "name": "stdout",
     "output_type": "stream",
     "text": [
      "Epoch 55: D_real_loss=0.6931903400360205, D_fake_loss=0.6931813422102517, G_loss=0.6931957071200727, G_reg=0.9998893159956407, G_spreg=0.0, G_chreg=0.0\n",
      "Parameter containing:\n",
      "tensor([[[-0.0008,  0.0132, -0.0042],\n",
      "         [-0.0151, -0.0105, -0.0168],\n",
      "         [-0.0003, -0.0032, -0.0026]]], requires_grad=True)\n"
     ]
    },
    {
     "name": "stderr",
     "output_type": "stream",
     "text": [
      "\r",
      " 57%|█████▋    | 57/100 [01:27<01:04,  1.51s/it]"
     ]
    },
    {
     "name": "stdout",
     "output_type": "stream",
     "text": [
      "Epoch 56: D_real_loss=0.6931746773445568, D_fake_loss=0.6931661946324114, G_loss=0.6931833895250631, G_reg=0.9999465494871901, G_spreg=0.0, G_chreg=0.0\n",
      "Parameter containing:\n",
      "tensor([[[ 0.0043, -0.0121, -0.0012],\n",
      "         [ 0.0002, -0.0089, -0.0198],\n",
      "         [-0.0004,  0.0026,  0.0024]]], requires_grad=True)\n"
     ]
    },
    {
     "name": "stderr",
     "output_type": "stream",
     "text": [
      "\r",
      " 58%|█████▊    | 58/100 [01:29<01:04,  1.54s/it]"
     ]
    },
    {
     "name": "stdout",
     "output_type": "stream",
     "text": [
      "Epoch 57: D_real_loss=0.6931967794323881, D_fake_loss=0.6931552087156155, G_loss=0.6932022588702437, G_reg=0.9999104579107259, G_spreg=0.0, G_chreg=0.0\n",
      "Parameter containing:\n",
      "tensor([[[-0.0130,  0.0008,  0.0026],\n",
      "         [-0.0121, -0.0121, -0.0202],\n",
      "         [ 0.0012, -0.0043, -0.0002]]], requires_grad=True)\n"
     ]
    },
    {
     "name": "stderr",
     "output_type": "stream",
     "text": [
      "\r",
      " 59%|█████▉    | 59/100 [01:31<01:04,  1.58s/it]"
     ]
    },
    {
     "name": "stdout",
     "output_type": "stream",
     "text": [
      "Epoch 58: D_real_loss=0.6932084463274898, D_fake_loss=0.6931780915671644, G_loss=0.6932006623036564, G_reg=0.999697273412642, G_spreg=0.0, G_chreg=0.0\n",
      "Parameter containing:\n",
      "tensor([[[-0.0048,  0.0140,  0.0355],\n",
      "         [-0.0065, -0.0189, -0.0517],\n",
      "         [-0.0064, -0.0001, -0.0023]]], requires_grad=True)\n"
     ]
    },
    {
     "name": "stderr",
     "output_type": "stream",
     "text": [
      "\r",
      " 60%|██████    | 60/100 [01:32<01:05,  1.64s/it]"
     ]
    },
    {
     "name": "stdout",
     "output_type": "stream",
     "text": [
      "Epoch 59: D_real_loss=0.6931780494820957, D_fake_loss=0.693195501836344, G_loss=0.6931978361294292, G_reg=0.9995545980672296, G_spreg=0.0, G_chreg=0.0\n",
      "Parameter containing:\n",
      "tensor([[[ 0.0080,  0.0211, -0.0098],\n",
      "         [-0.0224,  0.0049, -0.0247],\n",
      "         [ 0.0028, -0.0028, -0.0007]]], requires_grad=True)\n"
     ]
    },
    {
     "name": "stderr",
     "output_type": "stream",
     "text": [
      "\r",
      " 61%|██████    | 61/100 [01:34<01:05,  1.67s/it]"
     ]
    },
    {
     "name": "stdout",
     "output_type": "stream",
     "text": [
      "Epoch 60: D_real_loss=0.6931846924483205, D_fake_loss=0.6931589369575817, G_loss=0.693195168773968, G_reg=0.9998267995544706, G_spreg=0.0, G_chreg=0.0\n",
      "Parameter containing:\n",
      "tensor([[[ 0.0085,  0.0029,  0.0005],\n",
      "         [-0.0205, -0.0031, -0.0200],\n",
      "         [ 0.0051, -0.0039,  0.0015]]], requires_grad=True)\n"
     ]
    },
    {
     "name": "stderr",
     "output_type": "stream",
     "text": [
      "\r",
      " 62%|██████▏   | 62/100 [01:36<01:03,  1.66s/it]"
     ]
    },
    {
     "name": "stdout",
     "output_type": "stream",
     "text": [
      "Epoch 61: D_real_loss=0.693164621869596, D_fake_loss=0.6931773243239894, G_loss=0.6931713579561763, G_reg=0.9998472353901726, G_spreg=0.0, G_chreg=0.0\n",
      "Parameter containing:\n",
      "tensor([[[ 0.0120, -0.0066,  0.0168],\n",
      "         [-0.0136,  0.0184, -0.0150],\n",
      "         [ 0.0049,  0.0032, -0.0059]]], requires_grad=True)\n"
     ]
    },
    {
     "name": "stderr",
     "output_type": "stream",
     "text": [
      "\r",
      " 63%|██████▎   | 63/100 [01:37<01:00,  1.64s/it]"
     ]
    },
    {
     "name": "stdout",
     "output_type": "stream",
     "text": [
      "Epoch 62: D_real_loss=0.6931792857547918, D_fake_loss=0.693147663872082, G_loss=0.6931866401681503, G_reg=0.9999186190339132, G_spreg=0.0, G_chreg=0.0\n",
      "Parameter containing:\n",
      "tensor([[[ 0.0076,  0.0004,  0.0114],\n",
      "         [-0.0080, -0.0243,  0.0047],\n",
      "         [ 0.0024, -0.0011,  0.0035]]], requires_grad=True)\n"
     ]
    },
    {
     "name": "stderr",
     "output_type": "stream",
     "text": [
      "\r",
      " 64%|██████▍   | 64/100 [01:39<00:59,  1.66s/it]"
     ]
    },
    {
     "name": "stdout",
     "output_type": "stream",
     "text": [
      "Epoch 63: D_real_loss=0.6931489138557507, D_fake_loss=0.6931825255433591, G_loss=0.693156360437314, G_reg=0.9999242914727511, G_spreg=0.0, G_chreg=0.0\n",
      "Parameter containing:\n",
      "tensor([[[ 0.0010,  0.0069, -0.0088],\n",
      "         [ 0.0112, -0.0116,  0.0074],\n",
      "         [ 0.0013,  0.0011,  0.0008]]], requires_grad=True)\n"
     ]
    },
    {
     "name": "stderr",
     "output_type": "stream",
     "text": [
      "\r",
      " 65%|██████▌   | 65/100 [01:41<00:58,  1.68s/it]"
     ]
    },
    {
     "name": "stdout",
     "output_type": "stream",
     "text": [
      "Epoch 64: D_real_loss=0.6931926179617739, D_fake_loss=0.6931548569910824, G_loss=0.6931970865962604, G_reg=0.9999125538328395, G_spreg=0.0, G_chreg=0.0\n",
      "Parameter containing:\n",
      "tensor([[[-0.0216,  0.0224,  0.0040],\n",
      "         [-0.0012, -0.0233,  0.0074],\n",
      "         [-0.0023,  0.0068, -0.0019]]], requires_grad=True)\n"
     ]
    },
    {
     "name": "stderr",
     "output_type": "stream",
     "text": [
      "\r",
      " 66%|██████▌   | 66/100 [01:42<00:56,  1.67s/it]"
     ]
    },
    {
     "name": "stdout",
     "output_type": "stream",
     "text": [
      "Epoch 65: D_real_loss=0.6931610652052176, D_fake_loss=0.6931854638809594, G_loss=0.6931693401580421, G_reg=0.9999238597318387, G_spreg=0.0, G_chreg=0.0\n",
      "Parameter containing:\n",
      "tensor([[[ 0.0103,  0.0089, -0.0007],\n",
      "         [-0.0003, -0.0158,  0.0073],\n",
      "         [-0.0043,  0.0039,  0.0025]]], requires_grad=True)\n"
     ]
    },
    {
     "name": "stderr",
     "output_type": "stream",
     "text": [
      "\r",
      " 67%|██████▋   | 67/100 [01:44<00:54,  1.65s/it]"
     ]
    },
    {
     "name": "stdout",
     "output_type": "stream",
     "text": [
      "Epoch 66: D_real_loss=0.6931316903985727, D_fake_loss=0.6932017441374806, G_loss=0.6931351625119535, G_reg=0.9998854014653558, G_spreg=0.0, G_chreg=0.0\n",
      "Parameter containing:\n",
      "tensor([[[-0.0035,  0.0070, -0.0235],\n",
      "         [ 0.0019, -0.0145,  0.0053],\n",
      "         [-0.0034, -0.0018,  0.0051]]], requires_grad=True)\n"
     ]
    },
    {
     "name": "stderr",
     "output_type": "stream",
     "text": [
      "\r",
      " 68%|██████▊   | 68/100 [01:46<00:52,  1.65s/it]"
     ]
    },
    {
     "name": "stdout",
     "output_type": "stream",
     "text": [
      "Epoch 67: D_real_loss=0.6931944716090973, D_fake_loss=0.6931429621510612, G_loss=0.6931979208708571, G_reg=0.9998524966188513, G_spreg=0.0, G_chreg=0.0\n",
      "Parameter containing:\n",
      "tensor([[[-0.0207, -0.0278, -0.0065],\n",
      "         [ 0.0201,  0.0033,  0.0126],\n",
      "         [ 0.0073, -0.0012, -0.0006]]], requires_grad=True)\n"
     ]
    },
    {
     "name": "stderr",
     "output_type": "stream",
     "text": [
      "\r",
      " 69%|██████▉   | 69/100 [01:47<00:50,  1.62s/it]"
     ]
    },
    {
     "name": "stdout",
     "output_type": "stream",
     "text": [
      "Epoch 68: D_real_loss=0.6931745748931226, D_fake_loss=0.6931727039166533, G_loss=0.6931820016699477, G_reg=0.9997783416209701, G_spreg=0.0, G_chreg=0.0\n",
      "Parameter containing:\n",
      "tensor([[[-1.5995e-02,  3.6158e-03, -1.6983e-02],\n",
      "         [ 2.7165e-02, -8.4640e-03, -1.1025e-02],\n",
      "         [ 3.2520e-04,  7.3951e-03, -5.6060e-05]]], requires_grad=True)\n"
     ]
    },
    {
     "name": "stderr",
     "output_type": "stream",
     "text": [
      "\r",
      " 70%|███████   | 70/100 [01:49<00:47,  1.59s/it]"
     ]
    },
    {
     "name": "stdout",
     "output_type": "stream",
     "text": [
      "Epoch 69: D_real_loss=0.6931803879646448, D_fake_loss=0.6931718115608532, G_loss=0.693186908484267, G_reg=0.9998678917083116, G_spreg=0.0, G_chreg=0.0\n",
      "Parameter containing:\n",
      "tensor([[[-0.0053,  0.0157, -0.0047],\n",
      "         [ 0.0249,  0.0069, -0.0097],\n",
      "         [-0.0011,  0.0058,  0.0041]]], requires_grad=True)\n"
     ]
    },
    {
     "name": "stderr",
     "output_type": "stream",
     "text": [
      "\r",
      " 71%|███████   | 71/100 [01:50<00:45,  1.57s/it]"
     ]
    },
    {
     "name": "stdout",
     "output_type": "stream",
     "text": [
      "Epoch 70: D_real_loss=0.6931492019766055, D_fake_loss=0.6931858024658105, G_loss=0.6931547318784573, G_reg=0.999870458350014, G_spreg=0.0, G_chreg=0.0\n",
      "Parameter containing:\n",
      "tensor([[[ 0.0033,  0.0101, -0.0094],\n",
      "         [ 0.0095, -0.0034, -0.0309],\n",
      "         [-0.0005,  0.0045,  0.0048]]], requires_grad=True)\n"
     ]
    },
    {
     "name": "stderr",
     "output_type": "stream",
     "text": [
      "\r",
      " 72%|███████▏  | 72/100 [01:52<00:44,  1.58s/it]"
     ]
    },
    {
     "name": "stdout",
     "output_type": "stream",
     "text": [
      "Epoch 71: D_real_loss=0.6931872522107329, D_fake_loss=0.693144367906613, G_loss=0.6931962608910216, G_reg=0.9999340301909195, G_spreg=0.0, G_chreg=0.0\n",
      "Parameter containing:\n",
      "tensor([[[ 3.4308e-03, -6.6190e-03, -1.1821e-03],\n",
      "         [ 4.9045e-03,  3.3991e-03, -6.3961e-03],\n",
      "         [-6.2639e-03, -3.3135e-03,  9.8114e-05]]], requires_grad=True)\n"
     ]
    },
    {
     "name": "stderr",
     "output_type": "stream",
     "text": [
      "\r",
      " 73%|███████▎  | 73/100 [01:53<00:42,  1.57s/it]"
     ]
    },
    {
     "name": "stdout",
     "output_type": "stream",
     "text": [
      "Epoch 72: D_real_loss=0.6931539217884929, D_fake_loss=0.6931739327625726, G_loss=0.6931585159164648, G_reg=0.9999211038501499, G_spreg=0.0, G_chreg=0.0\n",
      "Parameter containing:\n",
      "tensor([[[ 0.0041, -0.0005,  0.0135],\n",
      "         [ 0.0189,  0.0080,  0.0133],\n",
      "         [-0.0042, -0.0037, -0.0085]]], requires_grad=True)\n"
     ]
    },
    {
     "name": "stderr",
     "output_type": "stream",
     "text": [
      "\r",
      " 74%|███████▍  | 74/100 [01:55<00:41,  1.59s/it]"
     ]
    },
    {
     "name": "stdout",
     "output_type": "stream",
     "text": [
      "Epoch 73: D_real_loss=0.6931654291031079, D_fake_loss=0.6931669953912972, G_loss=0.6931703322992538, G_reg=0.9998630866194114, G_spreg=0.0, G_chreg=0.0\n",
      "Parameter containing:\n",
      "tensor([[[-2.6218e-03,  4.9163e-03,  6.8450e-03],\n",
      "         [ 2.9347e-02,  2.5663e-02, -6.2247e-05],\n",
      "         [-7.5001e-04,  2.7548e-03,  3.8869e-03]]], requires_grad=True)\n"
     ]
    },
    {
     "name": "stderr",
     "output_type": "stream",
     "text": [
      "\r",
      " 75%|███████▌  | 75/100 [01:57<00:40,  1.61s/it]"
     ]
    },
    {
     "name": "stdout",
     "output_type": "stream",
     "text": [
      "Epoch 74: D_real_loss=0.6931530235293574, D_fake_loss=0.6931816811759632, G_loss=0.693159342002564, G_reg=0.9999190659497302, G_spreg=0.0, G_chreg=0.0\n",
      "Parameter containing:\n",
      "tensor([[[-0.0063, -0.0054,  0.0002],\n",
      "         [-0.0042,  0.0168,  0.0081],\n",
      "         [ 0.0099, -0.0065,  0.0027]]], requires_grad=True)\n"
     ]
    },
    {
     "name": "stderr",
     "output_type": "stream",
     "text": [
      "\r",
      " 76%|███████▌  | 76/100 [01:58<00:38,  1.62s/it]"
     ]
    },
    {
     "name": "stdout",
     "output_type": "stream",
     "text": [
      "Epoch 75: D_real_loss=0.6931609469480788, D_fake_loss=0.6931691706751864, G_loss=0.6931686148095054, G_reg=0.9998721713289476, G_spreg=0.0, G_chreg=0.0\n",
      "Parameter containing:\n",
      "tensor([[[-3.7812e-04, -6.6856e-04, -8.0672e-03],\n",
      "         [ 1.9306e-05,  3.1239e-03,  3.7403e-02],\n",
      "         [ 4.6531e-04,  2.1623e-03, -1.1482e-03]]], requires_grad=True)\n"
     ]
    },
    {
     "name": "stderr",
     "output_type": "stream",
     "text": [
      "\r",
      " 77%|███████▋  | 77/100 [02:00<00:39,  1.71s/it]"
     ]
    },
    {
     "name": "stdout",
     "output_type": "stream",
     "text": [
      "Epoch 76: D_real_loss=0.6931700146617219, D_fake_loss=0.6931590009421206, G_loss=0.6931759069521968, G_reg=0.999874369012186, G_spreg=0.0, G_chreg=0.0\n",
      "Parameter containing:\n",
      "tensor([[[-0.0006,  0.0018,  0.0249],\n",
      "         [ 0.0019, -0.0024,  0.0115],\n",
      "         [-0.0136, -0.0040,  0.0048]]], requires_grad=True)\n"
     ]
    },
    {
     "name": "stderr",
     "output_type": "stream",
     "text": [
      "\r",
      " 78%|███████▊  | 78/100 [02:02<00:38,  1.76s/it]"
     ]
    },
    {
     "name": "stdout",
     "output_type": "stream",
     "text": [
      "Epoch 77: D_real_loss=0.6931632210652288, D_fake_loss=0.6931708689314869, G_loss=0.693169246466396, G_reg=0.9998943564443352, G_spreg=0.0, G_chreg=0.0\n",
      "Parameter containing:\n",
      "tensor([[[-0.0096,  0.0053, -0.0039],\n",
      "         [ 0.0199,  0.0115,  0.0192],\n",
      "         [-0.0042,  0.0021, -0.0043]]], requires_grad=True)\n"
     ]
    },
    {
     "name": "stderr",
     "output_type": "stream",
     "text": [
      "\r",
      " 79%|███████▉  | 79/100 [02:04<00:37,  1.81s/it]"
     ]
    },
    {
     "name": "stdout",
     "output_type": "stream",
     "text": [
      "Epoch 78: D_real_loss=0.6931624869569041, D_fake_loss=0.6931720377919012, G_loss=0.6931664570451925, G_reg=0.9999120447296685, G_spreg=0.0, G_chreg=0.0\n",
      "Parameter containing:\n",
      "tensor([[[-0.0060,  0.0018,  0.0194],\n",
      "         [ 0.0099, -0.0032,  0.0085],\n",
      "         [-0.0057, -0.0069, -0.0033]]], requires_grad=True)\n"
     ]
    },
    {
     "name": "stderr",
     "output_type": "stream",
     "text": [
      "\r",
      " 80%|████████  | 80/100 [02:06<00:36,  1.83s/it]"
     ]
    },
    {
     "name": "stdout",
     "output_type": "stream",
     "text": [
      "Epoch 79: D_real_loss=0.6931516116800399, D_fake_loss=0.6931734281226088, G_loss=0.6931578271305219, G_reg=0.9999122711630485, G_spreg=0.0, G_chreg=0.0\n",
      "Parameter containing:\n",
      "tensor([[[ 0.0103, -0.0119,  0.0090],\n",
      "         [ 0.0033, -0.0081,  0.0066],\n",
      "         [-0.0050, -0.0028,  0.0044]]], requires_grad=True)\n"
     ]
    },
    {
     "name": "stderr",
     "output_type": "stream",
     "text": [
      "\r",
      " 81%|████████  | 81/100 [02:08<00:35,  1.86s/it]"
     ]
    },
    {
     "name": "stdout",
     "output_type": "stream",
     "text": [
      "Epoch 80: D_real_loss=0.6931625998819979, D_fake_loss=0.6931646521479938, G_loss=0.6931685161666749, G_reg=0.9998553655684566, G_spreg=0.0, G_chreg=0.0\n",
      "Parameter containing:\n",
      "tensor([[[-0.0032,  0.0111,  0.0059],\n",
      "         [ 0.0102,  0.0066, -0.0186],\n",
      "         [-0.0073,  0.0038,  0.0030]]], requires_grad=True)\n"
     ]
    },
    {
     "name": "stderr",
     "output_type": "stream",
     "text": [
      "\r",
      " 82%|████████▏ | 82/100 [02:10<00:34,  1.90s/it]"
     ]
    },
    {
     "name": "stdout",
     "output_type": "stream",
     "text": [
      "Epoch 81: D_real_loss=0.6931789580244607, D_fake_loss=0.6931404936047026, G_loss=0.6931833609605369, G_reg=0.9999585189163304, G_spreg=0.0, G_chreg=0.0\n",
      "Parameter containing:\n",
      "tensor([[[ 0.0231,  0.0059,  0.0037],\n",
      "         [ 0.0179, -0.0004, -0.0097],\n",
      "         [-0.0008,  0.0021, -0.0022]]], requires_grad=True)\n"
     ]
    },
    {
     "name": "stderr",
     "output_type": "stream",
     "text": [
      "\r",
      " 83%|████████▎ | 83/100 [02:11<00:31,  1.83s/it]"
     ]
    },
    {
     "name": "stdout",
     "output_type": "stream",
     "text": [
      "Epoch 82: D_real_loss=0.6931862663537168, D_fake_loss=0.6931583513847936, G_loss=0.6931894273041918, G_reg=0.9998175360190983, G_spreg=0.0, G_chreg=0.0\n",
      "Parameter containing:\n",
      "tensor([[[ 0.0187,  0.0013,  0.0027],\n",
      "         [ 0.0148, -0.0370, -0.0134],\n",
      "         [ 0.0051,  0.0051, -0.0010]]], requires_grad=True)\n"
     ]
    },
    {
     "name": "stderr",
     "output_type": "stream",
     "text": [
      "\r",
      " 84%|████████▍ | 84/100 [02:13<00:28,  1.79s/it]"
     ]
    },
    {
     "name": "stdout",
     "output_type": "stream",
     "text": [
      "Epoch 83: D_real_loss=0.6931588661175566, D_fake_loss=0.6931763072364246, G_loss=0.693165978684593, G_reg=0.9998365909384843, G_spreg=0.0, G_chreg=0.0\n",
      "Parameter containing:\n",
      "tensor([[[-0.0075, -0.0087, -0.0057],\n",
      "         [ 0.0079, -0.0142,  0.0198],\n",
      "         [ 0.0004, -0.0007,  0.0015]]], requires_grad=True)\n"
     ]
    },
    {
     "name": "stderr",
     "output_type": "stream",
     "text": [
      "\r",
      " 85%|████████▌ | 85/100 [02:15<00:26,  1.78s/it]"
     ]
    },
    {
     "name": "stdout",
     "output_type": "stream",
     "text": [
      "Epoch 84: D_real_loss=0.6931682343300158, D_fake_loss=0.6931504687181296, G_loss=0.6931739030554652, G_reg=0.9999480571585913, G_spreg=0.0, G_chreg=0.0\n",
      "Parameter containing:\n",
      "tensor([[[-0.0089, -0.0013, -0.0186],\n",
      "         [-0.0099,  0.0004, -0.0025],\n",
      "         [-0.0017, -0.0071,  0.0025]]], requires_grad=True)\n"
     ]
    },
    {
     "name": "stderr",
     "output_type": "stream",
     "text": [
      "\r",
      " 86%|████████▌ | 86/100 [02:17<00:24,  1.78s/it]"
     ]
    },
    {
     "name": "stdout",
     "output_type": "stream",
     "text": [
      "Epoch 85: D_real_loss=0.693143791093613, D_fake_loss=0.6931705314892168, G_loss=0.6931491006677524, G_reg=0.999946448916254, G_spreg=0.0, G_chreg=0.0\n",
      "Parameter containing:\n",
      "tensor([[[ 0.0049,  0.0016, -0.0136],\n",
      "         [-0.0064, -0.0075,  0.0029],\n",
      "         [-0.0096, -0.0036,  0.0070]]], requires_grad=True)\n"
     ]
    },
    {
     "name": "stderr",
     "output_type": "stream",
     "text": [
      "\r",
      " 87%|████████▋ | 87/100 [02:18<00:23,  1.79s/it]"
     ]
    },
    {
     "name": "stdout",
     "output_type": "stream",
     "text": [
      "Epoch 86: D_real_loss=0.693159507486386, D_fake_loss=0.6931587996574256, G_loss=0.6931646959469341, G_reg=0.9999090558685624, G_spreg=0.0, G_chreg=0.0\n",
      "Parameter containing:\n",
      "tensor([[[-0.0021, -0.0001, -0.0046],\n",
      "         [-0.0137, -0.0022, -0.0219],\n",
      "         [-0.0067, -0.0050,  0.0032]]], requires_grad=True)\n"
     ]
    },
    {
     "name": "stderr",
     "output_type": "stream",
     "text": [
      "\r",
      " 88%|████████▊ | 88/100 [02:20<00:21,  1.79s/it]"
     ]
    },
    {
     "name": "stdout",
     "output_type": "stream",
     "text": [
      "Epoch 87: D_real_loss=0.6931698872639348, D_fake_loss=0.693152632385778, G_loss=0.6931763731252653, G_reg=0.9998968903558513, G_spreg=0.0, G_chreg=0.0\n",
      "Parameter containing:\n",
      "tensor([[[-0.0059,  0.0006, -0.0059],\n",
      "         [-0.0229, -0.0076, -0.0204],\n",
      "         [ 0.0073, -0.0049, -0.0003]]], requires_grad=True)\n"
     ]
    },
    {
     "name": "stderr",
     "output_type": "stream",
     "text": [
      "\r",
      " 89%|████████▉ | 89/100 [02:22<00:19,  1.75s/it]"
     ]
    },
    {
     "name": "stdout",
     "output_type": "stream",
     "text": [
      "Epoch 88: D_real_loss=0.6931788108219354, D_fake_loss=0.6931755853156312, G_loss=0.6931825516322931, G_reg=0.9997068222957297, G_spreg=0.0, G_chreg=0.0\n",
      "Parameter containing:\n",
      "tensor([[[-0.0078,  0.0089, -0.0036],\n",
      "         [-0.0051, -0.0098, -0.0320],\n",
      "         [ 0.0061,  0.0009,  0.0019]]], requires_grad=True)\n"
     ]
    },
    {
     "name": "stderr",
     "output_type": "stream",
     "text": [
      "\r",
      " 90%|█████████ | 90/100 [02:24<00:17,  1.77s/it]"
     ]
    },
    {
     "name": "stdout",
     "output_type": "stream",
     "text": [
      "Epoch 89: D_real_loss=0.69314341785047, D_fake_loss=0.69318366907656, G_loss=0.6931486270679071, G_reg=0.99982958459578, G_spreg=0.0, G_chreg=0.0\n",
      "Parameter containing:\n",
      "tensor([[[-0.0063,  0.0145,  0.0106],\n",
      "         [-0.0292, -0.0017, -0.0040],\n",
      "         [-0.0046,  0.0010, -0.0002]]], requires_grad=True)\n"
     ]
    },
    {
     "name": "stderr",
     "output_type": "stream",
     "text": [
      "\r",
      " 91%|█████████ | 91/100 [02:25<00:15,  1.75s/it]"
     ]
    },
    {
     "name": "stdout",
     "output_type": "stream",
     "text": [
      "Epoch 90: D_real_loss=0.6931547768199786, D_fake_loss=0.6931696402759978, G_loss=0.6931626412053459, G_reg=0.9998122251000457, G_spreg=0.0, G_chreg=0.0\n",
      "Parameter containing:\n",
      "tensor([[[ 0.0056,  0.0101,  0.0079],\n",
      "         [-0.0188,  0.0087, -0.0022],\n",
      "         [ 0.0038, -0.0022,  0.0012]]], requires_grad=True)\n"
     ]
    },
    {
     "name": "stderr",
     "output_type": "stream",
     "text": [
      "\r",
      " 92%|█████████▏| 92/100 [02:27<00:13,  1.74s/it]"
     ]
    },
    {
     "name": "stdout",
     "output_type": "stream",
     "text": [
      "Epoch 91: D_real_loss=0.6931820412794241, D_fake_loss=0.6931383672613687, G_loss=0.6931858546436785, G_reg=0.9999191480727432, G_spreg=0.0, G_chreg=0.0\n",
      "Parameter containing:\n",
      "tensor([[[-0.0027, -0.0149,  0.0068],\n",
      "         [-0.0187, -0.0042,  0.0072],\n",
      "         [-0.0011,  0.0015,  0.0131]]], requires_grad=True)\n"
     ]
    },
    {
     "name": "stderr",
     "output_type": "stream",
     "text": [
      "\r",
      " 93%|█████████▎| 93/100 [02:29<00:12,  1.72s/it]"
     ]
    },
    {
     "name": "stdout",
     "output_type": "stream",
     "text": [
      "Epoch 92: D_real_loss=0.693158337673821, D_fake_loss=0.6931587394814902, G_loss=0.6931625758877958, G_reg=0.9999265552114565, G_spreg=0.0, G_chreg=0.0\n",
      "Parameter containing:\n",
      "tensor([[[ 0.0038, -0.0109,  0.0155],\n",
      "         [-0.0069, -0.0125, -0.0156],\n",
      "         [-0.0032, -0.0008,  0.0026]]], requires_grad=True)\n"
     ]
    },
    {
     "name": "stderr",
     "output_type": "stream",
     "text": [
      "\r",
      " 94%|█████████▍| 94/100 [02:30<00:09,  1.66s/it]"
     ]
    },
    {
     "name": "stdout",
     "output_type": "stream",
     "text": [
      "Epoch 93: D_real_loss=0.6931593261968595, D_fake_loss=0.6931547629185759, G_loss=0.6931657804467808, G_reg=0.9999179459822635, G_spreg=0.0, G_chreg=0.0\n",
      "Parameter containing:\n",
      "tensor([[[-0.0117, -0.0077,  0.0040],\n",
      "         [-0.0110, -0.0016,  0.0029],\n",
      "         [ 0.0012, -0.0041, -0.0077]]], requires_grad=True)\n"
     ]
    },
    {
     "name": "stderr",
     "output_type": "stream",
     "text": [
      "\r",
      " 95%|█████████▌| 95/100 [02:32<00:08,  1.67s/it]"
     ]
    },
    {
     "name": "stdout",
     "output_type": "stream",
     "text": [
      "Epoch 94: D_real_loss=0.6931678926982818, D_fake_loss=0.6931574156109136, G_loss=0.6931708620760006, G_reg=0.9998633213841115, G_spreg=0.0, G_chreg=0.0\n",
      "Parameter containing:\n",
      "tensor([[[ 0.0062, -0.0248,  0.0092],\n",
      "         [ 0.0233, -0.0040,  0.0093],\n",
      "         [-0.0050,  0.0098,  0.0050]]], requires_grad=True)\n"
     ]
    },
    {
     "name": "stderr",
     "output_type": "stream",
     "text": [
      "\r",
      " 96%|█████████▌| 96/100 [02:34<00:06,  1.68s/it]"
     ]
    },
    {
     "name": "stdout",
     "output_type": "stream",
     "text": [
      "Epoch 95: D_real_loss=0.693164591400768, D_fake_loss=0.6931541990548277, G_loss=0.6931728174130376, G_reg=0.9997845059052443, G_spreg=0.0, G_chreg=0.0\n",
      "Parameter containing:\n",
      "tensor([[[ 0.0016, -0.0086, -0.0049],\n",
      "         [ 0.0271, -0.0184, -0.0069],\n",
      "         [ 0.0073, -0.0039,  0.0081]]], requires_grad=True)\n"
     ]
    },
    {
     "name": "stderr",
     "output_type": "stream",
     "text": [
      "\r",
      " 97%|█████████▋| 97/100 [02:35<00:04,  1.64s/it]"
     ]
    },
    {
     "name": "stdout",
     "output_type": "stream",
     "text": [
      "Epoch 96: D_real_loss=0.693149747749487, D_fake_loss=0.693179300037055, G_loss=0.693154472512559, G_reg=0.9997806348168431, G_spreg=0.0, G_chreg=0.0\n",
      "Parameter containing:\n",
      "tensor([[[ 0.0012, -0.0108,  0.0074],\n",
      "         [ 0.0383, -0.0086, -0.0066],\n",
      "         [-0.0036,  0.0042,  0.0005]]], requires_grad=True)\n"
     ]
    },
    {
     "name": "stderr",
     "output_type": "stream",
     "text": [
      "\r",
      " 98%|█████████▊| 98/100 [02:37<00:03,  1.62s/it]"
     ]
    },
    {
     "name": "stdout",
     "output_type": "stream",
     "text": [
      "Epoch 97: D_real_loss=0.6931698533673637, D_fake_loss=0.6931762600097412, G_loss=0.6931750275456486, G_reg=0.9996030402307312, G_spreg=0.0, G_chreg=0.0\n",
      "Parameter containing:\n",
      "tensor([[[ 0.0082, -0.0282,  0.0162],\n",
      "         [ 0.0440, -0.0060,  0.0281],\n",
      "         [ 0.0018, -0.0021,  0.0014]]], requires_grad=True)\n"
     ]
    },
    {
     "name": "stderr",
     "output_type": "stream",
     "text": [
      "\r",
      " 99%|█████████▉| 99/100 [02:38<00:01,  1.61s/it]"
     ]
    },
    {
     "name": "stdout",
     "output_type": "stream",
     "text": [
      "Epoch 98: D_real_loss=0.6931855356731353, D_fake_loss=0.6931510773329689, G_loss=0.6931926985137379, G_reg=0.9993798441637438, G_spreg=0.0, G_chreg=0.0\n",
      "Parameter containing:\n",
      "tensor([[[-0.0059, -0.0284,  0.0118],\n",
      "         [ 0.0602,  0.0097, -0.0127],\n",
      "         [-0.0067, -0.0026,  0.0022]]], requires_grad=True)\n"
     ]
    },
    {
     "name": "stderr",
     "output_type": "stream",
     "text": [
      "100%|██████████| 100/100 [02:40<00:00,  1.61s/it]"
     ]
    },
    {
     "name": "stdout",
     "output_type": "stream",
     "text": [
      "Epoch 99: D_real_loss=0.6931655306023912, D_fake_loss=0.6931690804112833, G_loss=0.6931762207811252, G_reg=0.9995863436700437, G_spreg=0.0, G_chreg=0.0\n",
      "Parameter containing:\n",
      "tensor([[[-0.0077, -0.0093, -0.0033],\n",
      "         [ 0.0343,  0.0168,  0.0064],\n",
      "         [ 0.0024, -0.0045,  0.0105]]], requires_grad=True)\n"
     ]
    },
    {
     "name": "stderr",
     "output_type": "stream",
     "text": [
      "\n"
     ]
    }
   ],
   "source": [
    "%run -i 'main_lagan.py' --task discrete_rotation_synthetic --dataset_size 20000 --y_type scalar"
   ]
  },
  {
   "cell_type": "code",
   "execution_count": 21,
   "id": "1c04f820",
   "metadata": {},
   "outputs": [
    {
     "name": "stdout",
     "output_type": "stream",
     "text": [
      "165.19918966293335\n"
     ]
    }
   ],
   "source": [
    "tim = t2-t1\n",
    "print(tim)"
   ]
  },
  {
   "cell_type": "code",
   "execution_count": 4,
   "id": "66f35e12",
   "metadata": {},
   "outputs": [],
   "source": [
    "# Now we generate the example data."
   ]
  },
  {
   "cell_type": "code",
   "execution_count": 17,
   "id": "a70f9bb2",
   "metadata": {},
   "outputs": [
    {
     "data": {
      "text/plain": [
       "<matplotlib.collections.PathCollection at 0x7f4618207580>"
      ]
     },
     "execution_count": 17,
     "metadata": {},
     "output_type": "execute_result"
    },
    {
     "data": {
      "image/png": "[encoded data removed]",
      "text/plain": [
       "<Figure size 640x480 with 1 Axes>"
      ]
     },
     "metadata": {},
     "output_type": "display_data"
    }
   ],
   "source": [
    "s1 = np.random.randn(1000, 2)\n",
    "s2 = np.arctan2(s1[:, 1], s1[:, 0])\n",
    "s3 = 1 / (1 + np.mod(s2, 2 * np.pi / 7))\n",
    "plt.scatter(s1.transpose()[0],s1.transpose()[1],c=s3)"
   ]
  },
  {
   "cell_type": "code",
   "execution_count": 18,
   "id": "7479eedb",
   "metadata": {},
   "outputs": [],
   "source": [
    "s1t=s1.transpose()"
   ]
  },
  {
   "cell_type": "code",
   "execution_count": 19,
   "id": "43e33461",
   "metadata": {},
   "outputs": [],
   "source": [
    "T0 = time.time()\n",
    "P = scipy.stats.gaussian_kde(s1t, weights=s3**8) #scipy.stats.gaussian_kde(s1t, weights=s3**24) #scipy.stats.gaussian_kde(X2t, bw_method=5)\n",
    "probs = P.pdf(s1t)\n",
    "T1 = time.time()\n",
    "Time = T1-T0"
   ]
  },
  {
   "cell_type": "code",
   "execution_count": 20,
   "id": "6fd3ddf7",
   "metadata": {},
   "outputs": [
    {
     "data": {
      "text/plain": [
       "<matplotlib.collections.PathCollection at 0x7f46181c4310>"
      ]
     },
     "execution_count": 20,
     "metadata": {},
     "output_type": "execute_result"
    },
    {
     "data": {
      "image/png": "[encoded data removed]",
      "text/plain": [
       "<Figure size 640x480 with 1 Axes>"
      ]
     },
     "metadata": {},
     "output_type": "display_data"
    }
   ],
   "source": [
    "xs = np.linspace(-3,3,400)\n",
    "Xs, Ys = np.meshgrid(xs, xs)\n",
    "grid = np.vstack([Xs.ravel(), Ys.ravel()])\n",
    "#grid = np.array([grid[0],grid[1],[1 for i in range(grid.shape[1])]])\n",
    "gridProbs = P.pdf(grid)\n",
    "plt.scatter(grid[0], grid[1], c=gridProbs)"
   ]
  },
  {
   "cell_type": "code",
   "execution_count": 21,
   "id": "42a6918d",
   "metadata": {},
   "outputs": [],
   "source": [
    "def myFunc(v):\n",
    "    R = np.array([[np.cos(v[0]),np.sin(v[0])],[-np.sin(v[0]),np.cos(v[0])]])\n",
    "    #Rz = np.matrix([[np.cos(v[2]),np.sin(v[2]),0],[-np.sin(v[2]),np.cos(v[2]),0],[0,0,1]])\n",
    "    #Rx = np.matrix([[1,0,0],[0,np.cos(v[0]),np.sin(v[0])],[0,-np.sin(v[0]),np.cos(v[0])]])\n",
    "    #Ry = np.matrix([[np.cos(v[1]),0,np.sin(v[1])],[0,1,0],[-np.sin(v[1]),0,np.cos(v[1])]])\n",
    "    #print(Rz)\n",
    "    #print(Rx)\n",
    "    #print(Ry)\n",
    "    term1 = R@s1t #Rz@Rx@Ry@s1t\n",
    "    term2 = P.pdf(term1)\n",
    "    term3 = np.linalg.norm(term2-probs)\n",
    "    return term3"
   ]
  },
  {
   "cell_type": "code",
   "execution_count": 22,
   "id": "b296e0a4",
   "metadata": {},
   "outputs": [],
   "source": [
    "def normcond(w):\n",
    "    #p = len(w)\n",
    "    term = sum(w) #sum([w[j]**2 for j in range(1)])\n",
    "    return term"
   ]
  },
  {
   "cell_type": "code",
   "execution_count": 23,
   "id": "38627239",
   "metadata": {},
   "outputs": [
    {
     "name": "stdout",
     "output_type": "stream",
     "text": [
      "0.1994764804840088\n"
     ]
    }
   ],
   "source": [
    "T2 = time.time()\n",
    "NormCond = scipy.optimize.NonlinearConstraint(normcond, np.pi/6, np.pi)\n",
    "initguess = [np.pi/4] #[1/np.sqrt(3),1/np.sqrt(3),1/np.sqrt(3)]\n",
    "sol = scipy.optimize.minimize(myFunc, initguess, constraints=[NormCond])\n",
    "T3 = time.time()\n",
    "Time += (T3-T2)\n",
    "print(Time)"
   ]
  },
  {
   "cell_type": "code",
   "execution_count": 24,
   "id": "922a85ee",
   "metadata": {},
   "outputs": [
    {
     "data": {
      "text/plain": [
       " message: Optimization terminated successfully\n",
       " success: True\n",
       "  status: 0\n",
       "     fun: 0.3822358622035135\n",
       "       x: [ 8.333e-01]\n",
       "     nit: 3\n",
       "     jac: [ 1.852e-03]\n",
       "    nfev: 8\n",
       "    njev: 3"
      ]
     },
     "execution_count": 24,
     "metadata": {},
     "output_type": "execute_result"
    }
   ],
   "source": [
    "sol"
   ]
  },
  {
   "cell_type": "code",
   "execution_count": 25,
   "id": "b89e1803",
   "metadata": {},
   "outputs": [
    {
     "data": {
      "text/plain": [
       "0.26525524439339765"
      ]
     },
     "execution_count": 25,
     "metadata": {},
     "output_type": "execute_result"
    }
   ],
   "source": [
    "sol.x[0]/np.pi"
   ]
  },
  {
   "cell_type": "code",
   "execution_count": 26,
   "id": "45469c9e",
   "metadata": {},
   "outputs": [
    {
     "data": {
      "text/plain": [
       "0.2857142857142857"
      ]
     },
     "execution_count": 26,
     "metadata": {},
     "output_type": "execute_result"
    }
   ],
   "source": [
    "2/7"
   ]
  },
  {
   "cell_type": "code",
   "execution_count": 27,
   "id": "30b7eb7e",
   "metadata": {},
   "outputs": [
    {
     "data": {
      "text/plain": [
       "0.064273973913192"
      ]
     },
     "execution_count": 27,
     "metadata": {},
     "output_type": "execute_result"
    }
   ],
   "source": [
    "2*np.pi/7-sol.x[0]"
   ]
  },
  {
   "cell_type": "code",
   "execution_count": null,
   "id": "d0988aa7",
   "metadata": {},
   "outputs": [],
   "source": []
  }
 ],
 "metadata": {
  "kernelspec": {
   "display_name": "Python 3 (ipykernel)",
   "language": "python",
   "name": "python3"
  },
  "language_info": {
   "codemirror_mode": {
    "name": "ipython",
    "version": 3
   },
   "file_extension": ".py",
   "mimetype": "text/x-python",
   "name": "python",
   "nbconvert_exporter": "python",
   "pygments_lexer": "ipython3",
   "version": "3.12.4"
  }
 },
 "nbformat": 4,
 "nbformat_minor": 5
}
