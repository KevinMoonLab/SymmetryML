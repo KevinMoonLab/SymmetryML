{
 "cells": [
  {
   "cell_type": "code",
   "execution_count": 1,
   "id": "a898abb6",
   "metadata": {},
   "outputs": [],
   "source": [
    "import numpy as np\n",
    "import matplotlib.pyplot as plt\n",
    "import random\n",
    "import torch\n",
    "import mctorch.nn as mnn\n",
    "import mctorch.optim as moptim\n",
    "import time\n",
    "from sklearn.preprocessing import PolynomialFeatures\n",
    "\n",
    "import OurMethod"
   ]
  },
  {
   "cell_type": "code",
   "execution_count": 199,
   "id": "29576541",
   "metadata": {},
   "outputs": [],
   "source": [
    "SIZE = 20000"
   ]
  },
  {
   "cell_type": "code",
   "execution_count": 272,
   "id": "aecdd6b4",
   "metadata": {},
   "outputs": [
    {
     "name": "stdout",
     "output_type": "stream",
     "text": [
      "Has this been called?\n"
     ]
    },
    {
     "name": "stderr",
     "output_type": "stream",
     "text": [
      "  1%|          | 1/100 [00:01<02:36,  1.58s/it]"
     ]
    },
    {
     "name": "stdout",
     "output_type": "stream",
     "text": [
      "Epoch 0: D_real_loss=0.5701529099918402, D_fake_loss=0.6136893630027771, G_loss=1.222684558778525, G_reg=0.8487612773744634, G_spreg=0.0, G_chreg=0.0\n",
      "Parameter containing:\n",
      "tensor([[[-0.1433, -0.4848,  0.0907],\n",
      "         [ 0.6039, -0.4255, -0.8923],\n",
      "         [-0.2163,  0.1301, -0.1959]]], requires_grad=True)\n"
     ]
    },
    {
     "name": "stderr",
     "output_type": "stream",
     "text": [
      "\r",
      "  2%|▏         | 2/100 [00:03<02:33,  1.56s/it]"
     ]
    },
    {
     "name": "stdout",
     "output_type": "stream",
     "text": [
      "Epoch 1: D_real_loss=0.5953507101573883, D_fake_loss=0.634158222343975, G_loss=1.0336839809966163, G_reg=0.9125133181889408, G_spreg=0.0, G_chreg=0.0\n",
      "Parameter containing:\n",
      "tensor([[[-0.0029, -0.6231,  0.2851],\n",
      "         [ 0.3761, -0.1450, -0.5626],\n",
      "         [ 0.1298, -0.0296, -0.3438]]], requires_grad=True)\n"
     ]
    },
    {
     "name": "stderr",
     "output_type": "stream",
     "text": [
      "\r",
      "  3%|▎         | 3/100 [00:04<02:41,  1.67s/it]"
     ]
    },
    {
     "name": "stdout",
     "output_type": "stream",
     "text": [
      "Epoch 2: D_real_loss=0.6418940706755787, D_fake_loss=0.6570100911889976, G_loss=0.8047822310139958, G_reg=0.9490064604166216, G_spreg=0.0, G_chreg=0.0\n",
      "Parameter containing:\n",
      "tensor([[[ 0.0169, -0.6070,  0.4881],\n",
      "         [ 0.2211,  0.0093, -0.3066],\n",
      "         [ 0.0213,  0.0747, -0.1466]]], requires_grad=True)\n"
     ]
    },
    {
     "name": "stderr",
     "output_type": "stream",
     "text": [
      "\r",
      "  4%|▍         | 4/100 [00:06<02:37,  1.64s/it]"
     ]
    },
    {
     "name": "stdout",
     "output_type": "stream",
     "text": [
      "Epoch 3: D_real_loss=0.6854373186160201, D_fake_loss=0.6871745428338218, G_loss=0.7065646835028554, G_reg=0.9659641583006793, G_spreg=0.0, G_chreg=0.0\n",
      "Parameter containing:\n",
      "tensor([[[-0.0075, -0.5841,  0.5965],\n",
      "         [ 0.1566,  0.0259, -0.1876],\n",
      "         [-0.0015,  0.0180, -0.0226]]], requires_grad=True)\n"
     ]
    },
    {
     "name": "stderr",
     "output_type": "stream",
     "text": [
      "\r",
      "  5%|▌         | 5/100 [00:07<02:30,  1.58s/it]"
     ]
    },
    {
     "name": "stdout",
     "output_type": "stream",
     "text": [
      "Epoch 4: D_real_loss=0.6943786538447054, D_fake_loss=0.6946008666254841, G_loss=0.6950388607887414, G_reg=0.9701401069641303, G_spreg=0.0, G_chreg=0.0\n",
      "Parameter containing:\n",
      "tensor([[[-0.0056, -0.5864,  0.6068],\n",
      "         [ 0.1498,  0.0190, -0.1713],\n",
      "         [-0.0072,  0.0122, -0.0081]]], requires_grad=True)\n"
     ]
    },
    {
     "name": "stderr",
     "output_type": "stream",
     "text": [
      "\r",
      "  6%|▌         | 6/100 [00:09<02:23,  1.53s/it]"
     ]
    },
    {
     "name": "stdout",
     "output_type": "stream",
     "text": [
      "Epoch 5: D_real_loss=0.6984928946335095, D_fake_loss=0.6986776051429895, G_loss=0.6986283249557971, G_reg=0.9708834065201755, G_spreg=0.0, G_chreg=0.0\n",
      "Parameter containing:\n",
      "tensor([[[-0.0056, -0.5919,  0.6083],\n",
      "         [ 0.1475,  0.0139, -0.1634],\n",
      "         [-0.0086,  0.0087, -0.0028]]], requires_grad=True)\n"
     ]
    },
    {
     "name": "stderr",
     "output_type": "stream",
     "text": [
      "\r",
      "  7%|▋         | 7/100 [00:10<02:19,  1.50s/it]"
     ]
    },
    {
     "name": "stdout",
     "output_type": "stream",
     "text": [
      "Epoch 6: D_real_loss=0.6935297844889826, D_fake_loss=0.6940029255879192, G_loss=0.6934713186166538, G_reg=0.9700475840832288, G_spreg=0.0, G_chreg=0.0\n",
      "Parameter containing:\n",
      "tensor([[[-0.0079, -0.5988,  0.6094],\n",
      "         [ 0.1474,  0.0102, -0.1531],\n",
      "         [-0.0090,  0.0092, -0.0044]]], requires_grad=True)\n"
     ]
    },
    {
     "name": "stderr",
     "output_type": "stream",
     "text": [
      "\r",
      "  8%|▊         | 8/100 [00:12<02:17,  1.49s/it]"
     ]
    },
    {
     "name": "stdout",
     "output_type": "stream",
     "text": [
      "Epoch 7: D_real_loss=0.694197047442293, D_fake_loss=0.6941967570362761, G_loss=0.6945003122567369, G_reg=0.9695992924082584, G_spreg=0.0, G_chreg=0.0\n",
      "Parameter containing:\n",
      "tensor([[[-0.0041, -0.5978,  0.6123],\n",
      "         [ 0.1491,  0.0050, -0.1537],\n",
      "         [-0.0066,  0.0056,  0.0023]]], requires_grad=True)\n"
     ]
    },
    {
     "name": "stderr",
     "output_type": "stream",
     "text": [
      "\r",
      "  9%|▉         | 9/100 [00:13<02:14,  1.48s/it]"
     ]
    },
    {
     "name": "stdout",
     "output_type": "stream",
     "text": [
      "Epoch 8: D_real_loss=0.6933857688126853, D_fake_loss=0.6938968300819397, G_loss=0.6934157766092318, G_reg=0.9690133652414757, G_spreg=0.0, G_chreg=0.0\n",
      "Parameter containing:\n",
      "tensor([[[ 0.0012, -0.6048,  0.6114],\n",
      "         [ 0.1476,  0.0007, -0.1515],\n",
      "         [-0.0068,  0.0060,  0.0043]]], requires_grad=True)\n"
     ]
    },
    {
     "name": "stderr",
     "output_type": "stream",
     "text": [
      "\r",
      " 10%|█         | 10/100 [00:15<02:12,  1.47s/it]"
     ]
    },
    {
     "name": "stdout",
     "output_type": "stream",
     "text": [
      "Epoch 9: D_real_loss=0.6938461461387122, D_fake_loss=0.6939839779759367, G_loss=0.6939159968790536, G_reg=0.9691891367562091, G_spreg=0.0, G_chreg=0.0\n",
      "Parameter containing:\n",
      "tensor([[[ 2.3750e-04, -6.0781e-01,  6.1299e-01],\n",
      "         [ 1.4945e-01, -1.3799e-03, -1.4575e-01],\n",
      "         [-3.9050e-03,  3.2138e-03,  8.8257e-04]]], requires_grad=True)\n"
     ]
    },
    {
     "name": "stderr",
     "output_type": "stream",
     "text": [
      "\r",
      " 11%|█         | 11/100 [00:16<02:17,  1.54s/it]"
     ]
    },
    {
     "name": "stdout",
     "output_type": "stream",
     "text": [
      "Epoch 10: D_real_loss=0.6940364043552655, D_fake_loss=0.6942990740267233, G_loss=0.6941710689578193, G_reg=0.9689999631228158, G_spreg=0.0, G_chreg=0.0\n",
      "Parameter containing:\n",
      "tensor([[[-4.9263e-03, -6.0996e-01,  6.1202e-01],\n",
      "         [ 1.5120e-01, -4.8707e-03, -1.4990e-01],\n",
      "         [-7.8708e-03,  5.1848e-04,  3.9583e-03]]], requires_grad=True)\n"
     ]
    },
    {
     "name": "stderr",
     "output_type": "stream",
     "text": [
      "\r",
      " 12%|█▏        | 12/100 [00:18<02:21,  1.61s/it]"
     ]
    },
    {
     "name": "stdout",
     "output_type": "stream",
     "text": [
      "Epoch 11: D_real_loss=0.6936187346141559, D_fake_loss=0.6939430293945459, G_loss=0.6936817218701299, G_reg=0.9683777908452402, G_spreg=0.0, G_chreg=0.0\n",
      "Parameter containing:\n",
      "tensor([[[-2.0274e-03, -6.0837e-01,  6.1939e-01],\n",
      "         [ 1.5241e-01,  8.1268e-04, -1.4518e-01],\n",
      "         [-5.0829e-03,  7.6703e-04,  6.5883e-05]]], requires_grad=True)\n"
     ]
    },
    {
     "name": "stderr",
     "output_type": "stream",
     "text": [
      "\r",
      " 13%|█▎        | 13/100 [00:20<02:33,  1.76s/it]"
     ]
    },
    {
     "name": "stdout",
     "output_type": "stream",
     "text": [
      "Epoch 12: D_real_loss=0.696362466857837, D_fake_loss=0.696385943946747, G_loss=0.6965315130571968, G_reg=0.968554002134659, G_spreg=0.0, G_chreg=0.0\n",
      "Parameter containing:\n",
      "tensor([[[-0.0040, -0.6135,  0.6178],\n",
      "         [ 0.1504,  0.0013, -0.1511],\n",
      "         [-0.0041, -0.0018,  0.0021]]], requires_grad=True)\n"
     ]
    },
    {
     "name": "stderr",
     "output_type": "stream",
     "text": [
      "\r",
      " 14%|█▍        | 14/100 [00:22<02:34,  1.80s/it]"
     ]
    },
    {
     "name": "stdout",
     "output_type": "stream",
     "text": [
      "Epoch 13: D_real_loss=0.6932605158406705, D_fake_loss=0.6936547611468136, G_loss=0.6935071568138683, G_reg=0.9692348649921699, G_spreg=0.0, G_chreg=0.0\n",
      "Parameter containing:\n",
      "tensor([[[-6.6771e-03, -6.1853e-01,  6.1855e-01],\n",
      "         [ 1.4951e-01, -1.7989e-04, -1.5417e-01],\n",
      "         [-5.8277e-03,  4.1072e-03,  1.9039e-03]]], requires_grad=True)\n"
     ]
    },
    {
     "name": "stderr",
     "output_type": "stream",
     "text": [
      "\r",
      " 15%|█▌        | 15/100 [00:24<02:32,  1.79s/it]"
     ]
    },
    {
     "name": "stdout",
     "output_type": "stream",
     "text": [
      "Epoch 14: D_real_loss=0.6937547451771867, D_fake_loss=0.6939198513762258, G_loss=0.6940307512450904, G_reg=0.9687943961292791, G_spreg=0.0, G_chreg=0.0\n",
      "Parameter containing:\n",
      "tensor([[[-0.0052, -0.6151,  0.6252],\n",
      "         [ 0.1516,  0.0054, -0.1555],\n",
      "         [-0.0076,  0.0021,  0.0026]]], requires_grad=True)\n"
     ]
    },
    {
     "name": "stderr",
     "output_type": "stream",
     "text": [
      "\r",
      " 16%|█▌        | 16/100 [00:26<02:30,  1.79s/it]"
     ]
    },
    {
     "name": "stdout",
     "output_type": "stream",
     "text": [
      "Epoch 15: D_real_loss=0.6945866024532257, D_fake_loss=0.695045071478469, G_loss=0.6948245318172077, G_reg=0.9683513588394029, G_spreg=0.0, G_chreg=0.0\n",
      "Parameter containing:\n",
      "tensor([[[-0.0061, -0.6182,  0.6295],\n",
      "         [ 0.1554,  0.0038, -0.1535],\n",
      "         [-0.0026, -0.0039, -0.0014]]], requires_grad=True)\n"
     ]
    },
    {
     "name": "stderr",
     "output_type": "stream",
     "text": [
      "\r",
      " 17%|█▋        | 17/100 [00:27<02:22,  1.71s/it]"
     ]
    },
    {
     "name": "stdout",
     "output_type": "stream",
     "text": [
      "Epoch 16: D_real_loss=0.6934950631647445, D_fake_loss=0.6935574821770762, G_loss=0.6936777333101145, G_reg=0.9673260015468247, G_spreg=0.0, G_chreg=0.0\n",
      "Parameter containing:\n",
      "tensor([[[-0.0030, -0.6262,  0.6264],\n",
      "         [ 0.1567,  0.0018, -0.1591],\n",
      "         [-0.0045,  0.0031,  0.0053]]], requires_grad=True)\n"
     ]
    },
    {
     "name": "stderr",
     "output_type": "stream",
     "text": [
      "\r",
      " 18%|█▊        | 18/100 [00:29<02:18,  1.68s/it]"
     ]
    },
    {
     "name": "stdout",
     "output_type": "stream",
     "text": [
      "Epoch 17: D_real_loss=0.6954530090950548, D_fake_loss=0.694847455420814, G_loss=0.695668030661135, G_reg=0.9675145357513961, G_spreg=0.0, G_chreg=0.0\n",
      "Parameter containing:\n",
      "tensor([[[-0.0108, -0.6249,  0.6365],\n",
      "         [ 0.1546,  0.0085, -0.1582],\n",
      "         [-0.0035,  0.0007, -0.0063]]], requires_grad=True)\n"
     ]
    },
    {
     "name": "stderr",
     "output_type": "stream",
     "text": [
      "\r",
      " 19%|█▉        | 19/100 [00:31<02:28,  1.83s/it]"
     ]
    },
    {
     "name": "stdout",
     "output_type": "stream",
     "text": [
      "Epoch 18: D_real_loss=0.693351250677444, D_fake_loss=0.6936187279490998, G_loss=0.6936231933462734, G_reg=0.9675406559278219, G_spreg=0.0, G_chreg=0.0\n",
      "Parameter containing:\n",
      "tensor([[[-1.6289e-03, -6.3203e-01,  6.3839e-01],\n",
      "         [ 1.5716e-01,  1.0951e-03, -1.5520e-01],\n",
      "         [-3.6136e-04, -1.5668e-03, -6.9994e-03]]], requires_grad=True)\n"
     ]
    },
    {
     "name": "stderr",
     "output_type": "stream",
     "text": [
      "\r",
      " 20%|██        | 20/100 [00:33<02:32,  1.91s/it]"
     ]
    },
    {
     "name": "stdout",
     "output_type": "stream",
     "text": [
      "Epoch 19: D_real_loss=0.6935118907175887, D_fake_loss=0.6934894310018886, G_loss=0.6937175874892896, G_reg=0.9658729404615708, G_spreg=0.0, G_chreg=0.0\n",
      "Parameter containing:\n",
      "tensor([[[-0.0060, -0.6417,  0.6409],\n",
      "         [ 0.1551,  0.0031, -0.1622],\n",
      "         [-0.0080,  0.0065,  0.0027]]], requires_grad=True)\n"
     ]
    },
    {
     "name": "stderr",
     "output_type": "stream",
     "text": [
      "\r",
      " 21%|██        | 21/100 [00:35<02:26,  1.86s/it]"
     ]
    },
    {
     "name": "stdout",
     "output_type": "stream",
     "text": [
      "Epoch 20: D_real_loss=0.6938422367976497, D_fake_loss=0.6934965603267804, G_loss=0.6941417747031385, G_reg=0.9660092140800847, G_spreg=0.0, G_chreg=0.0\n",
      "Parameter containing:\n",
      "tensor([[[-0.0061, -0.6418,  0.6535],\n",
      "         [ 0.1590,  0.0033, -0.1584],\n",
      "         [-0.0040, -0.0020, -0.0040]]], requires_grad=True)\n"
     ]
    },
    {
     "name": "stderr",
     "output_type": "stream",
     "text": [
      "\r",
      " 22%|██▏       | 22/100 [00:37<02:28,  1.90s/it]"
     ]
    },
    {
     "name": "stdout",
     "output_type": "stream",
     "text": [
      "Epoch 21: D_real_loss=0.6936836749220047, D_fake_loss=0.6943196372483105, G_loss=0.6938814040951835, G_reg=0.965736107454418, G_spreg=0.0, G_chreg=0.0\n",
      "Parameter containing:\n",
      "tensor([[[-0.0049, -0.6470,  0.6549],\n",
      "         [ 0.1599,  0.0021, -0.1667],\n",
      "         [-0.0067,  0.0138, -0.0132]]], requires_grad=True)\n"
     ]
    },
    {
     "name": "stderr",
     "output_type": "stream",
     "text": [
      "\r",
      " 23%|██▎       | 23/100 [00:39<02:31,  1.97s/it]"
     ]
    },
    {
     "name": "stdout",
     "output_type": "stream",
     "text": [
      "Epoch 22: D_real_loss=0.6942286605652148, D_fake_loss=0.6939695544136218, G_loss=0.6945208461520771, G_reg=0.9649589392966547, G_spreg=0.0, G_chreg=0.0\n",
      "Parameter containing:\n",
      "tensor([[[ 0.0030, -0.6540,  0.6593],\n",
      "         [ 0.1677,  0.0048, -0.1571],\n",
      "         [-0.0007,  0.0093, -0.0113]]], requires_grad=True)\n"
     ]
    },
    {
     "name": "stderr",
     "output_type": "stream",
     "text": [
      "\r",
      " 24%|██▍       | 24/100 [00:41<02:22,  1.88s/it]"
     ]
    },
    {
     "name": "stdout",
     "output_type": "stream",
     "text": [
      "Epoch 23: D_real_loss=0.6929364267248697, D_fake_loss=0.6937240981065427, G_loss=0.6932633701985637, G_reg=0.963558693127796, G_spreg=0.0, G_chreg=0.0\n",
      "Parameter containing:\n",
      "tensor([[[-0.0043, -0.6711,  0.6543],\n",
      "         [ 0.1642,  0.0016, -0.1640],\n",
      "         [-0.0026, -0.0018,  0.0053]]], requires_grad=True)\n"
     ]
    },
    {
     "name": "stderr",
     "output_type": "stream",
     "text": [
      "\r",
      " 25%|██▌       | 25/100 [00:43<02:19,  1.86s/it]"
     ]
    },
    {
     "name": "stdout",
     "output_type": "stream",
     "text": [
      "Epoch 24: D_real_loss=0.6932343286447251, D_fake_loss=0.6939429444626878, G_loss=0.6935972698961204, G_reg=0.9641335872463144, G_spreg=0.0, G_chreg=0.0\n",
      "Parameter containing:\n",
      "tensor([[[ 4.7753e-04, -6.6094e-01,  6.7164e-01],\n",
      "         [ 1.6359e-01,  3.6828e-03, -1.6711e-01],\n",
      "         [-1.4953e-03,  5.3554e-03,  2.5005e-03]]], requires_grad=True)\n"
     ]
    },
    {
     "name": "stderr",
     "output_type": "stream",
     "text": [
      "\r",
      " 26%|██▌       | 26/100 [00:44<02:12,  1.79s/it]"
     ]
    },
    {
     "name": "stdout",
     "output_type": "stream",
     "text": [
      "Epoch 25: D_real_loss=0.6942934035874022, D_fake_loss=0.6938648271484497, G_loss=0.694557900245959, G_reg=0.9637592321696182, G_spreg=0.0, G_chreg=0.0\n",
      "Parameter containing:\n",
      "tensor([[[-0.0075, -0.6600,  0.6830],\n",
      "         [ 0.1653,  0.0058, -0.1759],\n",
      "         [-0.0015,  0.0020, -0.0022]]], requires_grad=True)\n"
     ]
    },
    {
     "name": "stderr",
     "output_type": "stream",
     "text": [
      "\r",
      " 27%|██▋       | 27/100 [00:46<02:14,  1.84s/it]"
     ]
    },
    {
     "name": "stdout",
     "output_type": "stream",
     "text": [
      "Epoch 26: D_real_loss=0.6937809776955138, D_fake_loss=0.6936697241978143, G_loss=0.6941998361017757, G_reg=0.9629234989968162, G_spreg=0.0, G_chreg=0.0\n",
      "Parameter containing:\n",
      "tensor([[[ 1.2711e-03, -6.7646e-01,  6.8252e-01],\n",
      "         [ 1.6437e-01,  8.2850e-04, -1.7363e-01],\n",
      "         [-5.4124e-03, -3.2374e-04, -1.0942e-03]]], requires_grad=True)\n"
     ]
    },
    {
     "name": "stderr",
     "output_type": "stream",
     "text": [
      "\r",
      " 28%|██▊       | 28/100 [00:48<02:12,  1.84s/it]"
     ]
    },
    {
     "name": "stdout",
     "output_type": "stream",
     "text": [
      "Epoch 27: D_real_loss=0.6943339094186363, D_fake_loss=0.6944793363729604, G_loss=0.6946251352374165, G_reg=0.961706319008582, G_spreg=0.0, G_chreg=0.0\n",
      "Parameter containing:\n",
      "tensor([[[-3.8037e-03, -6.8150e-01,  6.8910e-01],\n",
      "         [ 1.7228e-01,  1.3130e-04, -1.7135e-01],\n",
      "         [-7.1980e-03,  6.8821e-03,  4.3172e-04]]], requires_grad=True)\n"
     ]
    },
    {
     "name": "stderr",
     "output_type": "stream",
     "text": [
      "\r",
      " 29%|██▉       | 29/100 [00:50<02:14,  1.89s/it]"
     ]
    },
    {
     "name": "stdout",
     "output_type": "stream",
     "text": [
      "Epoch 28: D_real_loss=0.6933950012484298, D_fake_loss=0.6938178126042643, G_loss=0.6937426698093597, G_reg=0.9613682340366391, G_spreg=0.0, G_chreg=0.0\n",
      "Parameter containing:\n",
      "tensor([[[-1.1175e-02, -7.0040e-01,  6.9005e-01],\n",
      "         [ 1.6865e-01,  1.5460e-02, -1.7354e-01],\n",
      "         [-1.1396e-03, -2.7977e-04,  2.2930e-03]]], requires_grad=True)\n"
     ]
    },
    {
     "name": "stderr",
     "output_type": "stream",
     "text": [
      "\r",
      " 30%|███       | 30/100 [00:52<02:15,  1.93s/it]"
     ]
    },
    {
     "name": "stdout",
     "output_type": "stream",
     "text": [
      "Epoch 29: D_real_loss=0.693765226644449, D_fake_loss=0.6932977778843036, G_loss=0.6942866758797497, G_reg=0.960462459455283, G_spreg=0.0, G_chreg=0.0\n",
      "Parameter containing:\n",
      "tensor([[[ 0.0024, -0.7025,  0.6977],\n",
      "         [ 0.1787,  0.0013, -0.1720],\n",
      "         [-0.0023, -0.0058,  0.0015]]], requires_grad=True)\n"
     ]
    },
    {
     "name": "stderr",
     "output_type": "stream",
     "text": [
      "\r",
      " 31%|███       | 31/100 [00:54<02:18,  2.01s/it]"
     ]
    },
    {
     "name": "stdout",
     "output_type": "stream",
     "text": [
      "Epoch 30: D_real_loss=0.694075938992607, D_fake_loss=0.6939584993706724, G_loss=0.6943611009433247, G_reg=0.9590986622170138, G_spreg=0.0, G_chreg=0.0\n",
      "Parameter containing:\n",
      "tensor([[[ 0.0037, -0.7095,  0.7038],\n",
      "         [ 0.1780, -0.0045, -0.1791],\n",
      "         [-0.0120,  0.0063,  0.0057]]], requires_grad=True)\n"
     ]
    },
    {
     "name": "stderr",
     "output_type": "stream",
     "text": [
      "\r",
      " 32%|███▏      | 32/100 [00:56<02:18,  2.04s/it]"
     ]
    },
    {
     "name": "stdout",
     "output_type": "stream",
     "text": [
      "Epoch 31: D_real_loss=0.6931825960025239, D_fake_loss=0.6935201953775205, G_loss=0.6936763351717696, G_reg=0.9571241155361977, G_spreg=0.0, G_chreg=0.0\n",
      "Parameter containing:\n",
      "tensor([[[-0.0052, -0.7220,  0.7155],\n",
      "         [ 0.1686,  0.0044, -0.1813],\n",
      "         [ 0.0007,  0.0146, -0.0104]]], requires_grad=True)\n"
     ]
    },
    {
     "name": "stderr",
     "output_type": "stream",
     "text": [
      "\r",
      " 33%|███▎      | 33/100 [00:58<02:13,  2.00s/it]"
     ]
    },
    {
     "name": "stdout",
     "output_type": "stream",
     "text": [
      "Epoch 32: D_real_loss=0.693803288494817, D_fake_loss=0.693697559186064, G_loss=0.6941384737864851, G_reg=0.9584408851501088, G_spreg=0.0, G_chreg=0.0\n",
      "Parameter containing:\n",
      "tensor([[[ 4.5087e-04, -7.2275e-01,  7.2452e-01],\n",
      "         [ 1.8347e-01,  3.0155e-03, -1.8288e-01],\n",
      "         [-4.0226e-03,  6.6906e-03, -4.6598e-03]]], requires_grad=True)\n"
     ]
    },
    {
     "name": "stderr",
     "output_type": "stream",
     "text": [
      "\r",
      " 34%|███▍      | 34/100 [01:00<02:07,  1.93s/it]"
     ]
    },
    {
     "name": "stdout",
     "output_type": "stream",
     "text": [
      "Epoch 33: D_real_loss=0.6937673293744413, D_fake_loss=0.6932196739001777, G_loss=0.6942213667086519, G_reg=0.9568439332393411, G_spreg=0.0, G_chreg=0.0\n",
      "Parameter containing:\n",
      "tensor([[[ 0.0019, -0.7250,  0.7425],\n",
      "         [ 0.1861,  0.0093, -0.1830],\n",
      "         [-0.0049,  0.0086,  0.0030]]], requires_grad=True)\n"
     ]
    },
    {
     "name": "stderr",
     "output_type": "stream",
     "text": [
      "\r",
      " 35%|███▌      | 35/100 [01:02<02:08,  1.97s/it]"
     ]
    },
    {
     "name": "stdout",
     "output_type": "stream",
     "text": [
      "Epoch 34: D_real_loss=0.6934298745359475, D_fake_loss=0.6938863175745589, G_loss=0.6938741593696058, G_reg=0.9560053230831608, G_spreg=0.0, G_chreg=0.0\n",
      "Parameter containing:\n",
      "tensor([[[-0.0100, -0.7382,  0.7433],\n",
      "         [ 0.1837,  0.0101, -0.1864],\n",
      "         [-0.0028,  0.0035,  0.0018]]], requires_grad=True)\n"
     ]
    },
    {
     "name": "stderr",
     "output_type": "stream",
     "text": [
      "\r",
      " 36%|███▌      | 36/100 [01:04<02:12,  2.07s/it]"
     ]
    },
    {
     "name": "stdout",
     "output_type": "stream",
     "text": [
      "Epoch 35: D_real_loss=0.693398914588526, D_fake_loss=0.6935395015695225, G_loss=0.693702236151162, G_reg=0.9543925517806991, G_spreg=0.0, G_chreg=0.0\n",
      "Parameter containing:\n",
      "tensor([[[-0.0025, -0.7483,  0.7500],\n",
      "         [ 0.1896,  0.0084, -0.1912],\n",
      "         [-0.0027,  0.0018,  0.0008]]], requires_grad=True)\n"
     ]
    },
    {
     "name": "stderr",
     "output_type": "stream",
     "text": [
      "\r",
      " 37%|███▋      | 37/100 [01:06<02:03,  1.97s/it]"
     ]
    },
    {
     "name": "stdout",
     "output_type": "stream",
     "text": [
      "Epoch 36: D_real_loss=0.6954544081855506, D_fake_loss=0.696125933537468, G_loss=0.6957571695978269, G_reg=0.9531477841135031, G_spreg=0.0, G_chreg=0.0\n",
      "Parameter containing:\n",
      "tensor([[[-7.8038e-03, -7.5505e-01,  7.5837e-01],\n",
      "         [ 1.8168e-01,  7.9912e-03, -1.9244e-01],\n",
      "         [ 1.4640e-04, -1.2865e-03, -1.0036e-03]]], requires_grad=True)\n"
     ]
    },
    {
     "name": "stderr",
     "output_type": "stream",
     "text": [
      "\r",
      " 38%|███▊      | 38/100 [01:08<01:57,  1.90s/it]"
     ]
    },
    {
     "name": "stdout",
     "output_type": "stream",
     "text": [
      "Epoch 37: D_real_loss=0.693502270566008, D_fake_loss=0.6931203026741076, G_loss=0.6938220456766244, G_reg=0.9551132633425177, G_spreg=0.0, G_chreg=0.0\n",
      "Parameter containing:\n",
      "tensor([[[-0.0044, -0.7653,  0.7666],\n",
      "         [ 0.1895, -0.0061, -0.1891],\n",
      "         [-0.0075,  0.0037, -0.0043]]], requires_grad=True)\n"
     ]
    },
    {
     "name": "stderr",
     "output_type": "stream",
     "text": [
      "\r",
      " 39%|███▉      | 39/100 [01:10<01:52,  1.85s/it]"
     ]
    },
    {
     "name": "stdout",
     "output_type": "stream",
     "text": [
      "Epoch 38: D_real_loss=0.6935786964794317, D_fake_loss=0.693080775463543, G_loss=0.6939696033541768, G_reg=0.9536115077737802, G_spreg=0.0, G_chreg=0.0\n",
      "Parameter containing:\n",
      "tensor([[[ 0.0039, -0.7655,  0.7802],\n",
      "         [ 0.1979, -0.0044, -0.1847],\n",
      "         [-0.0058, -0.0020, -0.0053]]], requires_grad=True)\n"
     ]
    },
    {
     "name": "stderr",
     "output_type": "stream",
     "text": [
      "\r",
      " 40%|████      | 40/100 [01:12<01:54,  1.92s/it]"
     ]
    },
    {
     "name": "stdout",
     "output_type": "stream",
     "text": [
      "Epoch 39: D_real_loss=0.6935782186901227, D_fake_loss=0.6943881184148332, G_loss=0.6939596720396901, G_reg=0.9512577470713339, G_spreg=0.0, G_chreg=0.0\n",
      "Parameter containing:\n",
      "tensor([[[-2.4288e-04, -7.8430e-01,  7.8303e-01],\n",
      "         [ 1.9148e-01, -1.7600e-03, -1.9370e-01],\n",
      "         [-2.9504e-03, -9.4548e-05,  2.8108e-03]]], requires_grad=True)\n"
     ]
    },
    {
     "name": "stderr",
     "output_type": "stream",
     "text": [
      "\r",
      " 41%|████      | 41/100 [01:14<01:55,  1.95s/it]"
     ]
    },
    {
     "name": "stdout",
     "output_type": "stream",
     "text": [
      "Epoch 40: D_real_loss=0.6931453861367588, D_fake_loss=0.6934182626751665, G_loss=0.6934929615773332, G_reg=0.9511367766002116, G_spreg=0.0, G_chreg=0.0\n",
      "Parameter containing:\n",
      "tensor([[[-9.6285e-03, -7.8473e-01,  8.0189e-01],\n",
      "         [ 1.9904e-01,  1.3574e-03, -1.8953e-01],\n",
      "         [-2.7229e-03,  1.1392e-04, -1.0301e-02]]], requires_grad=True)\n"
     ]
    },
    {
     "name": "stderr",
     "output_type": "stream",
     "text": [
      "\r",
      " 42%|████▏     | 42/100 [01:16<01:54,  1.97s/it]"
     ]
    },
    {
     "name": "stdout",
     "output_type": "stream",
     "text": [
      "Epoch 41: D_real_loss=0.6935288757561876, D_fake_loss=0.6934405062526179, G_loss=0.6939567885459802, G_reg=0.9489591069781361, G_spreg=0.0, G_chreg=0.0\n",
      "Parameter containing:\n",
      "tensor([[[-0.0054, -0.8021,  0.7988],\n",
      "         [ 0.1898,  0.0014, -0.2011],\n",
      "         [ 0.0048, -0.0015, -0.0047]]], requires_grad=True)\n"
     ]
    },
    {
     "name": "stderr",
     "output_type": "stream",
     "text": [
      "\r",
      " 43%|████▎     | 43/100 [01:17<01:49,  1.93s/it]"
     ]
    },
    {
     "name": "stdout",
     "output_type": "stream",
     "text": [
      "Epoch 42: D_real_loss=0.6931352371605821, D_fake_loss=0.6938319552820712, G_loss=0.6935980350445634, G_reg=0.9495070355887801, G_spreg=0.0, G_chreg=0.0\n",
      "Parameter containing:\n",
      "tensor([[[ 1.7282e-03, -8.0586e-01,  8.0947e-01],\n",
      "         [ 2.0329e-01,  8.0486e-03, -2.0382e-01],\n",
      "         [-1.2050e-03,  1.0049e-02,  3.9215e-04]]], requires_grad=True)\n"
     ]
    },
    {
     "name": "stderr",
     "output_type": "stream",
     "text": [
      "\r",
      " 44%|████▍     | 44/100 [01:19<01:48,  1.93s/it]"
     ]
    },
    {
     "name": "stdout",
     "output_type": "stream",
     "text": [
      "Epoch 43: D_real_loss=0.6932725933032294, D_fake_loss=0.693415874680772, G_loss=0.6937231465269582, G_reg=0.9471404056746168, G_spreg=0.0, G_chreg=0.0\n",
      "Parameter containing:\n",
      "tensor([[[-1.2105e-03, -8.1815e-01,  8.2122e-01],\n",
      "         [ 2.0198e-01,  7.6570e-03, -2.0826e-01],\n",
      "         [ 6.7292e-05,  6.7901e-03, -4.1021e-03]]], requires_grad=True)\n"
     ]
    },
    {
     "name": "stderr",
     "output_type": "stream",
     "text": [
      "\r",
      " 45%|████▌     | 45/100 [01:21<01:46,  1.94s/it]"
     ]
    },
    {
     "name": "stdout",
     "output_type": "stream",
     "text": [
      "Epoch 44: D_real_loss=0.6942213609957466, D_fake_loss=0.6940511823081361, G_loss=0.6945625953019237, G_reg=0.9465861741227274, G_spreg=0.0, G_chreg=0.0\n",
      "Parameter containing:\n",
      "tensor([[[-6.2266e-04, -8.3278e-01,  8.2714e-01],\n",
      "         [ 2.1082e-01,  1.3045e-02, -2.0759e-01],\n",
      "         [-9.6925e-03, -7.4825e-04,  4.4663e-03]]], requires_grad=True)\n"
     ]
    },
    {
     "name": "stderr",
     "output_type": "stream",
     "text": [
      "\r",
      " 46%|████▌     | 46/100 [01:23<01:41,  1.88s/it]"
     ]
    },
    {
     "name": "stdout",
     "output_type": "stream",
     "text": [
      "Epoch 45: D_real_loss=0.6934143563809867, D_fake_loss=0.6931718048957971, G_loss=0.6937794291173307, G_reg=0.9436079122411748, G_spreg=0.0, G_chreg=0.0\n",
      "Parameter containing:\n",
      "tensor([[[-5.9148e-03, -8.3595e-01,  8.4223e-01],\n",
      "         [ 2.0694e-01,  3.5853e-04, -2.2006e-01],\n",
      "         [-3.3744e-03,  4.8769e-03,  4.5797e-03]]], requires_grad=True)\n"
     ]
    },
    {
     "name": "stderr",
     "output_type": "stream",
     "text": [
      "\r",
      " 47%|████▋     | 47/100 [01:25<01:39,  1.88s/it]"
     ]
    },
    {
     "name": "stdout",
     "output_type": "stream",
     "text": [
      "Epoch 46: D_real_loss=0.693165299801019, D_fake_loss=0.6940132886076126, G_loss=0.6935693419779452, G_reg=0.9436978952596172, G_spreg=0.0, G_chreg=0.0\n",
      "Parameter containing:\n",
      "tensor([[[-5.1934e-04, -8.4851e-01,  8.4637e-01],\n",
      "         [ 2.2127e-01,  4.1312e-03, -2.1152e-01],\n",
      "         [-2.4862e-03, -4.0350e-04, -4.2383e-03]]], requires_grad=True)\n"
     ]
    },
    {
     "name": "stderr",
     "output_type": "stream",
     "text": [
      "\r",
      " 48%|████▊     | 48/100 [01:27<01:35,  1.84s/it]"
     ]
    },
    {
     "name": "stdout",
     "output_type": "stream",
     "text": [
      "Epoch 47: D_real_loss=0.6938304885888633, D_fake_loss=0.6931097431304737, G_loss=0.6942367477538868, G_reg=0.9428920634924033, G_spreg=0.0, G_chreg=0.0\n",
      "Parameter containing:\n",
      "tensor([[[-0.0071, -0.8613,  0.8546],\n",
      "         [ 0.2192,  0.0056, -0.2166],\n",
      "         [-0.0023,  0.0015, -0.0024]]], requires_grad=True)\n"
     ]
    },
    {
     "name": "stderr",
     "output_type": "stream",
     "text": [
      "\r",
      " 49%|████▉     | 49/100 [01:28<01:32,  1.81s/it]"
     ]
    },
    {
     "name": "stdout",
     "output_type": "stream",
     "text": [
      "Epoch 48: D_real_loss=0.6935905100057681, D_fake_loss=0.6932227383025538, G_loss=0.6940923881606934, G_reg=0.9417444833527548, G_spreg=0.0, G_chreg=0.0\n",
      "Parameter containing:\n",
      "tensor([[[ 3.0800e-04, -8.5875e-01,  8.8073e-01],\n",
      "         [ 2.1262e-01,  8.7782e-03, -2.2036e-01],\n",
      "         [-3.7743e-03, -6.5377e-03,  3.0069e-03]]], requires_grad=True)\n"
     ]
    },
    {
     "name": "stderr",
     "output_type": "stream",
     "text": [
      "\r",
      " 50%|█████     | 50/100 [01:30<01:29,  1.79s/it]"
     ]
    },
    {
     "name": "stdout",
     "output_type": "stream",
     "text": [
      "Epoch 49: D_real_loss=0.6932479244070693, D_fake_loss=0.693339564929755, G_loss=0.6939141001945106, G_reg=0.9399872020291634, G_spreg=0.0, G_chreg=0.0\n",
      "Parameter containing:\n",
      "tensor([[[-8.3908e-03, -8.6957e-01,  8.7831e-01],\n",
      "         [ 2.1664e-01,  3.7416e-03, -2.2001e-01],\n",
      "         [-9.7426e-03,  1.4889e-02,  6.1663e-05]]], requires_grad=True)\n"
     ]
    },
    {
     "name": "stderr",
     "output_type": "stream",
     "text": [
      "\r",
      " 51%|█████     | 51/100 [01:32<01:24,  1.73s/it]"
     ]
    },
    {
     "name": "stdout",
     "output_type": "stream",
     "text": [
      "Epoch 50: D_real_loss=0.6930797475214583, D_fake_loss=0.6935050554168872, G_loss=0.6935664377273462, G_reg=0.939397492740577, G_spreg=0.0, G_chreg=0.0\n",
      "Parameter containing:\n",
      "tensor([[[-0.0032, -0.8820,  0.8872],\n",
      "         [ 0.2149,  0.0082, -0.2249],\n",
      "         [-0.0016,  0.0062, -0.0036]]], requires_grad=True)\n"
     ]
    },
    {
     "name": "stderr",
     "output_type": "stream",
     "text": [
      "\r",
      " 52%|█████▏    | 52/100 [01:33<01:22,  1.71s/it]"
     ]
    },
    {
     "name": "stdout",
     "output_type": "stream",
     "text": [
      "Epoch 51: D_real_loss=0.6934072565727721, D_fake_loss=0.6935780943392184, G_loss=0.6937524466849745, G_reg=0.9396617009212225, G_spreg=0.0, G_chreg=0.0\n",
      "Parameter containing:\n",
      "tensor([[[-6.1226e-03, -8.9758e-01,  8.9251e-01],\n",
      "         [ 2.1477e-01, -1.9131e-03, -2.2606e-01],\n",
      "         [ 3.4723e-04,  1.4874e-02, -1.3486e-02]]], requires_grad=True)\n"
     ]
    },
    {
     "name": "stderr",
     "output_type": "stream",
     "text": [
      "\r",
      " 53%|█████▎    | 53/100 [01:35<01:18,  1.68s/it]"
     ]
    },
    {
     "name": "stdout",
     "output_type": "stream",
     "text": [
      "Epoch 52: D_real_loss=0.6932366574153351, D_fake_loss=0.6936026598317936, G_loss=0.6936020123691985, G_reg=0.9384098334815174, G_spreg=0.0, G_chreg=0.0\n",
      "Parameter containing:\n",
      "tensor([[[-0.0182, -0.9024,  0.9050],\n",
      "         [ 0.2271,  0.0074, -0.2341],\n",
      "         [ 0.0025,  0.0090, -0.0058]]], requires_grad=True)\n"
     ]
    },
    {
     "name": "stderr",
     "output_type": "stream",
     "text": [
      "\r",
      " 54%|█████▍    | 54/100 [01:37<01:16,  1.66s/it]"
     ]
    },
    {
     "name": "stdout",
     "output_type": "stream",
     "text": [
      "Epoch 53: D_real_loss=0.6937748521280745, D_fake_loss=0.693458480766406, G_loss=0.694180953426483, G_reg=0.9373852849220887, G_spreg=0.0, G_chreg=0.0\n",
      "Parameter containing:\n",
      "tensor([[[-1.4832e-03, -9.0185e-01,  9.3081e-01],\n",
      "         [ 2.3154e-01,  2.5832e-03, -2.3455e-01],\n",
      "         [-2.2931e-04,  2.2479e-03, -1.3789e-02]]], requires_grad=True)\n"
     ]
    },
    {
     "name": "stderr",
     "output_type": "stream",
     "text": [
      "\r",
      " 55%|█████▌    | 55/100 [01:38<01:14,  1.66s/it]"
     ]
    },
    {
     "name": "stdout",
     "output_type": "stream",
     "text": [
      "Epoch 54: D_real_loss=0.6932823739874477, D_fake_loss=0.6933374462036279, G_loss=0.6936854284030561, G_reg=0.9348759954325117, G_spreg=0.0, G_chreg=0.0\n",
      "Parameter containing:\n",
      "tensor([[[ 9.5562e-03, -9.3102e-01,  9.3608e-01],\n",
      "         [ 2.2516e-01, -2.9526e-04, -2.3177e-01],\n",
      "         [-1.9381e-03,  6.1576e-03, -3.9339e-04]]], requires_grad=True)\n"
     ]
    },
    {
     "name": "stderr",
     "output_type": "stream",
     "text": [
      "\r",
      " 56%|█████▌    | 56/100 [01:40<01:12,  1.65s/it]"
     ]
    },
    {
     "name": "stdout",
     "output_type": "stream",
     "text": [
      "Epoch 55: D_real_loss=0.6934424301686759, D_fake_loss=0.6933891925568016, G_loss=0.6940435559604876, G_reg=0.9318499831845776, G_spreg=0.0, G_chreg=0.0\n",
      "Parameter containing:\n",
      "tensor([[[-0.0025, -0.9298,  0.9570],\n",
      "         [ 0.2329,  0.0094, -0.2474],\n",
      "         [-0.0074, -0.0028,  0.0050]]], requires_grad=True)\n"
     ]
    },
    {
     "name": "stderr",
     "output_type": "stream",
     "text": [
      "\r",
      " 57%|█████▋    | 57/100 [01:42<01:11,  1.67s/it]"
     ]
    },
    {
     "name": "stdout",
     "output_type": "stream",
     "text": [
      "Epoch 56: D_real_loss=0.6934053852154424, D_fake_loss=0.6934008735437363, G_loss=0.6939022771466654, G_reg=0.933305729335299, G_spreg=0.0, G_chreg=0.0\n",
      "Parameter containing:\n",
      "tensor([[[ 5.7448e-03, -9.4891e-01,  9.6754e-01],\n",
      "         [ 2.3984e-01, -4.5693e-03, -2.4574e-01],\n",
      "         [-4.8854e-03,  1.6746e-04,  5.1126e-03]]], requires_grad=True)\n"
     ]
    },
    {
     "name": "stderr",
     "output_type": "stream",
     "text": [
      "\r",
      " 58%|█████▊    | 58/100 [01:44<01:12,  1.72s/it]"
     ]
    },
    {
     "name": "stdout",
     "output_type": "stream",
     "text": [
      "Epoch 57: D_real_loss=0.6936507704920662, D_fake_loss=0.6938062340687638, G_loss=0.6940750243564764, G_reg=0.9282239584829479, G_spreg=0.0, G_chreg=0.0\n",
      "Parameter containing:\n",
      "tensor([[[-1.8653e-03, -9.6952e-01,  9.6866e-01],\n",
      "         [ 2.4615e-01, -5.1231e-04, -2.4245e-01],\n",
      "         [-9.3178e-03,  4.4273e-04,  5.2890e-03]]], requires_grad=True)\n"
     ]
    },
    {
     "name": "stderr",
     "output_type": "stream",
     "text": [
      "\r",
      " 59%|█████▉    | 59/100 [01:45<01:11,  1.74s/it]"
     ]
    },
    {
     "name": "stdout",
     "output_type": "stream",
     "text": [
      "Epoch 58: D_real_loss=0.6936447096708864, D_fake_loss=0.6929238147248095, G_loss=0.6943814874457094, G_reg=0.9285064845586928, G_spreg=0.0, G_chreg=0.0\n",
      "Parameter containing:\n",
      "tensor([[[-3.2618e-03, -9.8018e-01,  9.7670e-01],\n",
      "         [ 2.4430e-01, -5.5194e-03, -2.4692e-01],\n",
      "         [-4.1640e-03,  1.1599e-02, -4.3628e-04]]], requires_grad=True)\n"
     ]
    },
    {
     "name": "stderr",
     "output_type": "stream",
     "text": [
      "\r",
      " 60%|██████    | 60/100 [01:47<01:10,  1.76s/it]"
     ]
    },
    {
     "name": "stdout",
     "output_type": "stream",
     "text": [
      "Epoch 59: D_real_loss=0.6931031940463251, D_fake_loss=0.6934933515783316, G_loss=0.6935536326310886, G_reg=0.927256708280347, G_spreg=0.0, G_chreg=0.0\n",
      "Parameter containing:\n",
      "tensor([[[ 5.1909e-03, -9.8710e-01,  9.9790e-01],\n",
      "         [ 2.4590e-01, -3.7845e-03, -2.5296e-01],\n",
      "         [-2.3804e-03, -2.3692e-04,  3.4000e-04]]], requires_grad=True)\n"
     ]
    },
    {
     "name": "stderr",
     "output_type": "stream",
     "text": [
      "\r",
      " 61%|██████    | 61/100 [01:49<01:08,  1.76s/it]"
     ]
    },
    {
     "name": "stdout",
     "output_type": "stream",
     "text": [
      "Epoch 60: D_real_loss=0.6929843583807778, D_fake_loss=0.6935778656325782, G_loss=0.6935509886985389, G_reg=0.9232696946174763, G_spreg=0.0, G_chreg=0.0\n",
      "Parameter containing:\n",
      "tensor([[[ 3.4096e-03, -9.9044e-01,  1.0118e+00],\n",
      "         [ 2.4970e-01, -8.8721e-03, -2.5659e-01],\n",
      "         [-3.7060e-03,  2.8269e-04, -4.9677e-04]]], requires_grad=True)\n"
     ]
    },
    {
     "name": "stderr",
     "output_type": "stream",
     "text": [
      "\r",
      " 62%|██████▏   | 62/100 [01:51<01:07,  1.77s/it]"
     ]
    },
    {
     "name": "stdout",
     "output_type": "stream",
     "text": [
      "Epoch 61: D_real_loss=0.6933186882600998, D_fake_loss=0.6933719397733767, G_loss=0.6938699089680997, G_reg=0.9238023117494089, G_spreg=0.0, G_chreg=0.0\n",
      "Parameter containing:\n",
      "tensor([[[-0.0024, -1.0131,  1.0193],\n",
      "         [ 0.2519,  0.0046, -0.2504],\n",
      "         [-0.0014, -0.0032, -0.0033]]], requires_grad=True)\n"
     ]
    },
    {
     "name": "stderr",
     "output_type": "stream",
     "text": [
      "\r",
      " 63%|██████▎   | 63/100 [01:52<01:04,  1.75s/it]"
     ]
    },
    {
     "name": "stdout",
     "output_type": "stream",
     "text": [
      "Epoch 62: D_real_loss=0.6932072127208161, D_fake_loss=0.6936427878495603, G_loss=0.6937473871456549, G_reg=0.9209722259674019, G_spreg=0.0, G_chreg=0.0\n",
      "Parameter containing:\n",
      "tensor([[[ 3.2962e-03, -1.0148e+00,  1.0438e+00],\n",
      "         [ 2.5656e-01,  1.0382e-03, -2.6286e-01],\n",
      "         [-6.3507e-03,  4.0827e-04,  2.4700e-03]]], requires_grad=True)\n"
     ]
    },
    {
     "name": "stderr",
     "output_type": "stream",
     "text": [
      "\r",
      " 64%|██████▍   | 64/100 [01:54<01:03,  1.75s/it]"
     ]
    },
    {
     "name": "stdout",
     "output_type": "stream",
     "text": [
      "Epoch 63: D_real_loss=0.6935101260011569, D_fake_loss=0.6931396785635537, G_loss=0.6940778543393071, G_reg=0.9186306983208694, G_spreg=0.0, G_chreg=0.0\n",
      "Parameter containing:\n",
      "tensor([[[-0.0020, -1.0189,  1.0551],\n",
      "         [ 0.2737, -0.0061, -0.2666],\n",
      "         [-0.0098, -0.0085,  0.0056]]], requires_grad=True)\n"
     ]
    },
    {
     "name": "stderr",
     "output_type": "stream",
     "text": [
      "\r",
      " 65%|██████▌   | 65/100 [01:56<01:01,  1.75s/it]"
     ]
    },
    {
     "name": "stdout",
     "output_type": "stream",
     "text": [
      "Epoch 64: D_real_loss=0.6930645007294969, D_fake_loss=0.693739858298256, G_loss=0.6934676309363149, G_reg=0.9179414550479228, G_spreg=0.0, G_chreg=0.0\n",
      "Parameter containing:\n",
      "tensor([[[ 4.2302e-03, -1.0454e+00,  1.0648e+00],\n",
      "         [ 2.5529e-01,  2.6982e-03, -2.6211e-01],\n",
      "         [ 6.5618e-04, -5.2859e-03,  9.0040e-04]]], requires_grad=True)\n"
     ]
    },
    {
     "name": "stderr",
     "output_type": "stream",
     "text": [
      "\r",
      " 66%|██████▌   | 66/100 [01:58<00:59,  1.76s/it]"
     ]
    },
    {
     "name": "stdout",
     "output_type": "stream",
     "text": [
      "Epoch 65: D_real_loss=0.6936513457816249, D_fake_loss=0.6930012030723377, G_loss=0.694213109846694, G_reg=0.9178515964041883, G_spreg=0.0, G_chreg=0.0\n",
      "Parameter containing:\n",
      "tensor([[[ 7.0571e-04, -1.0580e+00,  1.0787e+00],\n",
      "         [ 2.5978e-01,  2.7536e-03, -2.6319e-01],\n",
      "         [-3.1198e-04,  2.8496e-03, -7.0881e-03]]], requires_grad=True)\n"
     ]
    },
    {
     "name": "stderr",
     "output_type": "stream",
     "text": [
      "\r",
      " 67%|██████▋   | 67/100 [01:59<00:58,  1.76s/it]"
     ]
    },
    {
     "name": "stdout",
     "output_type": "stream",
     "text": [
      "Epoch 66: D_real_loss=0.6933098203077103, D_fake_loss=0.6938333532299858, G_loss=0.6937056875076538, G_reg=0.9148539162981815, G_spreg=0.0, G_chreg=0.0\n",
      "Parameter containing:\n",
      "tensor([[[ 1.0888e-03, -1.0791e+00,  1.0849e+00],\n",
      "         [ 2.6640e-01,  8.2525e-04, -2.7066e-01],\n",
      "         [-4.7506e-03,  9.3046e-03, -6.0610e-03]]], requires_grad=True)\n"
     ]
    },
    {
     "name": "stderr",
     "output_type": "stream",
     "text": [
      "\r",
      " 68%|██████▊   | 68/100 [02:01<00:55,  1.74s/it]"
     ]
    },
    {
     "name": "stdout",
     "output_type": "stream",
     "text": [
      "Epoch 67: D_real_loss=0.6932340264320374, D_fake_loss=0.6936293983230957, G_loss=0.693613347154075, G_reg=0.9130112945843047, G_spreg=0.0, G_chreg=0.0\n",
      "Parameter containing:\n",
      "tensor([[[ 0.0052, -1.0885,  1.1016],\n",
      "         [ 0.2747, -0.0020, -0.2804],\n",
      "         [-0.0022,  0.0144, -0.0040]]], requires_grad=True)\n"
     ]
    },
    {
     "name": "stderr",
     "output_type": "stream",
     "text": [
      "\r",
      " 69%|██████▉   | 69/100 [02:03<00:53,  1.73s/it]"
     ]
    },
    {
     "name": "stdout",
     "output_type": "stream",
     "text": [
      "Epoch 68: D_real_loss=0.6937446002000437, D_fake_loss=0.6930151802663225, G_loss=0.6941041677904586, G_reg=0.9118475430546858, G_spreg=0.0, G_chreg=0.0\n",
      "Parameter containing:\n",
      "tensor([[[-0.0029, -1.1275,  1.1026],\n",
      "         [ 0.2812,  0.0125, -0.2732],\n",
      "         [-0.0072,  0.0061, -0.0082]]], requires_grad=True)\n"
     ]
    },
    {
     "name": "stderr",
     "output_type": "stream",
     "text": [
      "\r",
      " 70%|███████   | 70/100 [02:05<00:52,  1.74s/it]"
     ]
    },
    {
     "name": "stdout",
     "output_type": "stream",
     "text": [
      "Epoch 69: D_real_loss=0.6932759757239979, D_fake_loss=0.6934287751825473, G_loss=0.6938604971471305, G_reg=0.9066529479770424, G_spreg=0.0, G_chreg=0.0\n",
      "Parameter containing:\n",
      "tensor([[[ 1.1135e-02, -1.1214e+00,  1.1424e+00],\n",
      "         [ 2.7672e-01,  6.6600e-04, -2.8855e-01],\n",
      "         [-3.1912e-03,  3.4753e-03, -9.8859e-03]]], requires_grad=True)\n"
     ]
    },
    {
     "name": "stderr",
     "output_type": "stream",
     "text": [
      "\r",
      " 71%|███████   | 71/100 [02:06<00:50,  1.76s/it]"
     ]
    },
    {
     "name": "stdout",
     "output_type": "stream",
     "text": [
      "Epoch 70: D_real_loss=0.6934272273660849, D_fake_loss=0.6930931033417821, G_loss=0.6939195815366678, G_reg=0.9076290025997656, G_spreg=0.0, G_chreg=0.0\n",
      "Parameter containing:\n",
      "tensor([[[ 0.0028, -1.1453,  1.1483],\n",
      "         [ 0.2856,  0.0092, -0.2903],\n",
      "         [-0.0044,  0.0045,  0.0017]]], requires_grad=True)\n"
     ]
    },
    {
     "name": "stderr",
     "output_type": "stream",
     "text": [
      "\r",
      " 72%|███████▏  | 72/100 [02:09<00:52,  1.87s/it]"
     ]
    },
    {
     "name": "stdout",
     "output_type": "stream",
     "text": [
      "Epoch 71: D_real_loss=0.6933334372675838, D_fake_loss=0.6935073396268363, G_loss=0.6938923064131326, G_reg=0.9033247873115654, G_spreg=0.0, G_chreg=0.0\n",
      "Parameter containing:\n",
      "tensor([[[ 0.0046, -1.1636,  1.1625],\n",
      "         [ 0.2918,  0.0119, -0.2920],\n",
      "         [-0.0027, -0.0014, -0.0025]]], requires_grad=True)\n"
     ]
    },
    {
     "name": "stderr",
     "output_type": "stream",
     "text": [
      "\r",
      " 73%|███████▎  | 73/100 [02:11<00:51,  1.91s/it]"
     ]
    },
    {
     "name": "stdout",
     "output_type": "stream",
     "text": [
      "Epoch 72: D_real_loss=0.6934179534165623, D_fake_loss=0.693095933515043, G_loss=0.694055068035857, G_reg=0.9007036043241763, G_spreg=0.0, G_chreg=0.0\n",
      "Parameter containing:\n",
      "tensor([[[ 8.7682e-04, -1.1758e+00,  1.1811e+00],\n",
      "         [ 2.9441e-01, -3.7709e-03, -2.9797e-01],\n",
      "         [-3.1353e-03,  1.4225e-02, -6.8472e-03]]], requires_grad=True)\n"
     ]
    },
    {
     "name": "stderr",
     "output_type": "stream",
     "text": [
      "\r",
      " 74%|███████▍  | 74/100 [02:13<00:51,  1.98s/it]"
     ]
    },
    {
     "name": "stdout",
     "output_type": "stream",
     "text": [
      "Epoch 73: D_real_loss=0.6934111590583485, D_fake_loss=0.6932737267436311, G_loss=0.6940369023301731, G_reg=0.8987349713929355, G_spreg=0.0, G_chreg=0.0\n",
      "Parameter containing:\n",
      "tensor([[[-0.0061, -1.1928,  1.1963],\n",
      "         [ 0.3035,  0.0074, -0.3050],\n",
      "         [-0.0080,  0.0118, -0.0023]]], requires_grad=True)\n"
     ]
    },
    {
     "name": "stderr",
     "output_type": "stream",
     "text": [
      "\r",
      " 75%|███████▌  | 75/100 [02:15<00:49,  1.96s/it]"
     ]
    },
    {
     "name": "stdout",
     "output_type": "stream",
     "text": [
      "Epoch 74: D_real_loss=0.6933104877654737, D_fake_loss=0.693635853715598, G_loss=0.6937598294724291, G_reg=0.8946128864995778, G_spreg=0.0, G_chreg=0.0\n",
      "Parameter containing:\n",
      "tensor([[[-1.6400e-02, -1.2223e+00,  1.1960e+00],\n",
      "         [ 3.0628e-01,  1.1059e-02, -3.0197e-01],\n",
      "         [ 6.7986e-03, -5.5912e-04, -3.2502e-03]]], requires_grad=True)\n"
     ]
    },
    {
     "name": "stderr",
     "output_type": "stream",
     "text": [
      "\r",
      " 76%|███████▌  | 76/100 [02:17<00:51,  2.13s/it]"
     ]
    },
    {
     "name": "stdout",
     "output_type": "stream",
     "text": [
      "Epoch 75: D_real_loss=0.6928683001393328, D_fake_loss=0.6936342710504135, G_loss=0.6935979523978675, G_reg=0.8967330039571078, G_spreg=0.0, G_chreg=0.0\n",
      "Parameter containing:\n",
      "tensor([[[ 7.4038e-04, -1.2235e+00,  1.2262e+00],\n",
      "         [ 3.0575e-01, -3.5231e-03, -3.1019e-01],\n",
      "         [-3.1664e-03, -2.2332e-03,  9.0871e-04]]], requires_grad=True)\n"
     ]
    },
    {
     "name": "stderr",
     "output_type": "stream",
     "text": [
      "\r",
      " 77%|███████▋  | 77/100 [02:19<00:46,  2.02s/it]"
     ]
    },
    {
     "name": "stdout",
     "output_type": "stream",
     "text": [
      "Epoch 76: D_real_loss=0.6931060285994801, D_fake_loss=0.6933847526772715, G_loss=0.6936606376315839, G_reg=0.893319273492494, G_spreg=0.0, G_chreg=0.0\n",
      "Parameter containing:\n",
      "tensor([[[ 8.2101e-03, -1.2445e+00,  1.2471e+00],\n",
      "         [ 3.0392e-01,  3.6916e-03, -3.1769e-01],\n",
      "         [ 6.1319e-03, -2.6638e-03, -9.6683e-04]]], requires_grad=True)\n"
     ]
    },
    {
     "name": "stderr",
     "output_type": "stream",
     "text": [
      "\r",
      " 78%|███████▊  | 78/100 [02:21<00:43,  1.97s/it]"
     ]
    },
    {
     "name": "stdout",
     "output_type": "stream",
     "text": [
      "Epoch 77: D_real_loss=0.6938811453005758, D_fake_loss=0.6930678562996105, G_loss=0.6941578997590672, G_reg=0.8881561666393814, G_spreg=0.0, G_chreg=0.0\n",
      "Parameter containing:\n",
      "tensor([[[-0.0056, -1.2657,  1.2512],\n",
      "         [ 0.3270,  0.0049, -0.3246],\n",
      "         [-0.0104,  0.0017,  0.0073]]], requires_grad=True)\n"
     ]
    },
    {
     "name": "stderr",
     "output_type": "stream",
     "text": [
      "\r",
      " 79%|███████▉  | 79/100 [02:23<00:42,  2.03s/it]"
     ]
    },
    {
     "name": "stdout",
     "output_type": "stream",
     "text": [
      "Epoch 78: D_real_loss=0.6929403606314248, D_fake_loss=0.6937009273245692, G_loss=0.6936474421534675, G_reg=0.8849033895439614, G_spreg=0.0, G_chreg=0.0\n",
      "Parameter containing:\n",
      "tensor([[[-0.0016, -1.2790,  1.2815],\n",
      "         [ 0.3160,  0.0030, -0.3221],\n",
      "         [-0.0096,  0.0017, -0.0025]]], requires_grad=True)\n"
     ]
    },
    {
     "name": "stderr",
     "output_type": "stream",
     "text": [
      "\r",
      " 80%|████████  | 80/100 [02:25<00:41,  2.09s/it]"
     ]
    },
    {
     "name": "stdout",
     "output_type": "stream",
     "text": [
      "Epoch 79: D_real_loss=0.6936314062188609, D_fake_loss=0.6930518076061821, G_loss=0.694095528163849, G_reg=0.8856378052347955, G_spreg=0.0, G_chreg=0.0\n",
      "Parameter containing:\n",
      "tensor([[[-1.3707e-03, -1.2989e+00,  1.3046e+00],\n",
      "         [ 3.1671e-01,  2.2479e-04, -3.2820e-01],\n",
      "         [ 1.3441e-02,  7.8311e-03, -5.0827e-03]]], requires_grad=True)\n"
     ]
    },
    {
     "name": "stderr",
     "output_type": "stream",
     "text": [
      "\r",
      " 81%|████████  | 81/100 [02:27<00:39,  2.10s/it]"
     ]
    },
    {
     "name": "stdout",
     "output_type": "stream",
     "text": [
      "Epoch 80: D_real_loss=0.693092843214163, D_fake_loss=0.6935102433061447, G_loss=0.6934559807990687, G_reg=0.8842395600705101, G_spreg=0.0, G_chreg=0.0\n",
      "Parameter containing:\n",
      "tensor([[[ 2.5645e-03, -1.3148e+00,  1.3213e+00],\n",
      "         [ 3.3154e-01, -2.8350e-03, -3.3861e-01],\n",
      "         [ 7.8185e-03,  3.9003e-03,  2.9064e-04]]], requires_grad=True)\n"
     ]
    },
    {
     "name": "stderr",
     "output_type": "stream",
     "text": [
      "\r",
      " 82%|████████▏ | 82/100 [02:30<00:40,  2.23s/it]"
     ]
    },
    {
     "name": "stdout",
     "output_type": "stream",
     "text": [
      "Epoch 81: D_real_loss=0.6933910540117624, D_fake_loss=0.6931828728879983, G_loss=0.6938976167489926, G_reg=0.8788077592159422, G_spreg=0.0, G_chreg=0.0\n",
      "Parameter containing:\n",
      "tensor([[[-0.0126, -1.3396,  1.3451],\n",
      "         [ 0.3290,  0.0107, -0.3305],\n",
      "         [ 0.0026,  0.0018, -0.0081]]], requires_grad=True)\n"
     ]
    },
    {
     "name": "stderr",
     "output_type": "stream",
     "text": [
      "\r",
      " 83%|████████▎ | 83/100 [02:32<00:39,  2.30s/it]"
     ]
    },
    {
     "name": "stdout",
     "output_type": "stream",
     "text": [
      "Epoch 82: D_real_loss=0.6938325189553891, D_fake_loss=0.6930760219455147, G_loss=0.6943058733361217, G_reg=0.8783248271019505, G_spreg=0.0, G_chreg=0.0\n",
      "Parameter containing:\n",
      "tensor([[[-4.4032e-04, -1.3588e+00,  1.3582e+00],\n",
      "         [ 3.3644e-01, -3.1272e-03, -3.4054e-01],\n",
      "         [-2.1073e-03,  1.7776e-04,  2.3522e-03]]], requires_grad=True)\n"
     ]
    },
    {
     "name": "stderr",
     "output_type": "stream",
     "text": [
      "\r",
      " 84%|████████▍ | 84/100 [02:34<00:36,  2.27s/it]"
     ]
    },
    {
     "name": "stdout",
     "output_type": "stream",
     "text": [
      "Epoch 83: D_real_loss=0.69311548460025, D_fake_loss=0.693387501917708, G_loss=0.6937555653599504, G_reg=0.8768781314428431, G_spreg=0.0, G_chreg=0.0\n",
      "Parameter containing:\n",
      "tensor([[[ 1.0162e-02, -1.3493e+00,  1.4013e+00],\n",
      "         [ 3.4835e-01, -4.3944e-04, -3.4075e-01],\n",
      "         [-4.9392e-03, -1.5867e-03, -6.8220e-03]]], requires_grad=True)\n"
     ]
    },
    {
     "name": "stderr",
     "output_type": "stream",
     "text": [
      "\r",
      " 85%|████████▌ | 85/100 [02:36<00:32,  2.19s/it]"
     ]
    },
    {
     "name": "stdout",
     "output_type": "stream",
     "text": [
      "Epoch 84: D_real_loss=0.6935166783226184, D_fake_loss=0.6936061452752866, G_loss=0.6938232015877867, G_reg=0.874480513332132, G_spreg=0.0, G_chreg=0.0\n",
      "Parameter containing:\n",
      "tensor([[[-7.7570e-03, -1.3895e+00,  1.4046e+00],\n",
      "         [ 3.6068e-01,  9.9030e-03, -3.4603e-01],\n",
      "         [-3.7261e-03,  1.5175e-04, -9.7198e-03]]], requires_grad=True)\n"
     ]
    },
    {
     "name": "stderr",
     "output_type": "stream",
     "text": [
      "\r",
      " 86%|████████▌ | 86/100 [02:39<00:30,  2.16s/it]"
     ]
    },
    {
     "name": "stdout",
     "output_type": "stream",
     "text": [
      "Epoch 85: D_real_loss=0.6934346208176293, D_fake_loss=0.6931358947159764, G_loss=0.6938890110189542, G_reg=0.8669051673477546, G_spreg=0.0, G_chreg=0.0\n",
      "Parameter containing:\n",
      "tensor([[[-0.0017, -1.4149,  1.4309],\n",
      "         [ 0.3633,  0.0059, -0.3591],\n",
      "         [ 0.0043,  0.0041, -0.0097]]], requires_grad=True)\n"
     ]
    },
    {
     "name": "stderr",
     "output_type": "stream",
     "text": [
      "\r",
      " 87%|████████▋ | 87/100 [02:40<00:26,  2.08s/it]"
     ]
    },
    {
     "name": "stdout",
     "output_type": "stream",
     "text": [
      "Epoch 86: D_real_loss=0.6930550858616448, D_fake_loss=0.6936590589654331, G_loss=0.6935806582910946, G_reg=0.8658962525105991, G_spreg=0.0, G_chreg=0.0\n",
      "Parameter containing:\n",
      "tensor([[[-0.0131, -1.4461,  1.4508],\n",
      "         [ 0.3580,  0.0046, -0.3743],\n",
      "         [-0.0120,  0.0158,  0.0040]]], requires_grad=True)\n"
     ]
    },
    {
     "name": "stderr",
     "output_type": "stream",
     "text": [
      "\r",
      " 88%|████████▊ | 88/100 [02:43<00:25,  2.09s/it]"
     ]
    },
    {
     "name": "stdout",
     "output_type": "stream",
     "text": [
      "Epoch 87: D_real_loss=0.6932882331430722, D_fake_loss=0.6933218147427129, G_loss=0.6938731514226896, G_reg=0.8588739239369718, G_spreg=0.0, G_chreg=0.0\n",
      "Parameter containing:\n",
      "tensor([[[-5.8551e-03, -1.4787e+00,  1.4593e+00],\n",
      "         [ 3.6923e-01, -2.0811e-03, -3.6995e-01],\n",
      "         [ 2.3296e-03,  3.0866e-03,  4.5729e-04]]], requires_grad=True)\n"
     ]
    },
    {
     "name": "stderr",
     "output_type": "stream",
     "text": [
      "\r",
      " 89%|████████▉ | 89/100 [02:45<00:23,  2.14s/it]"
     ]
    },
    {
     "name": "stdout",
     "output_type": "stream",
     "text": [
      "Epoch 88: D_real_loss=0.6933193581934554, D_fake_loss=0.6930662363101119, G_loss=0.6937727926257319, G_reg=0.8571283371089556, G_spreg=0.0, G_chreg=0.0\n",
      "Parameter containing:\n",
      "tensor([[[-0.0053, -1.5080,  1.4840],\n",
      "         [ 0.3706, -0.0020, -0.3723],\n",
      "         [-0.0028, -0.0084,  0.0089]]], requires_grad=True)\n"
     ]
    },
    {
     "name": "stderr",
     "output_type": "stream",
     "text": [
      "\r",
      " 90%|█████████ | 90/100 [02:47<00:22,  2.20s/it]"
     ]
    },
    {
     "name": "stdout",
     "output_type": "stream",
     "text": [
      "Epoch 89: D_real_loss=0.6932663289121926, D_fake_loss=0.6933715067351588, G_loss=0.6939865927726697, G_reg=0.8558581907528277, G_spreg=0.0, G_chreg=0.0\n",
      "Parameter containing:\n",
      "tensor([[[-0.0079, -1.5313,  1.5130],\n",
      "         [ 0.3719, -0.0037, -0.3764],\n",
      "         [-0.0022,  0.0044,  0.0042]]], requires_grad=True)\n"
     ]
    },
    {
     "name": "stderr",
     "output_type": "stream",
     "text": [
      "\r",
      " 91%|█████████ | 91/100 [02:49<00:19,  2.22s/it]"
     ]
    },
    {
     "name": "stdout",
     "output_type": "stream",
     "text": [
      "Epoch 90: D_real_loss=0.6933866613589156, D_fake_loss=0.6931514004929759, G_loss=0.6939451852545571, G_reg=0.8504796965113177, G_spreg=0.0, G_chreg=0.0\n",
      "Parameter containing:\n",
      "tensor([[[ 2.9203e-04, -1.5264e+00,  1.5585e+00],\n",
      "         [ 3.8222e-01,  6.6918e-03, -3.9458e-01],\n",
      "         [-1.0475e-04, -5.8950e-03, -3.6679e-03]]], requires_grad=True)\n"
     ]
    },
    {
     "name": "stderr",
     "output_type": "stream",
     "text": [
      "\r",
      " 92%|█████████▏| 92/100 [02:52<00:17,  2.20s/it]"
     ]
    },
    {
     "name": "stdout",
     "output_type": "stream",
     "text": [
      "Epoch 91: D_real_loss=0.6935493618535539, D_fake_loss=0.6932915190157418, G_loss=0.6939590340986038, G_reg=0.8470074374811908, G_spreg=0.0, G_chreg=0.0\n",
      "Parameter containing:\n",
      "tensor([[[-0.0118, -1.5547,  1.5781],\n",
      "         [ 0.4000,  0.0126, -0.3889],\n",
      "         [-0.0097, -0.0029, -0.0075]]], requires_grad=True)\n"
     ]
    },
    {
     "name": "stderr",
     "output_type": "stream",
     "text": [
      "\r",
      " 93%|█████████▎| 93/100 [02:54<00:15,  2.23s/it]"
     ]
    },
    {
     "name": "stdout",
     "output_type": "stream",
     "text": [
      "Epoch 92: D_real_loss=0.6935564113882022, D_fake_loss=0.6932417472330527, G_loss=0.6940004827496343, G_reg=0.8411722638593695, G_spreg=0.0, G_chreg=0.0\n",
      "Parameter containing:\n",
      "tensor([[[ 3.9772e-03, -1.5959e+00,  1.5866e+00],\n",
      "         [ 4.0407e-01, -5.2714e-03, -4.0490e-01],\n",
      "         [-1.5584e-03, -6.9329e-05, -8.9012e-04]]], requires_grad=True)\n"
     ]
    },
    {
     "name": "stderr",
     "output_type": "stream",
     "text": [
      "\r",
      " 94%|█████████▍| 94/100 [02:56<00:13,  2.17s/it]"
     ]
    },
    {
     "name": "stdout",
     "output_type": "stream",
     "text": [
      "Epoch 93: D_real_loss=0.693129574148038, D_fake_loss=0.693427398372382, G_loss=0.6936985016250001, G_reg=0.8400107930286433, G_spreg=0.0, G_chreg=0.0\n",
      "Parameter containing:\n",
      "tensor([[[-2.1288e-03, -1.6160e+00,  1.6183e+00],\n",
      "         [ 4.0119e-01, -8.4848e-03, -4.0479e-01],\n",
      "         [-3.5976e-04,  6.4019e-03, -8.1323e-04]]], requires_grad=True)\n"
     ]
    },
    {
     "name": "stderr",
     "output_type": "stream",
     "text": [
      "\r",
      " 95%|█████████▌| 95/100 [02:58<00:10,  2.13s/it]"
     ]
    },
    {
     "name": "stdout",
     "output_type": "stream",
     "text": [
      "Epoch 94: D_real_loss=0.6933071748517192, D_fake_loss=0.6934489009860224, G_loss=0.6940461909428192, G_reg=0.8317340901805855, G_spreg=0.0, G_chreg=0.0\n",
      "Parameter containing:\n",
      "tensor([[[ 1.0058e-02, -1.6400e+00,  1.6422e+00],\n",
      "         [ 4.0279e-01, -3.8223e-04, -4.0683e-01],\n",
      "         [ 2.1177e-03,  5.3868e-03, -7.9224e-03]]], requires_grad=True)\n"
     ]
    },
    {
     "name": "stderr",
     "output_type": "stream",
     "text": [
      "\r",
      " 96%|█████████▌| 96/100 [03:00<00:08,  2.06s/it]"
     ]
    },
    {
     "name": "stdout",
     "output_type": "stream",
     "text": [
      "Epoch 95: D_real_loss=0.693265724296387, D_fake_loss=0.6931645664544152, G_loss=0.6940292232333661, G_reg=0.832540983298478, G_spreg=0.0, G_chreg=0.0\n",
      "Parameter containing:\n",
      "tensor([[[-0.0026, -1.6586,  1.6595],\n",
      "         [ 0.4252,  0.0047, -0.4131],\n",
      "         [ 0.0022, -0.0073, -0.0020]]], requires_grad=True)\n"
     ]
    },
    {
     "name": "stderr",
     "output_type": "stream",
     "text": [
      "\r",
      " 97%|█████████▋| 97/100 [03:02<00:06,  2.06s/it]"
     ]
    },
    {
     "name": "stdout",
     "output_type": "stream",
     "text": [
      "Epoch 96: D_real_loss=0.6934584085933697, D_fake_loss=0.6931821454447299, G_loss=0.6941672790164765, G_reg=0.829618060723328, G_spreg=0.0, G_chreg=0.0\n",
      "Parameter containing:\n",
      "tensor([[[ 0.0073, -1.6784,  1.6755],\n",
      "         [ 0.4220, -0.0125, -0.4144],\n",
      "         [-0.0039,  0.0045,  0.0060]]], requires_grad=True)\n"
     ]
    },
    {
     "name": "stderr",
     "output_type": "stream",
     "text": [
      "\r",
      " 98%|█████████▊| 98/100 [03:04<00:04,  2.08s/it]"
     ]
    },
    {
     "name": "stdout",
     "output_type": "stream",
     "text": [
      "Epoch 97: D_real_loss=0.6935297222183154, D_fake_loss=0.6932575915949032, G_loss=0.6941241905712091, G_reg=0.8267832214768511, G_spreg=0.0, G_chreg=0.0\n",
      "Parameter containing:\n",
      "tensor([[[-0.0039, -1.7126,  1.6869],\n",
      "         [ 0.4346, -0.0021, -0.4216],\n",
      "         [ 0.0047,  0.0063,  0.0056]]], requires_grad=True)\n"
     ]
    },
    {
     "name": "stderr",
     "output_type": "stream",
     "text": [
      "\r",
      " 99%|█████████▉| 99/100 [03:06<00:02,  2.15s/it]"
     ]
    },
    {
     "name": "stdout",
     "output_type": "stream",
     "text": [
      "Epoch 98: D_real_loss=0.693302429141328, D_fake_loss=0.6931337866539391, G_loss=0.6940530285286827, G_reg=0.8215364071722038, G_spreg=0.0, G_chreg=0.0\n",
      "Parameter containing:\n",
      "tensor([[[-0.0131, -1.7262,  1.7270],\n",
      "         [ 0.4277,  0.0056, -0.4344],\n",
      "         [-0.0052,  0.0023,  0.0047]]], requires_grad=True)\n"
     ]
    },
    {
     "name": "stderr",
     "output_type": "stream",
     "text": [
      "100%|██████████| 100/100 [03:08<00:00,  1.89s/it]"
     ]
    },
    {
     "name": "stdout",
     "output_type": "stream",
     "text": [
      "Epoch 99: D_real_loss=0.6932926535987245, D_fake_loss=0.6932370072355667, G_loss=0.693949955720871, G_reg=0.819490282251812, G_spreg=0.0, G_chreg=0.0\n",
      "Parameter containing:\n",
      "tensor([[[ 0.0023, -1.7374,  1.7567],\n",
      "         [ 0.4394,  0.0079, -0.4332],\n",
      "         [ 0.0039, -0.0121, -0.0039]]], requires_grad=True)\n"
     ]
    },
    {
     "name": "stderr",
     "output_type": "stream",
     "text": [
      "\n"
     ]
    }
   ],
   "source": [
    "t1 = time.time()\n",
    "%run -i 'main_lagan.py' --task gaussian --y_type scalar --dataset_size 20000 --seed 28\n",
    "t2 = time.time()"
   ]
  },
  {
   "cell_type": "code",
   "execution_count": 273,
   "id": "f1ae41de",
   "metadata": {},
   "outputs": [
    {
     "data": {
      "text/plain": [
       "array([[ 0.0023, -1.7374,  1.7567],\n",
       "       [ 0.4394,  0.0079, -0.4332],\n",
       "       [ 0.0039, -0.0121, -0.0039]])"
      ]
     },
     "execution_count": 273,
     "metadata": {},
     "output_type": "execute_result"
    }
   ],
   "source": [
    "tra = np.array([[ 0.0023, -1.7374,  1.7567],\n",
    "         [ 0.4394,  0.0079, -0.4332],\n",
    "         [ 0.0039, -0.0121, -0.0039]])\n",
    "tra"
   ]
  },
  {
   "cell_type": "code",
   "execution_count": 274,
   "id": "2a24aca5",
   "metadata": {},
   "outputs": [
    {
     "data": {
      "text/plain": [
       "array([[ 1.7567,  0.0023, -1.7374, -0.4332,  0.4394,  0.0079]])"
      ]
     },
     "execution_count": 274,
     "metadata": {},
     "output_type": "execute_result"
    }
   ],
   "source": [
    "theirTime = t2-t1\n",
    "# form: np.array([0,{11}, {12}, 0, {21}, {22}])\n",
    "# order left to right: 20000, 200, 2000.\n",
    "#theirAns = np.array([0, -0.0181, -5.4573, 0, 1.3548, 0.0357]) #np.array([0, -0.4240, -0.5100, 0, 1.0705, -0.0711]) #np.array([[0,0.0014, -0.9999, 0, 0.2428, 0.0017]]) #writing their answer in our format.\n",
    "# now the moved one:\n",
    "# {13}, {11}, {12}, {23}, {21}, {22}\n",
    "theirAns = np.array([[tra[0][2],tra[0][0], tra[0][1], tra[1][2], tra[1][0], tra[1][1]]])\n",
    "theirAns"
   ]
  },
  {
   "cell_type": "code",
   "execution_count": 275,
   "id": "36be7ce5",
   "metadata": {},
   "outputs": [],
   "source": [
    "mean=[1,1]\n",
    "cov1 = np.array([[4,0],[0,1]])\n",
    "X1 = np.random.multivariate_normal(mean, cov1, size=SIZE)\n",
    "X1t = X1.transpose()\n",
    "y1 = [(X1[i][0]-mean[0])**2+4*(X1[i][1]-mean[1])**2 for i in range(X1.shape[0])]\n",
    "#plt.scatter(X1t[0],X1t[1],c=y1)"
   ]
  },
  {
   "cell_type": "code",
   "execution_count": 276,
   "id": "60239a27",
   "metadata": {},
   "outputs": [],
   "source": [
    "t5 = time.time()\n",
    "\n",
    "poly0 = PolynomialFeatures(2)\n",
    "B = poly0.fit_transform(X1) # we will try polynomial regression.\n",
    "resultf = OurMethod.regress(B,y1) # we can use regression instead of level set estimation.\n",
    "myF = OurMethod.invf(resultf[1], poly0, X1) #defines a class for evaluating the function, computing the jacobian.\n",
    "J = myF.Jacf(X1) # defines the Jacobian matrix at each point in the dataset.\n",
    "#Js = myF.JacfSym(X1)\n",
    "poly1 = PolynomialFeatures(1)\n",
    "B1 = poly1.fit_transform(X1)\n",
    "extB = OurMethod.getExtendedFeatureMatrix2(B1,J,2) # This makes JB*W into (JB)W: strictly matrix multiplication.\n",
    "ans = OurMethod.tryDimV(extB, 1, criterion=torch.nn.L1Loss(), optimizer=moptim.rAdagrad) # look for the \"best fit\" generator.\n",
    "\n",
    "t6 = time.time()\n",
    "ourTime = t6-t5"
   ]
  },
  {
   "cell_type": "code",
   "execution_count": 277,
   "id": "62cb5bcf",
   "metadata": {},
   "outputs": [
    {
     "data": {
      "text/plain": [
       "array([-6.8594754e-01, -2.0040333e-04,  6.8603456e-01,  1.7130658e-01,\n",
       "       -1.7171624e-01, -2.0441922e-04], dtype=float32)"
      ]
     },
     "execution_count": 277,
     "metadata": {},
     "output_type": "execute_result"
    }
   ],
   "source": [
    "ourAns = ans[1].detach().numpy().reshape(6,)\n",
    "ourAns"
   ]
  },
  {
   "cell_type": "code",
   "execution_count": 278,
   "id": "5659ea9e",
   "metadata": {},
   "outputs": [],
   "source": [
    "correctAns1 = np.array([0,0,-4,0,1,0])\n",
    "correctAns2 = np.array([4,0,-4,-1,1,0])"
   ]
  },
  {
   "cell_type": "code",
   "execution_count": 279,
   "id": "47ba2723",
   "metadata": {},
   "outputs": [],
   "source": [
    "def cosA(v1,v2):\n",
    "    term1 = np.dot(v1,v2)\n",
    "    term2 = np.linalg.norm(v1)*np.linalg.norm(v2)\n",
    "    term3 = np.abs(term1/term2)\n",
    "    return term3"
   ]
  },
  {
   "cell_type": "code",
   "execution_count": 280,
   "id": "d020700a",
   "metadata": {},
   "outputs": [
    {
     "name": "stdout",
     "output_type": "stream",
     "text": [
      "Their score is: [0.99997891]\n",
      "Their time is: 188.78194427490234\n",
      "Our score is: 0.9999999428126247\n",
      "Our time is: 3.923201322555542\n"
     ]
    }
   ],
   "source": [
    "print(\"Their score is: \" + str(cosA(theirAns,correctAns2)))\n",
    "print(\"Their time is: \" + str(theirTime))\n",
    "\n",
    "print(\"Our score is: \" + str(cosA(ourAns,correctAns2)))\n",
    "print(\"Our time is: \" + str(ourTime))"
   ]
  },
  {
   "cell_type": "code",
   "execution_count": 281,
   "id": "9a627ec2",
   "metadata": {},
   "outputs": [
    {
     "name": "stdout",
     "output_type": "stream",
     "text": [
      "177.27292\n",
      "6.934168984932512\n",
      "0.99997\n",
      "4.5825756949553354e-05\n",
      "3.89671\n",
      "0.08720982112124766\n",
      "0.9704200000000001\n",
      "0.07086429001972713\n"
     ]
    }
   ],
   "source": [
    "#stats for mean = (1,1) for N=20000\n",
    "\n",
    "#LieGAN stats.\n",
    "times = [171.4498, 167.5062, 171.4032, 172.5922, 176.4456, 179.2616, 174.8590, 181.6027, 188.8270, 188.7819]\n",
    "sims = [0.9999, 1.0000, 0.9999, 0.9999, 1.0000, 1.0000, 1.0000, 1.0000, 1.0000, 1.0000]\n",
    "\n",
    "#Our stats\n",
    "times2 = [3.9977, 3.7798, 3.9485, 3.7734, 4.0063, 3.7656, 3.9237, 3.9571, 3.8918, 3.9232]\n",
    "sims2 = [1.0000, 1.0000, 0.9998, 0.7648, 0.9396, 1.0000, 1.0000, 1.0000, 1.0000, 1.0000]\n",
    "\n",
    "print(np.mean(times))\n",
    "print(np.std(times))\n",
    "print(np.mean(sims))\n",
    "print(np.std(sims))\n",
    "\n",
    "print(np.mean(times2))\n",
    "print(np.std(times2))\n",
    "print(np.mean(sims2))\n",
    "print(np.std(sims2))"
   ]
  },
  {
   "cell_type": "code",
   "execution_count": null,
   "id": "53cb0b92",
   "metadata": {},
   "outputs": [],
   "source": []
  },
  {
   "cell_type": "code",
   "execution_count": 198,
   "id": "8e404793",
   "metadata": {},
   "outputs": [
    {
     "name": "stdout",
     "output_type": "stream",
     "text": [
      "1.94391\n",
      "0.06191953568947366\n",
      "0.5023799999999999\n",
      "0.27679999566473984\n",
      "1.2837600000000002\n",
      "0.07724496358986781\n",
      "0.98924\n",
      "0.03228000000000001\n"
     ]
    }
   ],
   "source": [
    "#stats for mean = (1,1) for N=200\n",
    "\n",
    "#LieGAN stats.\n",
    "times = [2.0360, 1.8594, 1.9974, 1.9148, 1.8489, 1.9401, 1.9281, 1.9071, 2.0284, 1.9789]\n",
    "sims = [0.4508, 0.1111, 0.3653, 0.9057, 0.8780, 0.3038, 0.5133, 0.8959, 0.2241, 0.3758]\n",
    "\n",
    "#Our stats\n",
    "times2 = [1.4995, 1.2624, 1.2513, 1.2464, 1.2354, 1.2427, 1.3277, 1.2757, 1.2193, 1.2772]\n",
    "sims2 = [1.0000, 1.0000, 1.0000, 1.0000, 0.8924, 1.0000, 1.0000, 1.0000, 1.0000, 1.0000]\n",
    "\n",
    "print(np.mean(times))\n",
    "print(np.std(times))\n",
    "print(np.mean(sims))\n",
    "print(np.std(sims))\n",
    "\n",
    "print(np.mean(times2))\n",
    "print(np.std(times2))\n",
    "print(np.mean(sims2))\n",
    "print(np.std(sims2))"
   ]
  },
  {
   "cell_type": "code",
   "execution_count": null,
   "id": "24f8c746",
   "metadata": {},
   "outputs": [],
   "source": []
  },
  {
   "cell_type": "code",
   "execution_count": null,
   "id": "bfcf9957",
   "metadata": {},
   "outputs": [],
   "source": []
  },
  {
   "cell_type": "code",
   "execution_count": 85,
   "id": "e345e55e",
   "metadata": {},
   "outputs": [
    {
     "name": "stdout",
     "output_type": "stream",
     "text": [
      "15.446410000000004\n",
      "1.0006067523757773\n",
      "0.9982300000000002\n",
      "0.002092390976849225\n",
      "1.6907299999999998\n",
      "0.11252274481188237\n",
      "0.97231\n",
      "0.08307\n"
     ]
    }
   ],
   "source": [
    "#stats for mean = (1,1) for N=2000\n",
    "\n",
    "#LieGAN stats.\n",
    "times = [14.8000, 14.3455, 14.3047, 15.0260, 14.3827, 15.7781, 15.6912, 17.0557, 15.9840, 17.0962]\n",
    "sims = [0.9996, 0.9928, 0.9979, 0.9999, 0.9963, 0.9985, 0.9985, 0.9995, 0.9996, 0.9997]\n",
    "\n",
    "#Our stats\n",
    "times2 = [1.8656, 1.9331, 1.6151, 1.6375, 1.6539, 1.5884, 1.5734, 1.6381, 1.7100, 1.6922]\n",
    "sims2 = [1.0000, 1.0000, 1.0000, 1.0000, 1.0000, 1.0000, 0.7231, 1.0000, 1.0000, 1.0000]\n",
    "\n",
    "print(np.mean(times))\n",
    "print(np.std(times))\n",
    "print(np.mean(sims))\n",
    "print(np.std(sims))\n",
    "\n",
    "print(np.mean(times2))\n",
    "print(np.std(times2))\n",
    "print(np.mean(sims2))\n",
    "print(np.std(sims2))"
   ]
  },
  {
   "cell_type": "code",
   "execution_count": 12,
   "id": "619c029a",
   "metadata": {},
   "outputs": [
    {
     "data": {
      "text/plain": [
       "0.19558908996238888"
      ]
     },
     "execution_count": 12,
     "metadata": {},
     "output_type": "execute_result"
    }
   ],
   "source": [
    "cosA(np.array([-0.0869,-0.0244,0.1371,0.2666,-0.4993,-0.4303,0.0841,0.1345,0.0377]),np.array([0,1,0,-1,0,0,0,0,1]))"
   ]
  },
  {
   "cell_type": "code",
   "execution_count": 13,
   "id": "5d13a445",
   "metadata": {},
   "outputs": [
    {
     "data": {
      "text/plain": [
       "0.999999990115248"
      ]
     },
     "execution_count": 13,
     "metadata": {},
     "output_type": "execute_result"
    }
   ],
   "source": [
    "cosA(np.array([-6.6098e-05,-6.9189e-05,-1.4976e-07,-1.0,-6.7851e-05,-7.7522e-05]),np.array([0,0,0,1,0,0]))"
   ]
  },
  {
   "cell_type": "code",
   "execution_count": 14,
   "id": "61968c2d",
   "metadata": {},
   "outputs": [
    {
     "data": {
      "text/plain": [
       "0.9979336020210325"
      ]
     },
     "execution_count": 14,
     "metadata": {},
     "output_type": "execute_result"
    }
   ],
   "source": [
    "cosA(np.array([np.cos(0.8333),np.sin(0.8333),-np.sin(0.8333),np.cos(0.8333)]),np.array([np.cos(2*np.pi/7),np.sin(2*np.pi/7),-np.sin(2*np.pi/7),np.cos(2*np.pi/7)]))"
   ]
  },
  {
   "cell_type": "code",
   "execution_count": 15,
   "id": "86a35262",
   "metadata": {},
   "outputs": [
    {
     "data": {
      "text/plain": [
       "0.9999999208373879"
      ]
     },
     "execution_count": 15,
     "metadata": {},
     "output_type": "execute_result"
    }
   ],
   "source": [
    "cosA(np.array([np.cos(0.8972),np.sin(0.8972),-np.sin(0.8972),np.cos(0.8972)]),np.array([np.cos(2*np.pi/7),np.sin(2*np.pi/7),-np.sin(2*np.pi/7),np.cos(2*np.pi/7)]))"
   ]
  }
 ],
 "metadata": {
  "kernelspec": {
   "display_name": "Python 3 (ipykernel)",
   "language": "python",
   "name": "python3"
  },
  "language_info": {
   "codemirror_mode": {
    "name": "ipython",
    "version": 3
   },
   "file_extension": ".py",
   "mimetype": "text/x-python",
   "name": "python",
   "nbconvert_exporter": "python",
   "pygments_lexer": "ipython3",
   "version": "3.8.8"
  }
 },
 "nbformat": 4,
 "nbformat_minor": 5
}
