{
 "cells": [
  {
   "cell_type": "code",
   "execution_count": 1,
   "id": "fa7a709b",
   "metadata": {},
   "outputs": [],
   "source": [
    "import numpy as np\n",
    "import pandas as pd\n",
    "import matplotlib.pyplot as plt\n",
    "\n",
    "from sktime.transformations.panel.rocket import MultiRocketMultivariate\n",
    "#from sktime.transformations.panel.rocket import Rocket #MiniRocketMultivariate\n",
    "import phate"
   ]
  },
  {
   "cell_type": "code",
   "execution_count": 2,
   "id": "b205120f",
   "metadata": {},
   "outputs": [],
   "source": [
    "df = pd.read_csv(\"Daily.csv\")"
   ]
  },
  {
   "cell_type": "code",
   "execution_count": 3,
   "id": "4b4f1ca2",
   "metadata": {},
   "outputs": [
    {
     "data": {
      "text/html": [
       "<div>\n",
       "<style scoped>\n",
       "    .dataframe tbody tr th:only-of-type {\n",
       "        vertical-align: middle;\n",
       "    }\n",
       "\n",
       "    .dataframe tbody tr th {\n",
       "        vertical-align: top;\n",
       "    }\n",
       "\n",
       "    .dataframe thead th {\n",
       "        text-align: right;\n",
       "    }\n",
       "</style>\n",
       "<table border=\"1\" class=\"dataframe\">\n",
       "  <thead>\n",
       "    <tr style=\"text-align: right;\">\n",
       "      <th></th>\n",
       "      <th>date</th>\n",
       "      <th>Elevation</th>\n",
       "      <th>ppt_1</th>\n",
       "      <th>ppt_2</th>\n",
       "      <th>ppt_3</th>\n",
       "      <th>ppt_4</th>\n",
       "      <th>ppt_5</th>\n",
       "      <th>ppt_6</th>\n",
       "      <th>ppt_7</th>\n",
       "      <th>ppt_8</th>\n",
       "      <th>...</th>\n",
       "      <th>swe_11</th>\n",
       "      <th>swe_12</th>\n",
       "      <th>swe_13</th>\n",
       "      <th>swe_14</th>\n",
       "      <th>swe_15</th>\n",
       "      <th>swe_16</th>\n",
       "      <th>swe_17</th>\n",
       "      <th>swe_18</th>\n",
       "      <th>swe_19</th>\n",
       "      <th>swe_20</th>\n",
       "    </tr>\n",
       "  </thead>\n",
       "  <tbody>\n",
       "    <tr>\n",
       "      <th>0</th>\n",
       "      <td>1981-10-01</td>\n",
       "      <td>5915.90</td>\n",
       "      <td>0.000000</td>\n",
       "      <td>0.000000</td>\n",
       "      <td>0.000000</td>\n",
       "      <td>0.000000</td>\n",
       "      <td>0.0000</td>\n",
       "      <td>0.000000</td>\n",
       "      <td>0.000000</td>\n",
       "      <td>0.000000</td>\n",
       "      <td>...</td>\n",
       "      <td>0.000000</td>\n",
       "      <td>0.000000</td>\n",
       "      <td>0.000000</td>\n",
       "      <td>0.0</td>\n",
       "      <td>0.000000</td>\n",
       "      <td>0.00000</td>\n",
       "      <td>0.0</td>\n",
       "      <td>0.000000</td>\n",
       "      <td>0.0</td>\n",
       "      <td>0.000000</td>\n",
       "    </tr>\n",
       "    <tr>\n",
       "      <th>1</th>\n",
       "      <td>1981-10-02</td>\n",
       "      <td>5915.90</td>\n",
       "      <td>0.000000</td>\n",
       "      <td>0.000000</td>\n",
       "      <td>0.000000</td>\n",
       "      <td>0.000000</td>\n",
       "      <td>0.0000</td>\n",
       "      <td>0.000000</td>\n",
       "      <td>0.000000</td>\n",
       "      <td>0.000000</td>\n",
       "      <td>...</td>\n",
       "      <td>0.000000</td>\n",
       "      <td>0.000000</td>\n",
       "      <td>0.000000</td>\n",
       "      <td>0.0</td>\n",
       "      <td>0.000000</td>\n",
       "      <td>0.00000</td>\n",
       "      <td>0.0</td>\n",
       "      <td>0.000000</td>\n",
       "      <td>0.0</td>\n",
       "      <td>0.000000</td>\n",
       "    </tr>\n",
       "    <tr>\n",
       "      <th>2</th>\n",
       "      <td>1981-10-03</td>\n",
       "      <td>5915.89</td>\n",
       "      <td>1.713867</td>\n",
       "      <td>2.747555</td>\n",
       "      <td>1.328050</td>\n",
       "      <td>3.702035</td>\n",
       "      <td>1.0892</td>\n",
       "      <td>1.552648</td>\n",
       "      <td>0.974444</td>\n",
       "      <td>3.618103</td>\n",
       "      <td>...</td>\n",
       "      <td>0.000000</td>\n",
       "      <td>0.000000</td>\n",
       "      <td>0.000000</td>\n",
       "      <td>0.0</td>\n",
       "      <td>0.000000</td>\n",
       "      <td>0.00000</td>\n",
       "      <td>0.0</td>\n",
       "      <td>0.000000</td>\n",
       "      <td>0.0</td>\n",
       "      <td>0.000000</td>\n",
       "    </tr>\n",
       "    <tr>\n",
       "      <th>3</th>\n",
       "      <td>1981-10-04</td>\n",
       "      <td>5915.87</td>\n",
       "      <td>4.569200</td>\n",
       "      <td>15.778116</td>\n",
       "      <td>12.808029</td>\n",
       "      <td>8.325070</td>\n",
       "      <td>16.1904</td>\n",
       "      <td>19.782738</td>\n",
       "      <td>23.672754</td>\n",
       "      <td>20.649353</td>\n",
       "      <td>...</td>\n",
       "      <td>0.000000</td>\n",
       "      <td>0.000000</td>\n",
       "      <td>0.000000</td>\n",
       "      <td>0.0</td>\n",
       "      <td>0.000000</td>\n",
       "      <td>0.00000</td>\n",
       "      <td>0.0</td>\n",
       "      <td>0.000000</td>\n",
       "      <td>0.0</td>\n",
       "      <td>0.042553</td>\n",
       "    </tr>\n",
       "    <tr>\n",
       "      <th>4</th>\n",
       "      <td>1981-10-05</td>\n",
       "      <td>5915.85</td>\n",
       "      <td>2.892400</td>\n",
       "      <td>2.783347</td>\n",
       "      <td>3.057028</td>\n",
       "      <td>2.423404</td>\n",
       "      <td>4.8203</td>\n",
       "      <td>5.012449</td>\n",
       "      <td>5.178000</td>\n",
       "      <td>5.398532</td>\n",
       "      <td>...</td>\n",
       "      <td>0.043269</td>\n",
       "      <td>0.373494</td>\n",
       "      <td>1.333333</td>\n",
       "      <td>0.0</td>\n",
       "      <td>0.196078</td>\n",
       "      <td>0.17561</td>\n",
       "      <td>0.0</td>\n",
       "      <td>0.118519</td>\n",
       "      <td>0.0</td>\n",
       "      <td>0.191489</td>\n",
       "    </tr>\n",
       "  </tbody>\n",
       "</table>\n",
       "<p>5 rows × 82 columns</p>\n",
       "</div>"
      ],
      "text/plain": [
       "         date  Elevation     ppt_1      ppt_2      ppt_3     ppt_4    ppt_5  \\\n",
       "0  1981-10-01    5915.90  0.000000   0.000000   0.000000  0.000000   0.0000   \n",
       "1  1981-10-02    5915.90  0.000000   0.000000   0.000000  0.000000   0.0000   \n",
       "2  1981-10-03    5915.89  1.713867   2.747555   1.328050  3.702035   1.0892   \n",
       "3  1981-10-04    5915.87  4.569200  15.778116  12.808029  8.325070  16.1904   \n",
       "4  1981-10-05    5915.85  2.892400   2.783347   3.057028  2.423404   4.8203   \n",
       "\n",
       "       ppt_6      ppt_7      ppt_8  ...    swe_11    swe_12    swe_13  swe_14  \\\n",
       "0   0.000000   0.000000   0.000000  ...  0.000000  0.000000  0.000000     0.0   \n",
       "1   0.000000   0.000000   0.000000  ...  0.000000  0.000000  0.000000     0.0   \n",
       "2   1.552648   0.974444   3.618103  ...  0.000000  0.000000  0.000000     0.0   \n",
       "3  19.782738  23.672754  20.649353  ...  0.000000  0.000000  0.000000     0.0   \n",
       "4   5.012449   5.178000   5.398532  ...  0.043269  0.373494  1.333333     0.0   \n",
       "\n",
       "     swe_15   swe_16  swe_17    swe_18  swe_19    swe_20  \n",
       "0  0.000000  0.00000     0.0  0.000000     0.0  0.000000  \n",
       "1  0.000000  0.00000     0.0  0.000000     0.0  0.000000  \n",
       "2  0.000000  0.00000     0.0  0.000000     0.0  0.000000  \n",
       "3  0.000000  0.00000     0.0  0.000000     0.0  0.042553  \n",
       "4  0.196078  0.17561     0.0  0.118519     0.0  0.191489  \n",
       "\n",
       "[5 rows x 82 columns]"
      ]
     },
     "execution_count": 3,
     "metadata": {},
     "output_type": "execute_result"
    }
   ],
   "source": [
    "df.head()"
   ]
  },
  {
   "cell_type": "code",
   "execution_count": 4,
   "id": "f05366d1",
   "metadata": {},
   "outputs": [],
   "source": [
    "df2 = df[df.columns[1:]].interpolate()"
   ]
  },
  {
   "cell_type": "code",
   "execution_count": 5,
   "id": "65b465f1-fad0-4100-aad9-4638d6de381c",
   "metadata": {},
   "outputs": [],
   "source": [
    "df2 = (df2-df2.mean())/(df2.std())"
   ]
  },
  {
   "cell_type": "code",
   "execution_count": 6,
   "id": "15f939ba",
   "metadata": {},
   "outputs": [
    {
     "data": {
      "text/plain": [
       "(14610, 81)"
      ]
     },
     "execution_count": 6,
     "metadata": {},
     "output_type": "execute_result"
    }
   ],
   "source": [
    "df2.shape"
   ]
  },
  {
   "cell_type": "markdown",
   "id": "d1d47796",
   "metadata": {},
   "source": [
    "## Sliding Window approach"
   ]
  },
  {
   "cell_type": "code",
   "execution_count": 7,
   "id": "a31f5210",
   "metadata": {},
   "outputs": [],
   "source": [
    "data = []\n",
    "StartDay = 0\n",
    "EndDay = 4*365+1\n",
    "for i in range(df2.shape[0]-EndDay):\n",
    "    if i%4==2:\n",
    "        days=366 #leap year\n",
    "    else:\n",
    "        days=365\n",
    "        \n",
    "    newwindow = df2[StartDay:EndDay].to_numpy()\n",
    "    data.extend([newwindow])\n",
    "    \n",
    "    StartDay += 1 #days\n",
    "    EndDay += 1 #days"
   ]
  },
  {
   "cell_type": "code",
   "execution_count": 8,
   "id": "db89df1a",
   "metadata": {},
   "outputs": [
    {
     "data": {
      "text/plain": [
       "13149"
      ]
     },
     "execution_count": 8,
     "metadata": {},
     "output_type": "execute_result"
    }
   ],
   "source": [
    "len(data)"
   ]
  },
  {
   "cell_type": "code",
   "execution_count": 9,
   "id": "a7fc7aa5",
   "metadata": {},
   "outputs": [],
   "source": [
    "Data = np.array(data)"
   ]
  },
  {
   "cell_type": "code",
   "execution_count": 10,
   "id": "40e488c3",
   "metadata": {},
   "outputs": [
    {
     "data": {
      "text/plain": [
       "(13149, 1461, 81)"
      ]
     },
     "execution_count": 10,
     "metadata": {},
     "output_type": "execute_result"
    }
   ],
   "source": [
    "Data.shape"
   ]
  },
  {
   "cell_type": "code",
   "execution_count": 11,
   "id": "f6a2253b",
   "metadata": {},
   "outputs": [],
   "source": [
    "Rtransform = MultiRocketMultivariate(num_kernels=168, random_state=0, n_jobs=24)"
   ]
  },
  {
   "cell_type": "code",
   "execution_count": 12,
   "id": "bdbc7bec-9a29-49c6-822a-6eac22b30008",
   "metadata": {},
   "outputs": [],
   "source": [
    "X_trans = Rtransform.fit_transform(Data)"
   ]
  },
  {
   "cell_type": "code",
   "execution_count": 13,
   "id": "a7cb77a2-c793-442b-8b06-137a511525a2",
   "metadata": {},
   "outputs": [
    {
     "data": {
      "text/plain": [
       "(13149, 1344)"
      ]
     },
     "execution_count": 13,
     "metadata": {},
     "output_type": "execute_result"
    }
   ],
   "source": [
    "X_trans.shape"
   ]
  },
  {
   "cell_type": "code",
   "execution_count": 14,
   "id": "fe4c3dea-79a8-4082-99e5-552e5b79d909",
   "metadata": {},
   "outputs": [],
   "source": [
    "Xtrans = pd.DataFrame(data=X_trans)"
   ]
  },
  {
   "cell_type": "code",
   "execution_count": 15,
   "id": "73ce1034-522a-43e9-a56e-9b189544dff5",
   "metadata": {},
   "outputs": [],
   "source": [
    "Xtrans.to_csv(\"MRM_Transformed_Daily.csv\", index=False, header=False)"
   ]
  },
  {
   "cell_type": "code",
   "execution_count": 16,
   "id": "50fa2950-2187-4c39-bf8a-195bd971097f",
   "metadata": {},
   "outputs": [],
   "source": [
    "pha = phate.PHATE(n_components=2, random_state=0)"
   ]
  },
  {
   "cell_type": "code",
   "execution_count": 17,
   "id": "38a28d0c-62ac-4c42-afdf-16da78d90bb2",
   "metadata": {},
   "outputs": [
    {
     "name": "stdout",
     "output_type": "stream",
     "text": [
      "Calculating PHATE...\n",
      "  Running PHATE on 13149 observations and 1344 variables.\n",
      "  Calculating graph and diffusion operator...\n",
      "    Calculating PCA...\n",
      "    Calculated PCA in 1.15 seconds.\n",
      "    Calculating KNN search...\n",
      "    Calculated KNN search in 25.19 seconds.\n",
      "    Calculating affinities...\n",
      "    Calculated affinities in 0.27 seconds.\n",
      "  Calculated graph and diffusion operator in 26.67 seconds.\n",
      "  Calculating landmark operator...\n",
      "    Calculating SVD...\n",
      "    Calculated SVD in 1.09 seconds.\n",
      "    Calculating KMeans...\n",
      "    Calculated KMeans in 5.36 seconds.\n",
      "  Calculated landmark operator in 8.46 seconds.\n",
      "  Calculating optimal t...\n",
      "    Automatically selected t = 32\n",
      "  Calculated optimal t in 2.71 seconds.\n",
      "  Calculating diffusion potential...\n",
      "  Calculated diffusion potential in 1.32 seconds.\n",
      "  Calculating metric MDS...\n",
      "  Calculated metric MDS in 8.53 seconds.\n",
      "Calculated PHATE in 47.70 seconds.\n"
     ]
    }
   ],
   "source": [
    "X_phate = pha.fit_transform(X_trans)"
   ]
  },
  {
   "cell_type": "code",
   "execution_count": 18,
   "id": "0e0f83ed-2cd6-495d-bd02-5c2f8b7ddb4d",
   "metadata": {},
   "outputs": [],
   "source": [
    "Xphate = pd.DataFrame(data=X_phate)"
   ]
  },
  {
   "cell_type": "code",
   "execution_count": 19,
   "id": "7ea9e039-9b98-4090-be51-ad31c000dd27",
   "metadata": {},
   "outputs": [],
   "source": [
    "Xphate.to_csv(\"PHATE_Transformed_Daily.csv\", index=False, header=False)"
   ]
  },
  {
   "cell_type": "code",
   "execution_count": 20,
   "id": "ba8deae2-0c2d-4241-9f3f-58a540a6a6b5",
   "metadata": {},
   "outputs": [
    {
     "data": {
      "text/plain": [
       "<matplotlib.collections.PathCollection at 0x7ff89d26de90>"
      ]
     },
     "execution_count": 20,
     "metadata": {},
     "output_type": "execute_result"
    },
    {
     "data": {
      "image/png": "[encoded data removed]",
      "text/plain": [
       "<Figure size 640x480 with 1 Axes>"
      ]
     },
     "metadata": {},
     "output_type": "display_data"
    }
   ],
   "source": [
    "plt.scatter(X_phate.transpose()[0], X_phate.transpose()[1], s=5.0)"
   ]
  },
  {
   "cell_type": "code",
   "execution_count": null,
   "id": "53110ee4-385c-4981-a68b-c5a3d0965dc0",
   "metadata": {},
   "outputs": [],
   "source": []
  }
 ],
 "metadata": {
  "kernelspec": {
   "display_name": "Python 3 (ipykernel)",
   "language": "python",
   "name": "python3"
  },
  "language_info": {
   "codemirror_mode": {
    "name": "ipython",
    "version": 3
   },
   "file_extension": ".py",
   "mimetype": "text/x-python",
   "name": "python",
   "nbconvert_exporter": "python",
   "pygments_lexer": "ipython3",
   "version": "3.8.8"
  }
 },
 "nbformat": 4,
 "nbformat_minor": 5
}
