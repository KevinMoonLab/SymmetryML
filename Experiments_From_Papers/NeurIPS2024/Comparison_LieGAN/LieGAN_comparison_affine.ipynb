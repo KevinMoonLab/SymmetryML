{
 "cells": [
  {
   "cell_type": "code",
   "execution_count": 1,
   "id": "a898abb6",
   "metadata": {},
   "outputs": [],
   "source": [
    "import numpy as np\n",
    "import matplotlib.pyplot as plt\n",
    "import random\n",
    "import torch\n",
    "import mctorch.nn as mnn\n",
    "import mctorch.optim as moptim\n",
    "import time\n",
    "from sklearn.preprocessing import PolynomialFeatures\n",
    "from scipy import integrate\n",
    "from scipy.stats import iqr\n",
    "import sys\n",
    "\n",
    "import warnings\n",
    "warnings.filterwarnings('ignore')"
   ]
  },
  {
   "cell_type": "code",
   "execution_count": 2,
   "id": "980297aa-e037-49b7-9627-35b781bc2a8c",
   "metadata": {},
   "outputs": [],
   "source": [
    "sys.path.append(\"../../NeurIPS2024\")"
   ]
  },
  {
   "cell_type": "code",
   "execution_count": 3,
   "id": "1c4e48f5-77f1-4168-86fc-2d3e3f963bab",
   "metadata": {},
   "outputs": [],
   "source": [
    "import OurMethod"
   ]
  },
  {
   "cell_type": "code",
   "execution_count": 4,
   "id": "5659ea9e",
   "metadata": {},
   "outputs": [],
   "source": [
    "#correctAns = np.array([0,0,-4,0,1,0])\n",
    "correctAns = np.array([4,0,-4,-1,1,0])"
   ]
  },
  {
   "cell_type": "code",
   "execution_count": 5,
   "id": "1675667b-9929-4976-83f4-b61acf0a0fee",
   "metadata": {},
   "outputs": [],
   "source": [
    "def getFunc(ans1, ans2, x,y):\n",
    "    Ans1 = ans1.reshape(ans1.shape[0]//2,2).transpose()\n",
    "    Ans2 = ans2.reshape(ans2.shape[0]//2,2).transpose()\n",
    "    featMat = np.array([1,x,y])\n",
    "    s1 = Ans1 @ featMat #featMat @ Ans\n",
    "    #print(s1.shape)\n",
    "    s2 = Ans2 @ featMat #featMat @ CorAns\n",
    "    #print(s2.shape)\n",
    "    term = np.dot(s1,s2)\n",
    "    #print(term)\n",
    "    return term"
   ]
  },
  {
   "cell_type": "code",
   "execution_count": 6,
   "id": "21b76727-056e-45de-9be3-a1ec9e6dbb6b",
   "metadata": {},
   "outputs": [],
   "source": [
    "def run(sizes=[200,2000,20000], num_runs=10):\n",
    "    OurTimes = []\n",
    "    OurSims = []\n",
    "    for SIZE in sizes:\n",
    "        ourtimes = []\n",
    "        oursims = []\n",
    "        mean=[1,1]\n",
    "        cov1 = np.array([[4,0],[0,1]])\n",
    "        X1 = np.random.multivariate_normal(mean, cov1, size=SIZE)\n",
    "        X1t = X1.transpose()\n",
    "        y1 = [(X1[i][0]-mean[0])**2+4*(X1[i][1]-mean[1])**2 for i in range(X1.shape[0])]\n",
    "\n",
    "        Xmin = min(X1[0])\n",
    "        Xmax = max(X1[0])\n",
    "        Ymin = min(X1[1])\n",
    "        Ymax = max(X1[1])\n",
    "\n",
    "        for i in range(num_runs):\n",
    "        \n",
    "            t5 = time.time()\n",
    "            \n",
    "            poly0 = PolynomialFeatures(2)\n",
    "            B = poly0.fit_transform(X1) # we will try polynomial regression.\n",
    "            resultf = OurMethod.regress(B,y1) # we can use regression instead of level set estimation.\n",
    "            myF = OurMethod.invf(resultf[1], poly0, X1) #defines a class for evaluating the function, computing the jacobian.\n",
    "            J = myF.Jacf(X1) # defines the Jacobian matrix at each point in the dataset.\n",
    "            #Js = myF.JacfSym(X1)\n",
    "            poly1 = PolynomialFeatures(1)\n",
    "            B1 = poly1.fit_transform(X1)\n",
    "            extB = OurMethod.getExtendedFeatureMatrix2(B1,J,2) # This makes JB*W into (JB)W: strictly matrix multiplication.\n",
    "            ans = OurMethod.tryDimV(extB, 1, criterion=torch.nn.L1Loss(), optimizer=moptim.rAdagrad) # look for the \"best fit\" generator.\n",
    "            ourAns = ans[1].detach().numpy().reshape(6,)\n",
    "            t6 = time.time()\n",
    "            ourTime = t6-t5\n",
    "        \n",
    "            def FuncNumer(x,y):\n",
    "                term = getFunc(ourAns,correctAns,x,y)\n",
    "                return term\n",
    "\n",
    "            def FuncDenom1(x,y):\n",
    "                term = getFunc(ourAns,ourAns,x,y)\n",
    "                return term\n",
    "\n",
    "            def FuncDenom2(x,y):\n",
    "                term = getFunc(correctAns,correctAns,x,y)\n",
    "                return term\n",
    "        \n",
    "        \n",
    "            ranges = [[Xmin,Xmax],[Ymin,Ymax]]\n",
    "            numer = np.abs(integrate.nquad(FuncNumer,ranges)[0])\n",
    "            denom = np.sqrt(integrate.nquad(FuncDenom1,ranges)[0] * integrate.nquad(FuncDenom2,ranges)[0])\n",
    "            ourSim = numer/denom\n",
    "            \n",
    "            ourtimes.extend([ourTime])\n",
    "            oursims.extend([ourSim])\n",
    "\n",
    "        OurTimes.extend([ourtimes])\n",
    "        OurSims.extend([oursims])\n",
    "\n",
    "    return np.array([OurTimes, OurSims])"
   ]
  },
  {
   "cell_type": "code",
   "execution_count": 7,
   "id": "1b4877c2-5636-4852-8010-b598e94da04e",
   "metadata": {},
   "outputs": [],
   "source": [
    "testrun = run()"
   ]
  },
  {
   "cell_type": "code",
   "execution_count": 8,
   "id": "0fd4a02e-b90f-49e3-b561-6ddfe182c3b5",
   "metadata": {},
   "outputs": [
    {
     "name": "stdout",
     "output_type": "stream",
     "text": [
      "2.1777725219726562\n",
      "0.012539386749267578\n"
     ]
    }
   ],
   "source": [
    "print(np.median(testrun[0][0]))\n",
    "print(iqr(testrun[0][0])/2)"
   ]
  },
  {
   "cell_type": "code",
   "execution_count": 9,
   "id": "a1022ecd-e3fd-42ab-b42a-ae8cfdd002f8",
   "metadata": {},
   "outputs": [
    {
     "name": "stdout",
     "output_type": "stream",
     "text": [
      "0.9999993605854289\n",
      "5.616854239498537e-07\n"
     ]
    }
   ],
   "source": [
    "print(np.median(testrun[1][0]))\n",
    "print(iqr(testrun[1][0])/2)"
   ]
  },
  {
   "cell_type": "code",
   "execution_count": 10,
   "id": "fe404b69-eeef-44fd-9d40-978a97850c22",
   "metadata": {},
   "outputs": [
    {
     "name": "stdout",
     "output_type": "stream",
     "text": [
      "2.6411949396133423\n",
      "0.020820438861846924\n"
     ]
    }
   ],
   "source": [
    "print(np.median(testrun[0][1]))\n",
    "print(iqr(testrun[0][1])/2)"
   ]
  },
  {
   "cell_type": "code",
   "execution_count": 11,
   "id": "986c9110-dab4-46b3-9805-98eb880f6074",
   "metadata": {},
   "outputs": [
    {
     "name": "stdout",
     "output_type": "stream",
     "text": [
      "0.9999999197081051\n",
      "1.70570781610202e-07\n"
     ]
    }
   ],
   "source": [
    "print(np.median(testrun[1][1]))\n",
    "print(iqr(testrun[1][1])/2)"
   ]
  },
  {
   "cell_type": "code",
   "execution_count": 12,
   "id": "42f273d6-948e-48a8-bfac-e11cf596147e",
   "metadata": {},
   "outputs": [
    {
     "name": "stdout",
     "output_type": "stream",
     "text": [
      "5.617701768875122\n",
      "0.058467209339141846\n"
     ]
    }
   ],
   "source": [
    "print(np.median(testrun[0][2]))\n",
    "print(iqr(testrun[0][2])/2)"
   ]
  },
  {
   "cell_type": "code",
   "execution_count": 16,
   "id": "45a29567-6976-44b8-bfa6-37f4ba85e49d",
   "metadata": {},
   "outputs": [
    {
     "name": "stdout",
     "output_type": "stream",
     "text": [
      "0.9999999849002461\n",
      "3.196159875651361e-08\n"
     ]
    }
   ],
   "source": [
    "print(np.median(testrun[1][2]))\n",
    "print(iqr(testrun[1][2])/2)"
   ]
  },
  {
   "cell_type": "code",
   "execution_count": null,
   "id": "8ecc6489-6f54-4b7f-b42e-4037687be5c3",
   "metadata": {},
   "outputs": [],
   "source": []
  }
 ],
 "metadata": {
  "kernelspec": {
   "display_name": "Python 3 (ipykernel)",
   "language": "python",
   "name": "python3"
  },
  "language_info": {
   "codemirror_mode": {
    "name": "ipython",
    "version": 3
   },
   "file_extension": ".py",
   "mimetype": "text/x-python",
   "name": "python",
   "nbconvert_exporter": "python",
   "pygments_lexer": "ipython3",
   "version": "3.8.8"
  }
 },
 "nbformat": 4,
 "nbformat_minor": 5
}
